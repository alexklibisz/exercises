{
 "cells": [
  {
   "cell_type": "markdown",
   "metadata": {},
   "source": [
    "# Convolutional Neural Network Notes\n",
    "\n",
    "## Concepts\n",
    "\n",
    "### Convolution\n",
    "\n",
    "### Local Receptive Fields\n",
    "\n",
    "### Shared Weights and Biases\n",
    "\n",
    "### Convolutional Layer\n",
    "\n",
    "### Pooling Layer\n",
    "\n",
    "### Network-in-network Layers\n",
    "\n",
    "### Structure\n",
    "\n",
    "## Applications\n",
    "\n",
    "### Classification\n",
    "\n",
    "### Localization\n",
    "\n",
    "### Detection\n",
    "\n",
    "### Segmentation"
   ]
  }
 ],
 "metadata": {
  "anaconda-cloud": {},
  "kernelspec": {
   "display_name": "Python [default]",
   "language": "python",
   "name": "python2"
  },
  "language_info": {
   "codemirror_mode": {
    "name": "ipython",
    "version": 2
   },
   "file_extension": ".py",
   "mimetype": "text/x-python",
   "name": "python",
   "nbconvert_exporter": "python",
   "pygments_lexer": "ipython2",
   "version": "2.7.12"
  }
 },
 "nbformat": 4,
 "nbformat_minor": 1
}
