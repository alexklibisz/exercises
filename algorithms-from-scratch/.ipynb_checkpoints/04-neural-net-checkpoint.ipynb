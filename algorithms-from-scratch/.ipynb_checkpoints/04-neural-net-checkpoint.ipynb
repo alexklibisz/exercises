{
 "cells": [
  {
   "cell_type": "markdown",
   "metadata": {},
   "source": [
    "# Artificial Neural Network from Scratch\n",
    "\n",
    "\n",
    "Implementation based on: http://www.johnwittenauer.net/machine-learning-exercises-in-python-part-5/ and Andrew NG's Coursera Course weeks 4 and 5.\n"
   ]
  },
  {
   "cell_type": "code",
   "execution_count": 183,
   "metadata": {
    "collapsed": false
   },
   "outputs": [],
   "source": [
    "# Functions that comprise the neural net.\n",
    "import numpy as np\n",
    "\n",
    "def sigmoid(z):\n",
    "    '''Vectorized sigmoid activation function.\n",
    "    Takes a numpy array of input/weight products and computes\n",
    "    the sigmoid activation over them. Formally:\n",
    "    \n",
    "                1\n",
    "    g(z) = -----------\n",
    "            1 + e^-z\n",
    "    \n",
    "    '''\n",
    "    \n",
    "    return 1 / (1 + np.exp(-z))\n",
    "\n",
    "def forward_prop(X, Theta):\n",
    "    '''Forward propogation for a single X sample over a variable number of hidden layers.\n",
    "    Takes a single X sample and a list of theta matrices, one for each layer.\n",
    "    Assumes all nodes are connected and a single bias node in each layer.\n",
    "    '''\n",
    "    \n",
    "    L = len(Theta) + 1      # Number of layers including h(x).\n",
    "    Z = [None] * L          # Each Z[n] is the product (Theta[n] * A[n-1])\n",
    "    A = [None] * L          # Each A[n] is bias + sigmoid(Z[n])\n",
    "    bias = np.array([[1]])  # Bias will be prepended to each A[n].\n",
    "    \n",
    "    # Formality: Z[0] and A[0] are the input matrix.\n",
    "    Z[0] = X\n",
    "    A[0] = np.concatenate((bias, Z[0]))\n",
    "    \n",
    "    # Compute each of the layers.\n",
    "    for i in range(1,L):\n",
    "        Z[i] = np.dot(Theta[i-1], A[i-1])\n",
    "        A[i] = np.concatenate((bias, sigmoid(Z[i])))\n",
    "    \n",
    "    # Hypothesis is just the last activation without its bias.\n",
    "    h = A[-1][1:,:]\n",
    "    \n",
    "    return A, Z, h\n",
    "\n",
    "def forward_prop_multi(X, Theta):\n",
    "    '''Wrapper to evaluate forward_prop over multiple X samples\n",
    "    '''\n",
    "    A_multi = []\n",
    "    Z_multi = []\n",
    "    h_multi = []\n",
    "    for x in X:\n",
    "        A, Z, h = forward_prop(x, Theta)\n",
    "        A_multi.append(A)\n",
    "        Z_multi.append(Z)\n",
    "        h_multi.append(h)\n",
    "    return np.array(A_multi), np.array(Z_multi), np.array(h_multi)\n",
    "\n",
    "def reshape_weights(weights, layer_dims):\n",
    "    '''Creates Theta, a list of theta matrices that\n",
    "    should be applied for forward_prop.\n",
    "    Assumes len(layer_dims) = len(weights) + 1.\n",
    "    '''\n",
    "    # Reshape weights into Theta matrices.\n",
    "    # A layer with n nodes and 1 bias mapping to a layer with\n",
    "    # m nodes and 1 bias creates an (m by n + 1) matrix.\n",
    "    Theta = []\n",
    "    for i in range(len(weights)):\n",
    "        n = layer_dims[i]\n",
    "        m = layer_dims[i+1]\n",
    "        reshaped = np.reshape(weights[i], (m, n + 1))\n",
    "        Theta.append(reshaped)\n",
    "    return np.array(Theta)\n",
    "\n",
    "def compute_cost(X, y, Theta, reg_term = 0.001):\n",
    "    '''Uses forward prop to evaluate the cost (J) of the given\n",
    "    Theta for all examples in X.  Evaluates forward_prop(X,Theta) \n",
    "    and computes the cost of the result relative y.\n",
    "    A vectorized implementation would probably be faster,\n",
    "    but arguably less readable.\n",
    "    '''\n",
    "    \n",
    "    L = Theta.shape[0] # Number of layers.\n",
    "    n = X.shape[0]     # Number of samples (e.g. 5000 images, n = 5000)\n",
    "    m = X.shape[1]     # Number of features (e.g. m = 400 pixels in a 20x20 image).\n",
    "    K = y.shape[1]     # Number of classes (e.g. 10 digits = 10)\n",
    "    \n",
    "    # Evaluate forward prop for all samples x in X.\n",
    "    _, _, h = forward_prop_multi(X, Theta)\n",
    "    \n",
    "    # Compute error summation.\n",
    "    errsum = 0\n",
    "    for i in range(m):\n",
    "        for k in range(K):\n",
    "            errsum += y[i][k] * np.log(h[i][k]) + (1 - y[i][k]) * np.log(1 - (h[i][k]))\n",
    "    \n",
    "    # Compute regularization summation.\n",
    "    # Sum of all thetas except the bias node thetas.\n",
    "    # This means you leave out the 0th column.\n",
    "    regsum = 0\n",
    "    for t in Theta:\n",
    "        regsum += np.sum(t[:,1:])\n",
    "    \n",
    "    J = (-1 / m) * errsum + (float(reg_term / (2 * m)) * regsum)\n",
    "    \n",
    "    return J\n",
    "\n",
    "\n",
    "def back_prop():\n",
    "    return\n",
    "    "
   ]
  },
  {
   "cell_type": "code",
   "execution_count": 184,
   "metadata": {
    "collapsed": false
   },
   "outputs": [
    {
     "data": {
      "image/png": "[encoded data removed]",
      "text/plain": [
       "<matplotlib.figure.Figure at 0x7ff57daeb438>"
      ]
     },
     "metadata": {},
     "output_type": "display_data"
    },
    {
     "name": "stdout",
     "output_type": "stream",
     "text": [
      "forward prop hypothesis =  [[ 0.87824242]]\n",
      "computed cost = 0.791240\n"
     ]
    }
   ],
   "source": [
    "# Function examples\n",
    "import numpy as np\n",
    "import matplotlib.pyplot as plt\n",
    "from math import ceil,floor\n",
    "%matplotlib inline\n",
    "\n",
    "# Sigmoid activation function example\n",
    "z = np.random.rand(100,1) * 100 % 20 -10\n",
    "g = sigmoid(z)\n",
    "plt.title('Sigmoid activation example')\n",
    "plt.xlabel('Random value in [%d, %d]' % (floor(min(z)), ceil(max(z))))\n",
    "plt.ylabel('Activation output')\n",
    "plt.plot(z, g, 'b.')\n",
    "plt.xlim(-10,10)\n",
    "plt.ylim(-0.2,1.2)\n",
    "plt.show()\n",
    "\n",
    "# Forward propogation and reshape function example.\n",
    "# Follows the example from coursera machine learning week 3.\n",
    "# 3 inputs, one hidden-layer with 3 nodes, one output node.\n",
    "X = np.matrix([[0.3], [0.4], [0.5]]) # 3 X inputs as a column vector.\n",
    "layer_dims = [\n",
    "    3, # Layer 0 has 3 nodes.\n",
    "    3, # Layer 1 has 3 nodes.\n",
    "    1, # Layer 2 has 1 node.\n",
    "    1, # Hypothesis is 1 node.\n",
    "]\n",
    "weights = np.array([\n",
    "    np.ones(12), # (3 nodes, 1 bias) -> (3 nodes)\n",
    "    np.ones(4),  # (3 nodes, 1 bias) -> (1 node)\n",
    "    np.ones(2),  # (1 node, 1 bias) -> (1 node)\n",
    "])\n",
    "Theta = reshape_weights(weights, layer_dims)\n",
    "A, Z, h = forward_prop(X, Theta)\n",
    "print('forward prop hypothesis = ', h)\n",
    "\n",
    "# Cost function example.\n",
    "# Same as above, assume that the correct hypothesis is 1 \n",
    "# (e.g. True in binary classification).\n",
    "X_multi = np.array([\n",
    "    X + 0.1,\n",
    "    X + 0.2,\n",
    "    X + 0.3\n",
    "])\n",
    "y_multi = np.array([\n",
    "    [1],\n",
    "    [0],\n",
    "    [1]\n",
    "])\n",
    "cost = compute_cost(X_multi, y_multi, Theta)\n",
    "print('computed cost = %lf' % cost)\n"
   ]
  },
  {
   "cell_type": "code",
   "execution_count": 124,
   "metadata": {
    "collapsed": false
   },
   "outputs": [
    {
     "name": "stdout",
     "output_type": "stream",
     "text": [
      "Inputs (X): 5000 images, 400 pixels (unfolded)\n",
      "Labels (y): 5000 labels, 10 unique\n",
      "Labels onehot-encoded 5000 x 10\n"
     ]
    }
   ],
   "source": [
    "# Reading data and using the neural net.\n",
    "import numpy as np\n",
    "import pandas as pd\n",
    "import matplotlib.pyplot as plt\n",
    "from scipy.io import loadmat\n",
    "from sklearn.preprocessing import OneHotEncoder\n",
    "%matplotlib inline\n",
    "\n",
    "# Read data into X and y vectors.\n",
    "data = loadmat('data/ex3data1.mat')\n",
    "X = data['X']\n",
    "y = data['y']\n",
    "\n",
    "# Understand the data dimensions.\n",
    "print('Inputs (X): %d images, %d pixels (unfolded)' % (X.shape[0], X.shape[1]))\n",
    "print('Labels (y): %d labels, %d unique' % (y.shape[0], len(np.unique(y))))\n",
    "\n",
    "# Onehot-encoding turns y into a matrix where\n",
    "# each row has a 1 in the position corresponding\n",
    "# to the label, 0s everywhere else.\n",
    "encoder = OneHotEncoder(sparse=False)\n",
    "y_onehot = encoder.fit_transform(y)\n",
    "print('Labels onehot-encoded %d x %d' % y_onehot.shape)\n"
   ]
  },
  {
   "cell_type": "code",
   "execution_count": 109,
   "metadata": {
    "collapsed": false
   },
   "outputs": [
    {
     "name": "stdout",
     "output_type": "stream",
     "text": [
      "[ 1.  1.  1.  1.  1.  1.  1.  1.  1.  1.]\n",
      "[[ 1.  1.]\n",
      " [ 1.  1.]\n",
      " [ 1.  1.]\n",
      " [ 1.  1.]\n",
      " [ 1.  1.]]\n"
     ]
    }
   ],
   "source": [
    "# Scratch area\n",
    "import numpy as np\n",
    "\n",
    "a = np.ones(10)\n",
    "b = np.reshape(a, (5,2))\n",
    "print(a)\n",
    "print(b)"
   ]
  }
 ],
 "metadata": {
  "anaconda-cloud": {},
  "kernelspec": {
   "display_name": "Python [default]",
   "language": "python",
   "name": "python3"
  },
  "language_info": {
   "codemirror_mode": {
    "name": "ipython",
    "version": 3
   },
   "file_extension": ".py",
   "mimetype": "text/x-python",
   "name": "python",
   "nbconvert_exporter": "python",
   "pygments_lexer": "ipython3",
   "version": "3.5.2"
  }
 },
 "nbformat": 4,
 "nbformat_minor": 0
}
