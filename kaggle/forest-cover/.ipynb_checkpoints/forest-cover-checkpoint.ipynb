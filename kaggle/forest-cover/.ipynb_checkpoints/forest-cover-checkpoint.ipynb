{
 "cells": [
  {
   "cell_type": "code",
   "execution_count": null,
   "metadata": {
    "collapsed": true
   },
   "outputs": [],
   "source": [
    "import pandas as pd\n",
    "import numpy as np\n",
    "from sklearn import cross_validation\n",
    "import matplotlib.pyplot as plt\n",
    "from sklearn.ensemble import AdaBoostClassifier, GradientBoostingClassifier, RandomForestClassifier, ExtraTreesClassifier\n",
    "%matplotlib inline\n",
    "np.random.seed(9)"
   ]
  },
  {
   "cell_type": "code",
   "execution_count": null,
   "metadata": {
    "collapsed": false
   },
   "outputs": [],
   "source": [
    "fname = 'train.csv'\n",
    "df = pd.read_csv(fname)"
   ]
  },
  {
   "cell_type": "code",
   "execution_count": null,
   "metadata": {
    "collapsed": false
   },
   "outputs": [],
   "source": [
    "# Some descriptive statistics\n",
    "# Correlation matrix, looks like the majority of variables are not significantly correlated.\n",
    "corr = df.corr()\n",
    "fig = plt.figure()\n",
    "ax = fig.add_subplot(111)\n",
    "cax = ax.matshow(corr, vmin=-1, vmax=1, interpolation='none')\n",
    "fig.colorbar(cax)\n",
    "plt.suptitle('Correlation matrix')\n",
    "plt.show()\n",
    "\n",
    "# Data types - all integers\n",
    "print(df.dtypes)\n",
    "\n",
    "# Classification count - 2160 of each\n",
    "print(df.groupby('Cover_Type').size())"
   ]
  },
  {
   "cell_type": "code",
   "execution_count": null,
   "metadata": {
    "collapsed": true
   },
   "outputs": [],
   "source": [
    "# Split data for testing and validation\n",
    "array = df.values\n",
    "X = array[:,0:54]\n",
    "Y = array[:,55]\n",
    "\n",
    "Xtrn, Xval, Ytrn, Yval = cross_validation.train_test_split(X, Y, test_size=0.3)"
   ]
  },
  {
   "cell_type": "code",
   "execution_count": null,
   "metadata": {
    "collapsed": false
   },
   "outputs": [],
   "source": [
    "# Spot-checking ensemble methods\n",
    "scoring = 'accuracy'\n",
    "names = []\n",
    "results = []\n",
    "estimators = []\n",
    "ensembles = [\n",
    "    #('Adaboost', AdaBoostClassifier()),\n",
    "    ('Gradboost', GradientBoostingClassifier()),\n",
    "    #('Randfor', RandomForestClassifier()),\n",
    "    #('Extratree', ExtraTreesClassifier())\n",
    "]\n",
    "for name, model in ensembles:\n",
    "    kfold = cross_validation.KFold(n=len(Xtrn),n_folds=10)\n",
    "    cvres = cross_validation.cross_val_score(model,Xtrn,Ytrn,cv=kfold,scoring=scoring)\n",
    "    results.append(cvres)\n",
    "    names.append(name)\n",
    "    estimators.append(model)\n",
    "    print(\"%s: %f, %f\" % (name, cvres.mean(), cvres.std()))"
   ]
  }
 ],
 "metadata": {
  "anaconda-cloud": {},
  "kernelspec": {
   "display_name": "Python [Root]",
   "language": "python",
   "name": "Python [Root]"
  },
  "language_info": {
   "codemirror_mode": {
    "name": "ipython",
    "version": 3
   },
   "file_extension": ".py",
   "mimetype": "text/x-python",
   "name": "python",
   "nbconvert_exporter": "python",
   "pygments_lexer": "ipython3",
   "version": "3.5.2"
  }
 },
 "nbformat": 4,
 "nbformat_minor": 0
}
