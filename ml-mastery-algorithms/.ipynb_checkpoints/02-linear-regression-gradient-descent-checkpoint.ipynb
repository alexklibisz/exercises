{
 "cells": [
  {
   "cell_type": "markdown",
   "metadata": {},
   "source": [
    "# Linear Regression with Gradient Descent\n",
    "\n",
    "Practicing linear regression with gradient descent implemented from scratch.\n",
    "\n",
    "Data taken from UCI Auto MPG dataset: https://archive.ics.uci.edu/ml/datasets/Auto+MPG\n",
    "\n",
    "Using **auto weight** to predict **mpg**."
   ]
  },
  {
   "cell_type": "markdown",
   "metadata": {},
   "source": [
    "## Implement Gradient Descent\n",
    "\n",
    "Following the videos in on Coursera (http://coursera.org/learn/machine-learning/) week two and this stack overflow question: http://stackoverflow.com/questions/17784587.\n",
    "\n",
    "Used the sklearn preprocessing library to scale the inputs."
   ]
  },
  {
   "cell_type": "code",
   "execution_count": 2,
   "metadata": {
    "collapsed": false
   },
   "outputs": [],
   "source": [
    "from sklearn.metrics import mean_squared_error\n",
    "import numpy as np\n",
    "import random\n",
    "\n",
    "class MyGradientDescent():\n",
    "    \n",
    "    def __init__(self):\n",
    "        self._theta = None\n",
    "        \n",
    "    def fit(self, x, y, alpha = 0.0005, numIter = 10000, verbose=False):\n",
    "        '''\n",
    "        Parameters\n",
    "        ----------\n",
    "\n",
    "        x: m by n numpy feature matrix, one row per sample\n",
    "        y: m by 1 numpy response variable column vector, one row per sample\n",
    "        alpha: learning rate\n",
    "        numIter: max number of iterations to run\n",
    "        verbose: if True, this function will print the mse every 100 iterations\n",
    "        '''\n",
    "    \n",
    "        # m is the number of samples.\n",
    "        # n is the number of features.\n",
    "        m, n = x.shape\n",
    "\n",
    "        # Copy, scale, and prepend x and theta with a column of ones.\n",
    "        # Explained here: http://stats.stackexchange.com/questions/181603\n",
    "        x = x.copy()\n",
    "        x = self._scale(x)\n",
    "        x = np.column_stack((np.ones(shape=(m,1)),x))\n",
    "        self._theta = np.ones(n + 1)\n",
    "        \n",
    "        # Transpose for multiplication. xT is n * m.\n",
    "        xT = x.transpose()\n",
    "\n",
    "        for i in range(0, numIter):\n",
    "\n",
    "            # Get the current hypothesis by multiplying the feature matrix by the theta weights.\n",
    "            # x dot theta is (m by n) * (n by 1)\n",
    "            hypothesis = np.dot(x, self._theta)\n",
    "\n",
    "            # Calculate the error from this hypothesis.\n",
    "            # This is vectorized, error will be (m by 1)\n",
    "            error = hypothesis - y\n",
    "            \n",
    "            # Get mean squared error, helpful for printing for each iteration.\n",
    "            if verbose:\n",
    "                if i % 100 == 0:\n",
    "                    mse = mean_squared_error(hypothesis, y)\n",
    "                    print('iteration %d | mse %f' % (i, mse))\n",
    "\n",
    "            # Calculate the gradient, gradient will be (m by 1).\n",
    "            gradient = (1/m) * np.dot(xT, error)\n",
    "\n",
    "            # Update the weights based on the gradient.\n",
    "            self._theta = self._theta - (alpha * gradient)\n",
    "        \n",
    "        return self._theta\n",
    "    \n",
    "    def predict(self, x):\n",
    "        m, n = x.shape\n",
    "        ones = np.ones(shape=(m,1))\n",
    "        x_scaled = self._scale(x)\n",
    "        x_ones = np.column_stack((ones,x_scaled))\n",
    "        return np.dot(x_ones, self._theta)\n",
    "    \n",
    "    def _mse(self, A, B):\n",
    "        return np.sum((A - B) ** 2) / A.shape[0]\n",
    "    \n",
    "    def _scale(self, A):\n",
    "        return (A - np.mean(A)) / np.std(A)"
   ]
  },
  {
   "cell_type": "markdown",
   "metadata": {},
   "source": [
    "## Load the Data\n",
    "\n",
    "Using weight as the feature and mpg as the dependent variable.\n",
    "\n",
    "It's important to center this data (mean of 0, stddev of 1). If you don't center the data, the linear regression will not converge - at least not with the parameters set here. You'll see that the MyLinearRegression class takes care of the centering, as does the Scikit-Learn LinearRegression class."
   ]
  },
  {
   "cell_type": "code",
   "execution_count": 3,
   "metadata": {
    "collapsed": false
   },
   "outputs": [
    {
     "data": {
      "image/png": "[encoded data removed]",
      "text/plain": [
       "<matplotlib.figure.Figure at 0x7f9decd3ce80>"
      ]
     },
     "metadata": {},
     "output_type": "display_data"
    }
   ],
   "source": [
    "import pandas as pd\n",
    "import matplotlib.pyplot as plt\n",
    "%matplotlib inline\n",
    "\n",
    "names = ['mpg', 'cylinders', 'displacement', 'horsepower', 'weight', 'acceleration', 'model_year', 'origin', 'name']\n",
    "df = pd.read_csv('./data/auto-mpg.data', names=names, header=None, delim_whitespace=True)\n",
    "\n",
    "x = df[['weight']].values\n",
    "y = df['mpg'].values\n",
    "\n",
    "plt.title('Loaded Data')\n",
    "plt.xlabel('weight')\n",
    "plt.ylabel('mpg')\n",
    "plt.plot(x, y, 'r.')\n",
    "plt.show()"
   ]
  },
  {
   "cell_type": "markdown",
   "metadata": {},
   "source": [
    "## Predict a Line of Best Fit\n",
    "\n",
    "Note - there is no test/train split here, just fitting a line through all the data.\n"
   ]
  },
  {
   "cell_type": "code",
   "execution_count": 4,
   "metadata": {
    "collapsed": false
   },
   "outputs": [
    {
     "ename": "NameError",
     "evalue": "name 'preprocessing' is not defined",
     "output_type": "error",
     "traceback": [
      "\u001b[0;31m---------------------------------------------------------------------------\u001b[0m",
      "\u001b[0;31mNameError\u001b[0m                                 Traceback (most recent call last)",
      "\u001b[0;32m<ipython-input-4-607207869668>\u001b[0m in \u001b[0;36m<module>\u001b[0;34m()\u001b[0m\n\u001b[1;32m      3\u001b[0m \u001b[0mmodel\u001b[0m \u001b[0;34m=\u001b[0m \u001b[0mMyGradientDescent\u001b[0m\u001b[0;34m(\u001b[0m\u001b[0;34m)\u001b[0m\u001b[0;34m\u001b[0m\u001b[0m\n\u001b[1;32m      4\u001b[0m \u001b[0mmodel\u001b[0m\u001b[0;34m.\u001b[0m\u001b[0mfit\u001b[0m\u001b[0;34m(\u001b[0m\u001b[0mx\u001b[0m\u001b[0;34m,\u001b[0m \u001b[0my\u001b[0m\u001b[0;34m,\u001b[0m \u001b[0mverbose\u001b[0m\u001b[0;34m=\u001b[0m\u001b[0;32mFalse\u001b[0m\u001b[0;34m,\u001b[0m \u001b[0mnumIter\u001b[0m\u001b[0;34m=\u001b[0m\u001b[0;36m20000\u001b[0m\u001b[0;34m)\u001b[0m\u001b[0;34m\u001b[0m\u001b[0m\n\u001b[0;32m----> 5\u001b[0;31m \u001b[0mpredicted\u001b[0m \u001b[0;34m=\u001b[0m \u001b[0mmodel\u001b[0m\u001b[0;34m.\u001b[0m\u001b[0mpredict\u001b[0m\u001b[0;34m(\u001b[0m\u001b[0mx\u001b[0m\u001b[0;34m)\u001b[0m\u001b[0;34m\u001b[0m\u001b[0m\n\u001b[0m\u001b[1;32m      6\u001b[0m \u001b[0mmse\u001b[0m \u001b[0;34m=\u001b[0m \u001b[0mmean_squared_error\u001b[0m\u001b[0;34m(\u001b[0m\u001b[0mpredicted\u001b[0m\u001b[0;34m,\u001b[0m\u001b[0my\u001b[0m\u001b[0;34m)\u001b[0m\u001b[0;34m\u001b[0m\u001b[0m\n\u001b[1;32m      7\u001b[0m \u001b[0;34m\u001b[0m\u001b[0m\n",
      "\u001b[0;32m<ipython-input-2-4ab180f8f80b>\u001b[0m in \u001b[0;36mpredict\u001b[0;34m(self, x)\u001b[0m\n\u001b[1;32m     61\u001b[0m         \u001b[0mm\u001b[0m\u001b[0;34m,\u001b[0m \u001b[0mn\u001b[0m \u001b[0;34m=\u001b[0m \u001b[0mx\u001b[0m\u001b[0;34m.\u001b[0m\u001b[0mshape\u001b[0m\u001b[0;34m\u001b[0m\u001b[0m\n\u001b[1;32m     62\u001b[0m         \u001b[0mones\u001b[0m \u001b[0;34m=\u001b[0m \u001b[0mnp\u001b[0m\u001b[0;34m.\u001b[0m\u001b[0mones\u001b[0m\u001b[0;34m(\u001b[0m\u001b[0mshape\u001b[0m\u001b[0;34m=\u001b[0m\u001b[0;34m(\u001b[0m\u001b[0mm\u001b[0m\u001b[0;34m,\u001b[0m\u001b[0;36m1\u001b[0m\u001b[0;34m)\u001b[0m\u001b[0;34m)\u001b[0m\u001b[0;34m\u001b[0m\u001b[0m\n\u001b[0;32m---> 63\u001b[0;31m         \u001b[0mx_scaled\u001b[0m \u001b[0;34m=\u001b[0m \u001b[0mpreprocessing\u001b[0m\u001b[0;34m.\u001b[0m\u001b[0mscale\u001b[0m\u001b[0;34m(\u001b[0m\u001b[0mx\u001b[0m\u001b[0;34m)\u001b[0m\u001b[0;34m\u001b[0m\u001b[0m\n\u001b[0m\u001b[1;32m     64\u001b[0m         \u001b[0mx_ones\u001b[0m \u001b[0;34m=\u001b[0m \u001b[0mnp\u001b[0m\u001b[0;34m.\u001b[0m\u001b[0mcolumn_stack\u001b[0m\u001b[0;34m(\u001b[0m\u001b[0;34m(\u001b[0m\u001b[0mones\u001b[0m\u001b[0;34m,\u001b[0m\u001b[0mx_scaled\u001b[0m\u001b[0;34m)\u001b[0m\u001b[0;34m)\u001b[0m\u001b[0;34m\u001b[0m\u001b[0m\n\u001b[1;32m     65\u001b[0m         \u001b[0;32mreturn\u001b[0m \u001b[0mnp\u001b[0m\u001b[0;34m.\u001b[0m\u001b[0mdot\u001b[0m\u001b[0;34m(\u001b[0m\u001b[0mx_ones\u001b[0m\u001b[0;34m,\u001b[0m \u001b[0mself\u001b[0m\u001b[0;34m.\u001b[0m\u001b[0m_theta\u001b[0m\u001b[0;34m)\u001b[0m\u001b[0;34m\u001b[0m\u001b[0m\n",
      "\u001b[0;31mNameError\u001b[0m: name 'preprocessing' is not defined"
     ]
    }
   ],
   "source": [
    "from sklearn.metrics import mean_squared_error\n",
    "\n",
    "model = MyGradientDescent()\n",
    "model.fit(x, y, verbose=False, numIter=20000)\n",
    "predicted = model.predict(x)\n",
    "mse = mean_squared_error(predicted,y)\n",
    "\n",
    "plt.title('Data with LOBF')\n",
    "plt.plot(x, y, 'b.')\n",
    "plt.plot(x, predicted, 'r.')\n",
    "plt.show()\n",
    "\n",
    "print('mse = %lf' % (mse))"
   ]
  },
  {
   "cell_type": "markdown",
   "metadata": {},
   "source": [
    "## Compare to Scikit-Learn Implementation\n",
    "\n",
    "Scikit learn has a solid LinearRegression implementation. Let's compare the mean squared error.\n",
    "\n",
    "They both evaluate to a mean squared error ~18.78."
   ]
  },
  {
   "cell_type": "code",
   "execution_count": null,
   "metadata": {
    "collapsed": false
   },
   "outputs": [],
   "source": [
    "from sklearn.linear_model import LinearRegression\n",
    "from sklearn.metrics import mean_squared_error\n",
    "\n",
    "model = LinearRegression()\n",
    "model.fit(x,y)\n",
    "\n",
    "predicted = model.predict(x)\n",
    "mse = mean_squared_error(predicted, y)\n",
    "\n",
    "plt.title('Data with LOBF (Scikit Learn Implementation)')\n",
    "plt.plot(x, y, 'b.')\n",
    "plt.plot(x, predicted, 'r.')\n",
    "plt.show()\n",
    "\n",
    "print('mse = %lf' % (mse))"
   ]
  },
  {
   "cell_type": "markdown",
   "metadata": {},
   "source": [
    "## Scratch Code\n",
    "\n",
    "Disregard the code below. This was a prior implementation."
   ]
  },
  {
   "cell_type": "code",
   "execution_count": null,
   "metadata": {
    "collapsed": false
   },
   "outputs": [],
   "source": [
    "import numpy as np\n",
    "import random\n",
    "\n",
    "def gradientDescent(x, y, alpha, numIter):\n",
    "    '''\n",
    "    Parameters\n",
    "    ----------\n",
    "    \n",
    "    x: m by n numpy feature matrix, one row per sample\n",
    "    y: m by 1 numpy response variable column vector, one row per sample\n",
    "    theta: n by 1 feature weights\n",
    "    alpha: learning rate\n",
    "    numIter: max number of iterations to run\n",
    "    \n",
    "    '''\n",
    "    # m is the number of samples.\n",
    "    # n is the number of features.\n",
    "    m, n = x.shape\n",
    "    \n",
    "    # Make a copy of x and prepend x and theta with a column of ones.\n",
    "    # Explained here: http://stats.stackexchange.com/questions/181603\n",
    "    x = x.copy()\n",
    "    x = np.column_stack((np.ones(shape=(m,1)),x))\n",
    "    theta = np.ones(n + 1)\n",
    "    \n",
    "    \n",
    "    # Transpose for multiplication. xT is n * m.\n",
    "    xT = x.transpose()\n",
    "    \n",
    "    for i in range(0, numIter):\n",
    "        \n",
    "        # Get the current hypothesis by multiplying the feature matrix by the theta weights.\n",
    "        # x dot theta is (m by n) * (n by 1)\n",
    "        hypothesis = np.dot(x, theta)\n",
    "                \n",
    "        # Calculate the error from this hypothesis.\n",
    "        # This is vectorized, error will be (m by 1)\n",
    "        error = hypothesis - y\n",
    "        \n",
    "        # Get mean squared error, helpful for printing for each iteration.\n",
    "        # if i % 100 == 0:\n",
    "            # meanSquaredError = np.sum(error ** 2) / (2*m)\n",
    "            # print('iteration %d | cost %f' % (i, meanSquaredError))\n",
    "        \n",
    "        # Calculate the gradient, gradient will be (m by 1).\n",
    "        gradient = (1/m) * np.dot(xT, error)\n",
    "        \n",
    "        # Update the weights based on the gradient.\n",
    "        theta = theta - (alpha * gradient)\n",
    "    \n",
    "    # Return the last m columns.\n",
    "    return theta\n",
    "\n",
    "def predict(x, theta):\n",
    "    # x gets copied and pre-prended with a column of ones.\n",
    "    x = x.copy()\n",
    "    x = np.column_stack((np.ones(shape=(m,1)),x))\n",
    "    prediction = np.dot(x,theta)\n",
    "    return prediction\n",
    "    \n",
    "\n",
    "def randomData(numSamples, numFeatures, bias, variance):\n",
    "    x = np.zeros(shape=(numSamples, numFeatures))\n",
    "    y = np.zeros(shape=numSamples)\n",
    "    # basically a straight line\n",
    "    for i in range(0, numSamples):\n",
    "        for j in range(0, numFeatures):\n",
    "            dist = random.uniform(0,20)\n",
    "            x[i][j] = i + random.uniform(-dist,dist)\n",
    "        # Target variable\n",
    "        y[i] = (i + bias) + random.uniform(0, 1) * variance\n",
    "    return x, y\n",
    "\n",
    "x, y = randomData(100, 1, 25, 20)\n",
    "m, n = np.shape(x)\n",
    "alpha = 0.0005\n",
    "numIter = 10000\n",
    "\n",
    "# Get the weights.\n",
    "theta = gradientDescent(x, y, alpha, numIter)\n",
    "predicted = predict(x, theta)\n",
    "\n",
    "# Plot\n",
    "plt.plot(x,y, 'b*')\n",
    "plt.plot(x,predicted,'r')"
   ]
  }
 ],
 "metadata": {
  "anaconda-cloud": {},
  "kernelspec": {
   "display_name": "Python [default]",
   "language": "python",
   "name": "python3"
  },
  "language_info": {
   "codemirror_mode": {
    "name": "ipython",
    "version": 3
   },
   "file_extension": ".py",
   "mimetype": "text/x-python",
   "name": "python",
   "nbconvert_exporter": "python",
   "pygments_lexer": "ipython3",
   "version": "3.5.2"
  }
 },
 "nbformat": 4,
 "nbformat_minor": 0
}
