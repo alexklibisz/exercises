{
 "cells": [
  {
   "cell_type": "markdown",
   "metadata": {},
   "source": [
    "# Logistic Regression\n",
    "\n",
    "Used for binary classification. LR training is typically implemented using maximum-likelihood estimation, but can also be done using gradient descent which is simpler."
   ]
  },
  {
   "cell_type": "code",
   "execution_count": 8,
   "metadata": {
    "collapsed": false
   },
   "outputs": [
    {
     "data": {
      "image/png": "[encoded data removed]",
      "text/plain": [
       "<matplotlib.figure.Figure at 0x7ff998a739e8>"
      ]
     },
     "metadata": {},
     "output_type": "display_data"
    }
   ],
   "source": [
    "# Logistic Function\n",
    "import matplotlib.pyplot as plt\n",
    "from math import exp\n",
    "\n",
    "def logistic(n):\n",
    "    return 1 / (1 + exp(-n))\n",
    "\n",
    "x = list(range(-10,11))\n",
    "y = list(map(logistic, x))\n",
    "\n",
    "plt.title('Logistic Function -10 to 10')\n",
    "plt.plot(x,y)\n",
    "plt.ylim(-0.2,1.2)\n",
    "plt.show()\n"
   ]
  },
  {
   "cell_type": "markdown",
   "metadata": {},
   "source": [
    "## Inference using Logistic Regression\n",
    "\n",
    "Similar to Linear Regression, we use the linear combination of the features and their weights. The resulting value is passed to the logistic function, which maps the value somewhere between 0 and 1. If it's closer to 1, it belongs to class 1. If it's closer to 0, it belongs to class 0."
   ]
  },
  {
   "cell_type": "code",
   "execution_count": 81,
   "metadata": {
    "collapsed": false
   },
   "outputs": [
    {
     "data": {
      "image/png": "[encoded data removed]",
      "text/plain": [
       "<matplotlib.figure.Figure at 0x7ff964969f60>"
      ]
     },
     "metadata": {},
     "output_type": "display_data"
    }
   ],
   "source": [
    "# Logistic Function\n",
    "import matplotlib.pyplot as plt\n",
    "import random\n",
    "from math import exp\n",
    "\n",
    "def logistic(n):\n",
    "    return 1 / (1 + exp(-n))\n",
    " \n",
    "# Initialize X and shuffle it.\n",
    "X = list(range(-5,6))\n",
    "random.shuffle(X)\n",
    "\n",
    "# Initialize a theta of random weights.\n",
    "theta = list(map(lambda x: random.uniform(-1,2), x))\n",
    "\n",
    "# Apply the weights with a bias term 1 to the X's to get the Y.\n",
    "# This gives you: Y[0] = 1 + theta[0] * X[0], ...\n",
    "Y = list(map(lambda p: logistic(1 + p[0]*p[1]), list(zip(theta, X))))\n",
    "   \n",
    "plt.title('Logistic Function -10 to 10')\n",
    "plt.plot(X,Y,'r.')\n",
    "plt.plot(X,[0.5]*len(X),'b')\n",
    "plt.ylim(-0.2,1.2)\n",
    "plt.show()"
   ]
  },
  {
   "cell_type": "markdown",
   "metadata": {},
   "source": [
    "## Scikit-Learn Logistic Regression Implementation on a Dataset\n",
    "\n",
    "Using the popular [Pima Indians Diabetes Dataset](https://archive.ics.uci.edu/ml/datasets/Pima+Indians+Diabetes) to predict whether the person has diabetes.\n",
    "\n"
   ]
  },
  {
   "cell_type": "code",
   "execution_count": 82,
   "metadata": {
    "collapsed": false
   },
   "outputs": [
    {
     "data": {
      "image/png": "[encoded data removed]",
      "text/plain": [
       "<matplotlib.figure.Figure at 0x7ff964a81588>"
      ]
     },
     "metadata": {},
     "output_type": "display_data"
    }
   ],
   "source": [
    "import pandas as pd\n",
    "import matplotlib.pyplot as plt\n",
    "from math import floor\n",
    "from sklearn.linear_model import LogisticRegression\n",
    "\n",
    "names = ['times_pregnant', 'plasma_glucose_concentration', 'diastolic_blood_pressure', 'triceps_skin_fold_thickness', 'serum_insulin', 'BMI', 'diabetes_pedigree_function', 'age', 'diabetes']\n",
    "df = pd.read_csv('./data/pima-indians-diabetes.data', names=names, header=None)\n",
    "\n",
    "X = df[['times_pregnant', 'plasma_glucose_concentration', 'BMI', 'age']].values\n",
    "Y = df['diabetes'].values\n",
    "\n",
    "# Split for training and testing.\n",
    "size = floor(X.shape[0] * 0.7)\n",
    "X_train = X[0:size]\n",
    "Y_train = Y[0:size]\n",
    "X_test = X[size:]\n",
    "Y_test = Y[size:]\n",
    "\n",
    "# Fit and evaluate the probabilities for the model.\n",
    "model = LogisticRegression()\n",
    "model.fit(X_train,Y_train)\n",
    "predicted = model.predict_proba(X_test)\n",
    "\n",
    "plt.plot(predicted, 'r.')\n",
    "plt.plot([0.5]*len(predicted), 'b-')\n",
    "plt.show()"
   ]
  },
  {
   "cell_type": "markdown",
   "metadata": {},
   "source": [
    "# My Logistic Regression Implementation on a Dataset\n",
    "\n",
    "Using the same dataset as the scikit-learn example above. Implemented as a class to emulate the scikit-learn interface."
   ]
  },
  {
   "cell_type": "code",
   "execution_count": 83,
   "metadata": {
    "collapsed": false
   },
   "outputs": [
    {
     "name": "stdout",
     "output_type": "stream",
     "text": [
      "[0, 0, 0, 0, 0, 1, 1, 1, 0, 0]\n",
      "[0, 0, 0, 0, 0, 1, 1, 1, 0, 0]\n",
      "[0, 0, 0, 0, 0, 1, 1, 1, 0, 0]\n",
      "[0, 0, 0, 0, 0, 1, 1, 1, 0, 0]\n",
      "[0, 0, 0, 0, 0, 1, 1, 1, 0, 0]\n",
      "[0, 0, 0, 0, 0, 1, 1, 1, 0, 0]\n",
      "[0, 0, 0, 0, 0, 1, 1, 1, 0, 0]\n",
      "[0, 0, 0, 0, 0, 1, 1, 1, 0, 0]\n",
      "[0, 0, 0, 0, 0, 1, 1, 1, 0, 0]\n",
      "[0, 0, 0, 0, 0, 1, 1, 1, 0, 0]\n",
      "[0, 0, 0, 0, 0, 1, 1, 1, 0, 0]\n",
      "[0, 0, 0, 0, 0, 1, 1, 1, 0, 0]\n",
      "[0, 0, 0, 0, 0, 1, 1, 1, 0, 0]\n",
      "[0, 0, 0, 0, 0, 1, 1, 1, 0, 1]\n",
      "[0, 0, 0, 0, 0, 0, 1, 1, 0, 1]\n",
      "[0, 0, 0, 0, 0, 0, 1, 1, 0, 1]\n",
      "[0, 0, 0, 0, 0, 0, 1, 1, 0, 1]\n",
      "[0, 0, 0, 0, 0, 0, 1, 1, 0, 1]\n",
      "[0, 0, 0, 0, 0, 0, 1, 1, 0, 1]\n",
      "[0, 0, 0, 0, 0, 0, 1, 1, 0, 1]\n",
      "[0, 0, 0, 0, 0, 0, 1, 1, 0, 1]\n",
      "[0, 0, 0, 0, 0, 0, 1, 1, 0, 1]\n",
      "[0, 0, 0, 0, 0, 0, 1, 1, 0, 1]\n",
      "[0, 0, 0, 0, 0, 0, 1, 1, 0, 1]\n",
      "[0, 0, 0, 0, 0, 0, 1, 1, 0, 1]\n",
      "[0, 0, 0, 0, 0, 0, 1, 1, 0, 1]\n",
      "[0, 0, 0, 0, 0, 0, 1, 1, 0, 1]\n",
      "[0, 0, 0, 0, 0, 0, 1, 1, 0, 1]\n",
      "[0, 0, 0, 0, 0, 0, 1, 1, 0, 1]\n",
      "[0, 0, 0, 0, 0, 0, 1, 1, 0, 1]\n",
      "[0, 0, 0, 0, 0, 0, 1, 1, 0, 1]\n",
      "[0, 0, 0, 0, 0, 0, 1, 1, 0, 1]\n",
      "[0, 0, 0, 0, 0, 0, 1, 1, 0, 1]\n",
      "[0, 0, 0, 0, 0, 0, 1, 1, 0, 1]\n",
      "[0, 0, 0, 0, 0, 0, 1, 1, 0, 1]\n",
      "[0, 0, 0, 0, 0, 0, 1, 1, 0, 1]\n",
      "[0, 0, 0, 0, 0, 0, 1, 1, 0, 1]\n",
      "[0, 0, 0, 0, 0, 0, 1, 1, 0, 1]\n",
      "[0, 0, 0, 0, 0, 0, 1, 1, 0, 1]\n",
      "[0, 0, 0, 0, 0, 0, 1, 1, 0, 1]\n",
      "[ 0.33332588  0.82930503  0.97863342  0.88169961  0.72343755]\n",
      "[nan, nan, nan, nan, nan, nan, nan, nan, nan, nan, nan, nan, nan, nan, nan, nan, nan, nan, nan, nan]\n"
     ]
    },
    {
     "data": {
      "image/png": "[encoded data removed]",
      "text/plain": [
       "<matplotlib.figure.Figure at 0x7ff9649d0f60>"
      ]
     },
     "metadata": {},
     "output_type": "display_data"
    }
   ],
   "source": [
    "import pandas as pd\n",
    "import numpy as np\n",
    "import matplotlib.pyplot as plt\n",
    "from math import floor, exp\n",
    "\n",
    "'''\n",
    "LR Class Implementation\n",
    "'''\n",
    "class LogisticRegression():\n",
    "    def __init__(self):\n",
    "        # The theta vector is maintained to \n",
    "        # go from fitting to evaluating.\n",
    "        self._theta = None\n",
    "        \n",
    "    def fit(self, X, Y, alpha = 0.0005, numIter = 4000, verbose=False):\n",
    "        '''Gradient descent used to fit a theta vector to X.\n",
    "        '''\n",
    "        \n",
    "        # Extract the shape from m by n X matrix\n",
    "        m,n = X.shape\n",
    "        \n",
    "        # Copy, scale, and prepend X and theta with a column of ones.\n",
    "        X = X.copy()\n",
    "        X = self._scale(X)\n",
    "        X = np.column_stack((np.ones(shape=(m,1)), X))\n",
    "        self._theta = np.ones(n + 1)\n",
    "        \n",
    "        # Used for getting gradient.\n",
    "        XT = X.transpose()\n",
    "        \n",
    "        # Theta update loop.\n",
    "        for i in range(0, numIter):\n",
    "#             hypothesis = self.predict(X)\n",
    "#             error = hypothesis - Y\n",
    "#             error = self._objective_cross_entropy(X, Y, self._theta)\n",
    "            error = self._objective_binary(X,Y)\n",
    "    \n",
    "            if verbose and i % 100 is 0:\n",
    "                print(error[0:10])\n",
    "            \n",
    "            gradient = (1/m) * np.dot(XT, error)\n",
    "            self._theta = self._theta - (alpha * gradient)\n",
    "        \n",
    "        return self._theta\n",
    "        \n",
    "    def _objective_binary(self,X,Y):\n",
    "        predicted = self.predict(X)\n",
    "        error = predicted - Y\n",
    "        return list(abs(e) for e in error)\n",
    "        \n",
    "        \n",
    "#     def _objective_cross_entropy(self, X, Y, theta):\n",
    "#         '''The function that should be minimized.\n",
    "#         Explained well here: http://www.cs.rpi.edu/~magdon/courses/LFD-Slides/SlidesLect09.pdf\n",
    "#         '''\n",
    "#         m,n = X.shape\n",
    "#         inner = np.log(1 + exp(-Y * theta.transpose() * X))\n",
    "#         summation = sum(inner)\n",
    "#         return (1/m) * summation\n",
    "        \n",
    "        \n",
    "    def predict_proba(self, X):\n",
    "        if X.shape[1] != self._theta.shape[0]:\n",
    "            X = np.column_stack((np.ones(shape=(X.shape[0],1)), X.copy()))\n",
    "            X = self._scale(X)\n",
    "        weighted = np.dot(X, self._theta)\n",
    "        return list(map(self._logistic, weighted))\n",
    "    \n",
    "    def predict(self, X):\n",
    "        proba = self.predict_proba(X)\n",
    "        return list(map(lambda p: p > 0.5, proba))\n",
    "    \n",
    "    def _logistic(self, n):\n",
    "        return 1 / (1 + exp(-n))\n",
    "    \n",
    "    def _scale(self, A):\n",
    "        S = np.ones(shape=A.shape)\n",
    "        for col in range(A.shape[1]):\n",
    "            S[:,col] = (A[:,col] - np.mean(A[:,col])) / np.std(A[:,col])\n",
    "        return S\n",
    "    \n",
    "    \n",
    "'''\n",
    "Read and evaluate dataset using above implementation\n",
    "'''\n",
    "names = ['times_pregnant', 'plasma_glucose_concentration', 'diastolic_blood_pressure', 'triceps_skin_fold_thickness', 'serum_insulin', 'BMI', 'diabetes_pedigree_function', 'age', 'diabetes']\n",
    "df = pd.read_csv('./data/pima-indians-diabetes.data', names=names, header=None)\n",
    "\n",
    "X = df[['times_pregnant', 'plasma_glucose_concentration', 'BMI', 'age']].values\n",
    "Y = df['diabetes'].values\n",
    "\n",
    "# Split for training and testing.\n",
    "size = floor(X.shape[0] * 0.7)\n",
    "X_train = X[0:size]\n",
    "Y_train = Y[0:size]\n",
    "X_test = X[size:]\n",
    "Y_test = Y[size:]\n",
    "\n",
    "# Fit and evaluate the probabilities for the model.\n",
    "model = LogisticRegression()\n",
    "model.fit(X_train,Y_train,verbose=True)\n",
    "predicted = model.predict_proba(X_test)\n",
    "\n",
    "print(model._theta)\n",
    "print(predicted[0:20])\n",
    "\n",
    "plt.ylim(-0.2, 1.2)\n",
    "plt.plot(predicted, 'r.')\n",
    "plt.plot([0.5]*len(predicted), 'b-')\n",
    "plt.show()"
   ]
  }
 ],
 "metadata": {
  "anaconda-cloud": {},
  "kernelspec": {
   "display_name": "Python [default]",
   "language": "python",
   "name": "python3"
  },
  "language_info": {
   "codemirror_mode": {
    "name": "ipython",
    "version": 3
   },
   "file_extension": ".py",
   "mimetype": "text/x-python",
   "name": "python",
   "nbconvert_exporter": "python",
   "pygments_lexer": "ipython3",
   "version": "3.5.2"
  }
 },
 "nbformat": 4,
 "nbformat_minor": 0
}
