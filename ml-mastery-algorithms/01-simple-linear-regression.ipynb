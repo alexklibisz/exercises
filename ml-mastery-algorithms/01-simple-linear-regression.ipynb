{
 "cells": [
  {
   "cell_type": "code",
   "execution_count": 48,
   "metadata": {
    "collapsed": false
   },
   "outputs": [
    {
     "data": {
      "image/png": "[encoded data removed]",
      "text/plain": [
       "<matplotlib.figure.Figure at 0x7f99ebc327b8>"
      ]
     },
     "metadata": {},
     "output_type": "display_data"
    },
    {
     "name": "stdout",
     "output_type": "stream",
     "text": [
      "RMSE = 0.692820\n"
     ]
    }
   ],
   "source": [
    "import matplotlib.pyplot as plt\n",
    "import numpy as np\n",
    "import math\n",
    "\n",
    "def simple_linear_regression(Xtrain, Ytrain, Xpred):\n",
    "    \"\"\"Finds the coefficients B0 and B1 for y = B0 + B1*x\n",
    "    B1 = sum of the products of x and y errors / sum of x squared errors\n",
    "    B0 = y mean - B1 * x mean\n",
    "    Uses the coefficients to calculate the predicted values\n",
    "    for the Xpred list.\n",
    "    \"\"\"    \n",
    "    xmean = np.mean(Xtrain)\n",
    "    ymean = np.mean(Ytrain)\n",
    "    xerrors = list(map(lambda x: x - xmean, X))\n",
    "    yerrors = list(map(lambda y: y - ymean, Y))\n",
    "    error_product = np.array(xerrors) * np.array(yerrors)\n",
    "    x_sq_error = np.array(xerrors) ** 2\n",
    "\n",
    "    B1 = sum(error_product) / sum(x_sq_error)\n",
    "    B0 = ymean - B1 * xmean\n",
    "    \n",
    "    return list(map(lambda x: B0 + (B1 * x), Xpred))\n",
    "\n",
    "def RMSE(actual, predicted):\n",
    "    \"\"\"root-mean-squared error\n",
    "    \"\"\"\n",
    "    errors = np.array(actual) - np.array(predicted)\n",
    "    sum_sq_errors = sum(errors ** 2)\n",
    "    return math.sqrt(sum_sq_errors / len(actual))\n",
    "    \n",
    "\n",
    "# Define the data\n",
    "data = [(1,1), (2,3), (4,3), (3,2), (5,5)]\n",
    "X = list(map(lambda x: x[0], data))\n",
    "Y = list(map(lambda x: x[1], data))\n",
    "\n",
    "# Pass X and Y for fitting and X again to get the predictions for X.\n",
    "Ypred = simple_linear_regression(Xtrain = X, Ytrain = Y, Xpred = X)\n",
    "\n",
    "# Plot the data\n",
    "plt.plot(X, Y, 'rs', label='actual')\n",
    "plt.plot(X, Ypred, 'bs', label='predicted')\n",
    "plt.xlim(0,10)\n",
    "plt.ylim(0,10)\n",
    "plt.legend()\n",
    "plt.show()\n",
    "\n",
    "# Calculate the error\n",
    "rmse = RMSE(Y, Ypred)\n",
    "print('RMSE = %lf' % (rmse))\n"
   ]
  },
  {
   "cell_type": "code",
   "execution_count": null,
   "metadata": {
    "collapsed": true
   },
   "outputs": [],
   "source": []
  }
 ],
 "metadata": {
  "anaconda-cloud": {},
  "kernelspec": {
   "display_name": "Python [default]",
   "language": "python",
   "name": "python3"
  },
  "language_info": {
   "codemirror_mode": {
    "name": "ipython",
    "version": 3
   },
   "file_extension": ".py",
   "mimetype": "text/x-python",
   "name": "python",
   "nbconvert_exporter": "python",
   "pygments_lexer": "ipython3",
   "version": "3.5.2"
  }
 },
 "nbformat": 4,
 "nbformat_minor": 0
}
