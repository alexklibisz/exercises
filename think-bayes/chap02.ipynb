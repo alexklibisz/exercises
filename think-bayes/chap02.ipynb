{
 "cells": [
  {
   "cell_type": "markdown",
   "metadata": {},
   "source": [
    "# Think Bayes: Chapter 2\n",
    "\n",
    "This notebook presents example code and exercise solutions for Think Bayes.\n",
    "\n",
    "Copyright 2016 Allen B. Downey\n",
    "\n",
    "MIT License: https://opensource.org/licenses/MIT"
   ]
  },
  {
   "cell_type": "code",
   "execution_count": 1,
   "metadata": {},
   "outputs": [
    {
     "data": {
      "text/plain": [
       "'Done'"
      ]
     },
     "execution_count": 1,
     "metadata": {},
     "output_type": "execute_result"
    }
   ],
   "source": [
    "from __future__ import print_function, division\n",
    "\n",
    "%load_ext autoreload\n",
    "%autoreload 2\n",
    "%matplotlib inline\n",
    "\n",
    "from IPython.display import display\n",
    "from sympy import symbols\n",
    "import matplotlib.pyplot as plt\n",
    "import mythinkbayes as mtb\n",
    "import numpy as np\n",
    "import pandas as pd\n",
    "\n",
    "'Done'"
   ]
  },
  {
   "cell_type": "markdown",
   "metadata": {},
   "source": [
    "## The Pmf class\n",
    "\n",
    "I'll start by making a Pmf that represents the outcome of a six-sided die.  Initially there are 6 values with equal probability."
   ]
  },
  {
   "cell_type": "code",
   "execution_count": 2,
   "metadata": {},
   "outputs": [
    {
     "data": {
      "text/plain": [
       "1    0.166667\n",
       "2    0.166667\n",
       "3    0.166667\n",
       "4    0.166667\n",
       "5    0.166667\n",
       "6    0.166667\n",
       "dtype: float64"
      ]
     },
     "execution_count": 2,
     "metadata": {},
     "output_type": "execute_result"
    }
   ],
   "source": [
    "dice = mtb.DiscreteVariable(range(1, 7), priors=[1/6] * 6)\n",
    "dice"
   ]
  },
  {
   "cell_type": "markdown",
   "metadata": {},
   "source": [
    "To be true probabilities, they have to add up to 1.  So we can normalize the Pmf:"
   ]
  },
  {
   "cell_type": "code",
   "execution_count": 3,
   "metadata": {},
   "outputs": [
    {
     "data": {
      "text/plain": [
       "(1    0.166667\n",
       " 2    0.166667\n",
       " 3    0.166667\n",
       " 4    0.166667\n",
       " 5    0.166667\n",
       " 6    0.166667\n",
       " dtype: float64, 0.9999999999999999)"
      ]
     },
     "execution_count": 3,
     "metadata": {},
     "output_type": "execute_result"
    }
   ],
   "source": [
    "dice = mtb.DiscreteVariable(range(1, 7), priors=[1] * 6)\n",
    "dice.normalize()\n",
    "dice, dice.sum()"
   ]
  },
  {
   "cell_type": "markdown",
   "metadata": {},
   "source": [
    "You can copy the variable and add new values, but you need to remember to re-nnormalize."
   ]
  },
  {
   "cell_type": "code",
   "execution_count": 4,
   "metadata": {},
   "outputs": [
    {
     "data": {
      "text/plain": [
       "1    0.142857\n",
       "2    0.142857\n",
       "3    0.142857\n",
       "4    0.142857\n",
       "5    0.142857\n",
       "6    0.142857\n",
       "7    0.142857\n",
       "dtype: float64"
      ]
     },
     "execution_count": 4,
     "metadata": {},
     "output_type": "execute_result"
    }
   ],
   "source": [
    "tmp =  dice.copy()\n",
    "tmp[7] = tmp[6]\n",
    "tmp.normalize()"
   ]
  },
  {
   "cell_type": "markdown",
   "metadata": {},
   "source": [
    "Or you can use the bracket operator.  ~~Either way, if you ask for the probability of something that's not in the Pmf, the result is 0.~~"
   ]
  },
  {
   "cell_type": "code",
   "execution_count": 5,
   "metadata": {},
   "outputs": [
    {
     "data": {
      "text/plain": [
       "0.16666666666666666"
      ]
     },
     "execution_count": 5,
     "metadata": {},
     "output_type": "execute_result"
    }
   ],
   "source": [
    "dice[1]"
   ]
  },
  {
   "cell_type": "markdown",
   "metadata": {},
   "source": [
    "## The cookie problem\n",
    "\n",
    "Here's a Pmf that represents the prior distribution."
   ]
  },
  {
   "cell_type": "code",
   "execution_count": 6,
   "metadata": {},
   "outputs": [
    {
     "data": {
      "text/plain": [
       "Bowl 1    0.5\n",
       "Bowl 2    0.5\n",
       "dtype: float64"
      ]
     },
     "execution_count": 6,
     "metadata": {},
     "output_type": "execute_result"
    }
   ],
   "source": [
    "cookies = mtb.DiscreteVariable(['Bowl 1', 'Bowl 2'])\n",
    "cookies"
   ]
  },
  {
   "cell_type": "markdown",
   "metadata": {},
   "source": [
    "And we can update it using `Mult`"
   ]
  },
  {
   "cell_type": "code",
   "execution_count": 7,
   "metadata": {},
   "outputs": [
    {
     "data": {
      "text/plain": [
       "Bowl 1    0.6\n",
       "Bowl 2    0.4\n",
       "dtype: float64"
      ]
     },
     "execution_count": 7,
     "metadata": {},
     "output_type": "execute_result"
    }
   ],
   "source": [
    "# Say we draw a vanilla cookie from the bowl. We represent this by\n",
    "# multiplying each bowl's prior by the probability of drawing a vanilla\n",
    "# cookie from it. We then see that the probability of Bowl 1 given we\n",
    "# drew a vanilla cookie increases to 0.6.\n",
    "cookies['Bowl 1'] *= 0.75\n",
    "cookies['Bowl 2'] *= 0.5\n",
    "cookies.normalize()"
   ]
  },
  {
   "cell_type": "markdown",
   "metadata": {},
   "source": [
    "Draw a few more vanilla cookies to see how the probabilities change."
   ]
  },
  {
   "cell_type": "code",
   "execution_count": 8,
   "metadata": {},
   "outputs": [
    {
     "data": {
      "text/plain": [
       "'Draw vanilla 1'"
      ]
     },
     "metadata": {},
     "output_type": "display_data"
    },
    {
     "data": {
      "text/plain": [
       "Bowl 1    0.6\n",
       "Bowl 2    0.4\n",
       "dtype: float64"
      ]
     },
     "metadata": {},
     "output_type": "display_data"
    },
    {
     "data": {
      "text/plain": [
       "'Draw vanilla 2'"
      ]
     },
     "metadata": {},
     "output_type": "display_data"
    },
    {
     "data": {
      "text/plain": [
       "Bowl 1    0.692308\n",
       "Bowl 2    0.307692\n",
       "dtype: float64"
      ]
     },
     "metadata": {},
     "output_type": "display_data"
    },
    {
     "data": {
      "text/plain": [
       "'Draw vanilla 3'"
      ]
     },
     "metadata": {},
     "output_type": "display_data"
    },
    {
     "data": {
      "text/plain": [
       "Bowl 1    0.771429\n",
       "Bowl 2    0.228571\n",
       "dtype: float64"
      ]
     },
     "metadata": {},
     "output_type": "display_data"
    },
    {
     "data": {
      "text/plain": [
       "'Draw vanilla 4'"
      ]
     },
     "metadata": {},
     "output_type": "display_data"
    },
    {
     "data": {
      "text/plain": [
       "Bowl 1    0.835052\n",
       "Bowl 2    0.164948\n",
       "dtype: float64"
      ]
     },
     "metadata": {},
     "output_type": "display_data"
    },
    {
     "data": {
      "text/plain": [
       "'Draw vanilla 5'"
      ]
     },
     "metadata": {},
     "output_type": "display_data"
    },
    {
     "data": {
      "text/plain": [
       "Bowl 1    0.883636\n",
       "Bowl 2    0.116364\n",
       "dtype: float64"
      ]
     },
     "metadata": {},
     "output_type": "display_data"
    }
   ],
   "source": [
    "cookies = mtb.DiscreteVariable(['Bowl 1', 'Bowl 2'])\n",
    "cookies.normalize()\n",
    "\n",
    "for i in range(5):\n",
    "    cookies['Bowl 1'] *= 0.75\n",
    "    cookies['Bowl 2'] *= 0.5\n",
    "    cookies.normalize()\n",
    "    display('Draw vanilla %d' % (i + 1), cookies)"
   ]
  },
  {
   "cell_type": "markdown",
   "metadata": {},
   "source": [
    "## The Bayesian framework\n",
    "\n",
    "Here's the same computation encapsulated in a class.\n",
    "\n",
    "We can confirm that we get the same result."
   ]
  },
  {
   "cell_type": "code",
   "execution_count": 9,
   "metadata": {},
   "outputs": [
    {
     "data": {
      "text/plain": [
       "1"
      ]
     },
     "metadata": {},
     "output_type": "display_data"
    },
    {
     "data": {
      "text/plain": [
       "Bowl 1    0.6\n",
       "Bowl 2    0.4\n",
       "dtype: float64"
      ]
     },
     "metadata": {},
     "output_type": "display_data"
    },
    {
     "data": {
      "text/plain": [
       "2"
      ]
     },
     "metadata": {},
     "output_type": "display_data"
    },
    {
     "data": {
      "text/plain": [
       "Bowl 1    0.692308\n",
       "Bowl 2    0.307692\n",
       "dtype: float64"
      ]
     },
     "metadata": {},
     "output_type": "display_data"
    },
    {
     "data": {
      "text/plain": [
       "3"
      ]
     },
     "metadata": {},
     "output_type": "display_data"
    },
    {
     "data": {
      "text/plain": [
       "Bowl 1    0.771429\n",
       "Bowl 2    0.228571\n",
       "dtype: float64"
      ]
     },
     "metadata": {},
     "output_type": "display_data"
    },
    {
     "data": {
      "text/plain": [
       "4"
      ]
     },
     "metadata": {},
     "output_type": "display_data"
    },
    {
     "data": {
      "text/plain": [
       "Bowl 1    0.835052\n",
       "Bowl 2    0.164948\n",
       "dtype: float64"
      ]
     },
     "metadata": {},
     "output_type": "display_data"
    },
    {
     "data": {
      "text/plain": [
       "5"
      ]
     },
     "metadata": {},
     "output_type": "display_data"
    },
    {
     "data": {
      "text/plain": [
       "Bowl 1    0.883636\n",
       "Bowl 2    0.116364\n",
       "dtype: float64"
      ]
     },
     "metadata": {},
     "output_type": "display_data"
    }
   ],
   "source": [
    "class CookieExample(mtb.DiscreteVariable):\n",
    "    \"\"\"Wrapper class for the cookie example. Same operations as the\n",
    "    previous example, but the priors are contained within the class.\"\"\"\n",
    "    \n",
    "    # Dictionary defining P(D | H), the probability of each cookie (data) \n",
    "    # given each bowl (hyptothesis). Structured such that P(D|H) = likelihoods[H][D].\n",
    "    likelihoods = {\n",
    "        'Bowl 1': dict(vanilla=0.75, chocolate=0.25),\n",
    "        'Bowl 2': dict(vanilla=0.5, chocolate=0.5)\n",
    "    }\n",
    "    \n",
    "    def update(self, D):\n",
    "        \"\"\"Update each hypothess' probability based on data.\n",
    "        \n",
    "        When update() gets called, self represents the prior P(H) (or equivalently,\n",
    "        the posterior of a previous update).\n",
    "        \n",
    "        To compute the posterior given the observed data D, each P(H) gets\n",
    "        multiplied by likelihood P(D | H), as in the RHS numerator of Bayes theorem.\n",
    "        \n",
    "        To get the posterior P(H | D), one must normalize by P(D). Assuming\n",
    "        that the hypotheses in self are mutually exclusive and collectively\n",
    "        exhaustive, it suffices to call self.normalize().\n",
    "        \n",
    "        In the end, self represents the posterior given the observed data, D.\n",
    "        \"\"\"\n",
    "        for H in self.index.values:\n",
    "            self[H] *= self.likelihoods[H][D]\n",
    "        return self.normalize()\n",
    "    \n",
    "cookies = CookieExample(['Bowl 1', 'Bowl 2'])\n",
    "\n",
    "for i in range(5):\n",
    "    display(i + 1, cookies.update('vanilla'))"
   ]
  },
  {
   "cell_type": "markdown",
   "metadata": {},
   "source": [
    "But this implementation is more general; it can handle any sequence of data."
   ]
  },
  {
   "cell_type": "code",
   "execution_count": 10,
   "metadata": {},
   "outputs": [
    {
     "data": {
      "text/plain": [
       "Bowl 1    0.627907\n",
       "Bowl 2    0.372093\n",
       "dtype: float64"
      ]
     },
     "execution_count": 10,
     "metadata": {},
     "output_type": "execute_result"
    }
   ],
   "source": [
    "cookies = CookieExample(['Bowl 1', 'Bowl 2'])\n",
    "for data in ['vanilla', 'vanilla', 'chocolate', 'vanilla']:\n",
    "    cookies.update(data)\n",
    "cookies"
   ]
  },
  {
   "cell_type": "markdown",
   "metadata": {},
   "source": [
    "## The Monty Hall problem\n",
    "\n",
    "The Monty Hall problem might be the most contentious question in\n",
    "the history of probability.  The scenario is simple, but the correct\n",
    "answer is so counterintuitive that many people just can't accept\n",
    "it, and many smart people have embarrassed themselves not just by\n",
    "getting it wrong but by arguing the wrong side, aggressively,\n",
    "in public.\n",
    "\n",
    "Monty Hall was the original host of the game show *Let's Make a\n",
    "Deal*.  The Monty Hall problem is based on one of the regular\n",
    "games on the show.  If you are on the show, here's what happens:\n",
    "\n",
    "*  Monty shows you three closed doors and tells you that there is a\n",
    "   prize behind each door: one prize is a car, the other two are less\n",
    "   valuable prizes like peanut butter and fake finger nails.  The\n",
    "   prizes are arranged at random.\n",
    "\n",
    "*  The object of the game is to guess which door has the car.  If\n",
    "   you guess right, you get to keep the car.\n",
    "\n",
    "*  You pick a door, which we will call Door A.  We'll call the\n",
    "   other doors B and C.\n",
    "\n",
    "*  Before opening the door you chose, Monty increases the\n",
    "   suspense by opening either Door B or C, whichever does not\n",
    "   have the car.  (If the car is actually behind Door A, Monty can\n",
    "   safely open B or C, so he chooses one at random.)\n",
    "\n",
    "*  Then Monty offers you the option to stick with your original\n",
    "   choice or switch to the one remaining unopened door.\n",
    "\n",
    "The question is, should you \"stick\" or \"switch\" or does it\n",
    "make no difference?\n",
    "\n",
    "Most people have the strong intuition that it makes no difference.\n",
    "There are two doors left, they reason, so the chance that the car\n",
    "is behind Door A is 50%.\n",
    "\n",
    "But that is wrong.  In fact, the chance of winning if you stick\n",
    "with Door A is only 1/3; if you switch, your chances are 2/3.\n",
    "\n",
    "Here's a class that solves the Monty Hall problem."
   ]
  },
  {
   "cell_type": "code",
   "execution_count": 11,
   "metadata": {},
   "outputs": [
    {
     "data": {
      "text/plain": [
       "Door A    0.333333\n",
       "Door B    0.333333\n",
       "Door C    0.333333\n",
       "dtype: float64"
      ]
     },
     "metadata": {},
     "output_type": "display_data"
    },
    {
     "data": {
      "text/plain": [
       "Door A    0.333333\n",
       "Door B    0.000000\n",
       "Door C    0.666667\n",
       "dtype: float64"
      ]
     },
     "execution_count": 11,
     "metadata": {},
     "output_type": "execute_result"
    }
   ],
   "source": [
    "class MontyExample(mtb.DiscreteVariable):\n",
    "    \n",
    "    def pick_door(self, D):\n",
    "        \"\"\"Pick a door for the prize.\"\"\"\n",
    "        self.picked = D\n",
    "    \n",
    "    def open_door(self, D):\n",
    "        \"\"\"Update the posterior for a specific door, D, having been opened by the host.\"\"\"\n",
    "        \n",
    "        for H in self.index.values:\n",
    "                \n",
    "            # This hypothesis represents the door that was just opened,\n",
    "            # so there's no chance the prize is behind this door.\n",
    "            if H == D:\n",
    "                self[H] *= 0\n",
    "                \n",
    "            # This hypothesis represents the door previously picked\n",
    "            # and is not the door that was just opened. So there is\n",
    "            # now a 50/50 chance of this being the correct door.\n",
    "            elif H == self.picked:\n",
    "                self[H] *= 0.5\n",
    "                \n",
    "            # Otherwise, the hypothesis' probability stays the same.\n",
    "            else:\n",
    "                pass\n",
    "                \n",
    "        return self.normalize()\n",
    "\n",
    "\n",
    "# Initialize with uniform prior on each door.\n",
    "monty = MontyExample(['Door A', 'Door B', 'Door C'])\n",
    "display(monty)\n",
    "\n",
    "# You pick door A.\n",
    "monty.pick_door('Door A')\n",
    "\n",
    "# Then the host opens door B.\n",
    "monty.open_door('Door B')\n",
    "\n",
    "# What's the resulting posterior?\n",
    "monty"
   ]
  },
  {
   "cell_type": "markdown",
   "metadata": {},
   "source": [
    "## The Suite class\n",
    "\n",
    "Most Bayesian updates look pretty much the same, especially the `Update` method.  So we can encapsulate the framework in a class, `Suite`, and create new classes that extend it.\n",
    "\n",
    "Child classes of `Suite` inherit `Update` and provide `Likelihood`.  So here's the short version of `Monty`\n",
    "\n",
    "I just extened the `DiscreteVariable` class to contain an `update` method."
   ]
  },
  {
   "cell_type": "code",
   "execution_count": 12,
   "metadata": {},
   "outputs": [
    {
     "data": {
      "text/plain": [
       "Door A    0.333333\n",
       "Door B    0.000000\n",
       "Door C    0.666667\n",
       "dtype: float64"
      ]
     },
     "execution_count": 12,
     "metadata": {},
     "output_type": "execute_result"
    }
   ],
   "source": [
    "class MontyExample(mtb.DiscreteVariable):\n",
    "    \n",
    "    def pick_door(self, data):\n",
    "        self.picked = data\n",
    "        \n",
    "    def open_door(self, data):\n",
    "        return self.update(data)\n",
    "    \n",
    "    def likelihood(self, data, hypo):\n",
    "        if hypo == data:\n",
    "            return 0\n",
    "        if hypo == self.picked:\n",
    "            return 0.5\n",
    "        return 1\n",
    "    \n",
    "monty = MontyExample(['Door A', 'Door B', 'Door C'])\n",
    "monty.pick_door('Door A')\n",
    "monty.open_door('Door B')\n",
    "monty"
   ]
  },
  {
   "cell_type": "markdown",
   "metadata": {},
   "source": [
    "## The M&M problem\n",
    "\n",
    "M&Ms are small candy-coated chocolates that come in a variety of\n",
    "colors.  Mars, Inc., which makes M&Ms, changes the mixture of\n",
    "colors from time to time.\n",
    "\n",
    "In 1995, they introduced blue M&Ms.  Before then, the color mix in\n",
    "a bag of plain M&Ms was 30% Brown, 20% Yellow, 20% Red, 10%\n",
    "Green, 10% Orange, 10% Tan.  Afterward it was 24% Blue , 20%\n",
    "Green, 16% Orange, 14% Yellow, 13% Red, 13% Brown.\n",
    "\n",
    "Suppose a friend of mine has two bags of M&Ms, and he tells me\n",
    "that one is from 1994 and one from 1996.  He won't tell me which is\n",
    "which, but he gives me one M&M from each bag.  One is yellow and\n",
    "one is green.  What is the probability that the yellow one came\n",
    "from the 1994 bag?\n",
    "\n",
    "Here's a solution:"
   ]
  },
  {
   "cell_type": "code",
   "execution_count": 13,
   "metadata": {},
   "outputs": [
    {
     "data": {
      "text/plain": [
       "A    0.740741\n",
       "B    0.259259\n",
       "dtype: float64"
      ]
     },
     "execution_count": 13,
     "metadata": {},
     "output_type": "execute_result"
    }
   ],
   "source": [
    "class MMExperiment(mtb.DiscreteVariable):\n",
    "  \n",
    "    # Define P(color, year) for each year.\n",
    "    mix94 = dict(brown=30,\n",
    "                 yellow=20,\n",
    "                 red=20,\n",
    "                 green=10,\n",
    "                 orange=10,\n",
    "                 tan=10,\n",
    "                 blue=0)\n",
    "\n",
    "    mix96 = dict(blue=24,\n",
    "                 green=20,\n",
    "                 orange=16,\n",
    "                 yellow=14,\n",
    "                 red=13,\n",
    "                 brown=13,\n",
    "                 tan=0)\n",
    "    \n",
    "    # Define likelihoods for two hypotheses: A and B:\n",
    "    # A: bag 1 is from 1994, bag 2 from 1996.\n",
    "    # B: bag 1 is from 1996, bag 1 from 1994.\n",
    "    likes=dict(\n",
    "        A=dict(bag1=mix94, bag2=mix96),\n",
    "        B=dict(bag1=mix96, bag2=mix94))\n",
    "    \n",
    "    \n",
    "    def likelihood(self, data, hypo):\n",
    "        \"\"\"Compute, return the likelihood P(D | H).\"\"\"\n",
    "        bag, color = data\n",
    "        return self.likes[hypo][bag][color]\n",
    "\n",
    "mm = MMExperiment(['A', 'B'])\n",
    "\n",
    "# You get a yellow M&M from bag 1 and a green from bag 2.\n",
    "mm.update(('bag1', 'yellow'))\n",
    "mm.update(('bag2', 'green'))\n",
    "\n",
    "mm"
   ]
  },
  {
   "cell_type": "markdown",
   "metadata": {},
   "source": [
    "**Exercise:**  Suppose you draw another M&M from `bag1` and it's blue.  What can you conclude?  Run the update to confirm your intuition."
   ]
  },
  {
   "cell_type": "code",
   "execution_count": 14,
   "metadata": {},
   "outputs": [
    {
     "data": {
      "text/plain": [
       "A    0.0\n",
       "B    1.0\n",
       "dtype: float64"
      ]
     },
     "execution_count": 14,
     "metadata": {},
     "output_type": "execute_result"
    }
   ],
   "source": [
    "# Blue M&M's were introduced in 1996, so bag1 = 1994 is impossible.\n",
    "# Thus Hypothesis A is impossible.\n",
    "mm.update(('bag1', 'blue'))"
   ]
  },
  {
   "cell_type": "markdown",
   "metadata": {},
   "source": [
    "**Exercise:**  Now suppose you draw an M&M from `bag2` and it's blue.  What does that mean?  Run the update to see what happens."
   ]
  },
  {
   "cell_type": "code",
   "execution_count": 15,
   "metadata": {},
   "outputs": [
    {
     "data": {
      "text/plain": [
       "A   NaN\n",
       "B   NaN\n",
       "dtype: float64"
      ]
     },
     "execution_count": 15,
     "metadata": {},
     "output_type": "execute_result"
    }
   ],
   "source": [
    "# Again, it's only possible for a blue to come from the 1996 bag.\n",
    "# Thus, Hypothesis B is impossible. If you run this after the previous cell,\n",
    "# you get NaNs, because it's impossible to have drawn a blue from both bags.\n",
    "mm.update(('bag2', 'blue'))"
   ]
  },
  {
   "cell_type": "markdown",
   "metadata": {},
   "source": [
    "## Exercises"
   ]
  },
  {
   "cell_type": "markdown",
   "metadata": {},
   "source": [
    "**Exercise:** This one is from one of my favorite books, David MacKay's \"Information Theory, Inference, and Learning Algorithms\":\n",
    "\n",
    "> Elvis Presley had a twin brother who died at birth.  What is the probability that Elvis was an identical twin?\"\n",
    "    \n",
    "To answer this one, you need some background information: According to the Wikipedia article on twins:  ``Twins are estimated to be approximately 1.9% of the world population, with monozygotic twins making up 0.2% of the total---and 8% of all twins.''"
   ]
  },
  {
   "cell_type": "code",
   "execution_count": 16,
   "metadata": {},
   "outputs": [
    {
     "data": {
      "text/plain": [
       "fraternal    0.92\n",
       "identical    0.08\n",
       "dtype: float64"
      ]
     },
     "metadata": {},
     "output_type": "display_data"
    },
    {
     "data": {
      "text/plain": [
       "fraternal    0.46\n",
       "identical    0.08\n",
       "dtype: float64"
      ]
     },
     "metadata": {},
     "output_type": "display_data"
    },
    {
     "data": {
      "text/plain": [
       "fraternal    0.851852\n",
       "identical    0.148148\n",
       "dtype: float64"
      ]
     },
     "execution_count": 16,
     "metadata": {},
     "output_type": "execute_result"
    }
   ],
   "source": [
    "# Start with priors: P(fraternal) = 0.92, P(identical) = 0.08\n",
    "elvis = mtb.DiscreteVariable(['fraternal', 'identical'], [0.92, 0.08])\n",
    "display(elvis)\n",
    "\n",
    "# The question states that Elvis had a twin **brother**.\n",
    "# Update the priors using the likelihoods:\n",
    "# P(brother | fraternal) = 0.5\n",
    "# P(brother | identical) = 1\n",
    "elvis['fraternal'] *= 0.5\n",
    "elvis['identical'] *= 1\n",
    "display(elvis)\n",
    "\n",
    "# Normalize to get the posteriors P(fraternal | brother), P(identical | brother).\n",
    "# Fraternal becomes slightly less likely and identical slightly more likely.\n",
    "elvis.normalize()"
   ]
  },
  {
   "cell_type": "markdown",
   "metadata": {
    "collapsed": true
   },
   "source": [
    "**Exercise:** Let's consider a more general version of the Monty Hall problem where Monty is more unpredictable.  As before, Monty never opens the door you chose (let's call it A) and never opens the door with the prize.  So if you choose the door with the prize, Monty has to decide which door to open.  Suppose he opens B with probability `p` and C with probability `1-p`.  If you choose A and Monty opens B, what is the probability that the car is behind A, in terms of `p`?  What if Monty opens C?\n",
    "\n",
    "Hint: you might want to use SymPy to do the algebra for you. "
   ]
  },
  {
   "cell_type": "code",
   "execution_count": 17,
   "metadata": {},
   "outputs": [
    {
     "data": {
      "image/png": "[encoded data removed]",
      "text/plain": [
       "<matplotlib.figure.Figure at 0x7f68c027eac8>"
      ]
     },
     "metadata": {},
     "output_type": "display_data"
    }
   ],
   "source": [
    "# Simulate the described sequence.\n",
    "# Plot it against a naive linear model.\n",
    "\n",
    "def simulate(p=0.8, door_chosen='A', door_interest='B', nb_iter=2000):\n",
    "    \n",
    "    nb_wins = 0\n",
    "    nb_matched = 0\n",
    "\n",
    "    for _ in range(nb_iter):\n",
    "\n",
    "        # Select the prize door at random.\n",
    "        door_prize = np.random.choice(['A', 'B', 'C'])\n",
    "\n",
    "        # Two ways to open the door of interest:\n",
    "        # 1. You picked the winning door and Monty opens door of interest with probability p.\n",
    "        if door_chosen == door_prize and np.random.binomial(1, p):\n",
    "            nb_wins += 1\n",
    "            nb_matched += 1\n",
    "            \n",
    "        # 2: the prize is behind the third door and Monty has to open the door of interest.\n",
    "        elif door_prize != door_chosen and door_prize != door_interest:\n",
    "            nb_matched += 1\n",
    "        \n",
    "    return nb_wins / nb_matched\n",
    "    \n",
    "X = np.linspace(0, 1, 201)\n",
    "Y = list(map(simulate, X))\n",
    "\n",
    "plt.plot(X, X / 2, label='$y=X / 2$', linestyle='--')\n",
    "plt.plot(X, Y, label='P(A | open_B)')\n",
    "plt.legend()\n",
    "plt.show()"
   ]
  },
  {
   "cell_type": "code",
   "execution_count": 18,
   "metadata": {},
   "outputs": [
    {
     "data": {
      "text/plain": [
       "A    0.333333\n",
       "B    0.333333\n",
       "C    0.333333\n",
       "dtype: float64"
      ]
     },
     "metadata": {},
     "output_type": "display_data"
    },
    {
     "name": "stdout",
     "output_type": "stream",
     "text": [
      "P(A | open_B) = 0.333333333333333*p/(0.333333333333333*p + 0.333333333333333)\n"
     ]
    },
    {
     "data": {
      "image/png": "[encoded data removed]",
      "text/plain": [
       "<matplotlib.figure.Figure at 0x7f68be23dd68>"
      ]
     },
     "metadata": {},
     "output_type": "display_data"
    }
   ],
   "source": [
    "# Solution for when Monty has opened door B.\n",
    "# Plot P(A | open_B) for various values of p.\n",
    "# Notice this matches the above plot nicely.\n",
    "\n",
    "# Initialize with uniform prior on each door.\n",
    "# Where A, B, and C are shorthand for \"Prize at A\", \"Prize at B\", and \"Prize at C.\"\n",
    "monty = mtb.DiscreteVariable(['A', 'B', 'C'])\n",
    "display(monty)\n",
    "\n",
    "# Define symbolic p, the probability of opening B.\n",
    "p = symbols('p')\n",
    "\n",
    "# Monty has opened door B. Update the priors below, with some\n",
    "# comments on the logic for each update.\n",
    "\n",
    "# Update P(A | open_B) = P(A) * P(open_B | A) / P(open_B).\n",
    "# P(open_B | A) is the value p that was given (or symbolicly defined).\n",
    "monty['A'] *= p\n",
    "\n",
    "# Update P(B | open_B) = P(B) * P(open_B | B) / P(open_B).\n",
    "# Since Monty never opens the door with the prize, P(open_B | B) = 0. \n",
    "monty['B'] *= 0\n",
    "\n",
    "# Update P(C | open_B) = P(C) * P(open_B | C) / P(open_B).\n",
    "# You picked A and monty opened B. Monty never opens the door you picked and\n",
    "# never opens the door with the prize. If the prize is at C, Monty must open_B.\n",
    "# Thus, P(open_B | C) = 1.\n",
    "monty['C'] *= 1\n",
    "\n",
    "# Normalize.\n",
    "monty.normalize()\n",
    "\n",
    "monty['A'].simplify()\n",
    "\n",
    "print('P(A | open_B) = %s' % monty['A'])\n",
    "\n",
    "# Plot the results for various values of p.\n",
    "X = np.linspace(0, 1, 101)\n",
    "Y = [monty['A'].evalf(subs={p:x}) for x in X]\n",
    "\n",
    "plt.plot(X, Y, label='P(A | open_B)')\n",
    "plt.legend()\n",
    "plt.show()"
   ]
  },
  {
   "cell_type": "code",
   "execution_count": 19,
   "metadata": {},
   "outputs": [
    {
     "data": {
      "text/plain": [
       "A    0.333333\n",
       "B    0.333333\n",
       "C    0.333333\n",
       "dtype: float64"
      ]
     },
     "metadata": {},
     "output_type": "display_data"
    },
    {
     "name": "stdout",
     "output_type": "stream",
     "text": [
      "P(A | open_C) = (-0.333333333333333*p + 0.333333333333333)/(-0.333333333333333*p + 0.666666666666667)\n"
     ]
    },
    {
     "data": {
      "image/png": "[encoded data removed]",
      "text/plain": [
       "<matplotlib.figure.Figure at 0x7f68be1499b0>"
      ]
     },
     "metadata": {},
     "output_type": "display_data"
    }
   ],
   "source": [
    "# Repeat the same for when Monty has opened C.\n",
    "\n",
    "# Initialize with uniform prior on each door.\n",
    "# Where A, B, and C are shorthand for \"Prize at A\", \"Prize at B\", and \"Prize at C.\"\n",
    "monty = mtb.DiscreteVariable(['A', 'B', 'C'])\n",
    "display(monty)\n",
    "\n",
    "# Define symbolic p, the probability of opening B.\n",
    "p = symbols('p')\n",
    "\n",
    "# Monty has opened door C. Update the priors below, with some\n",
    "# comments on the logic for each update.\n",
    "\n",
    "# Update P(A | open_C) = P(A) * P(open_C | A) / P(open_C).\n",
    "# P(open_C | A) is the value 1 - p that was given (or symbolicly defined).\n",
    "monty['A'] *= 1 - p\n",
    "\n",
    "# Update P(B | open_C) = P(B) * P(open_C | B) / P(open_C).\n",
    "# You picked A and monty opened C. Monty never opens the door you picked and\n",
    "# never opens the door with the prize. If the prize is at B, Monty must open C.\n",
    "# Thus, P(open_C | B) = 1.\n",
    "monty['B'] *= 1\n",
    "\n",
    "# Update P(C | open_C) = P(C) * P(open_C | C) / P(open_C).\n",
    "# Since Monty never opens the door with the prize, P(open_C | C) = 0. \n",
    "monty['C'] *= 0\n",
    "\n",
    "# Normalize.\n",
    "monty.normalize()\n",
    "\n",
    "monty['A'].simplify()\n",
    "\n",
    "print('P(A | open_C) = %s' % monty['A'])\n",
    "\n",
    "# Plot the results for various values of p.\n",
    "X = np.linspace(0, 1, 101)\n",
    "Y = [monty['A'].evalf(subs={p:x}) for x in X]\n",
    "\n",
    "plt.plot(X, Y, label='P(A | open_C)')\n",
    "plt.legend()\n",
    "plt.show()\n"
   ]
  },
  {
   "cell_type": "markdown",
   "metadata": {
    "collapsed": true
   },
   "source": [
    "**Exercise:** According to the CDC, \n",
    "\n",
    "> Compared to nonsmokers, men who smoke are about 23 times more likely to develop lung cancer and women who smoke are about 13 times more likely.\n",
    "\n",
    "Also, among adults in the U.S. in 2014:\n",
    "\n",
    "> Nearly 19 of every 100 adult men (18.8%) are smokers.\n",
    "\n",
    "> Nearly 15 of every 100 adult women (14.8%) are smokers.\n",
    "\n",
    "If you learn that a woman has been diagnosed with lung cancer, and you know nothing else about her, what is the probability that she is a smoker?"
   ]
  },
  {
   "cell_type": "code",
   "execution_count": 20,
   "metadata": {},
   "outputs": [
    {
     "data": {
      "text/plain": [
       "S    0.696428571428571\n",
       "N    0.303571428571429\n",
       "dtype: object"
      ]
     },
     "metadata": {},
     "output_type": "display_data"
    },
    {
     "data": {
      "text/plain": [
       "S    0.696429\n",
       "N    0.303571\n",
       "dtype: float64"
      ]
     },
     "metadata": {},
     "output_type": "display_data"
    }
   ],
   "source": [
    "# 2 methods, both end up with p(smoker | cancer) ~= 0.7.\n",
    "\n",
    "# Method 1: use a symbol 'b' to represent the baseline probability for a non-smoking woman getting cancer.\n",
    "# Compute p(smoker | cancer) = p(smoker) * p(cancer | smoker) / p(cancer).\n",
    "\n",
    "b = symbols('b') # The baseline probability that a woman gets cancer.\n",
    "\n",
    "ex = mtb.DiscreteVariable(['S','N'], [0.15, 0.85])\n",
    "ex['S'] *= 13 * b\n",
    "ex['N'] *= 1 * b\n",
    "display(ex.normalize())\n",
    "\n",
    "# Method 2: use relative likelihoods.\n",
    "ex = mtb.DiscreteVariable(['S', 'N'], [0.15, 0.85])\n",
    "ex['S'] *= 13\n",
    "ex['N'] *= 1\n",
    "display(ex.normalize())"
   ]
  },
  {
   "cell_type": "markdown",
   "metadata": {},
   "source": [
    "**Exercise** In Section 2.3 I said that the solution to the cookie problem generalizes to the case where we draw multiple cookies with replacement.\n",
    "\n",
    "But in the more likely scenario where we eat the cookies we draw, the likelihood of each draw depends on the previous draws.\n",
    "\n",
    "Modify the solution in this chapter to handle selection without replacement. Hint: add instance variables to Cookie to represent the hypothetical state of the bowls, and modify Likelihood accordingly. You might want to define a Bowl object."
   ]
  },
  {
   "cell_type": "code",
   "execution_count": 21,
   "metadata": {},
   "outputs": [
    {
     "data": {
      "text/plain": [
       "'Pick vanilla'"
      ]
     },
     "metadata": {},
     "output_type": "display_data"
    },
    {
     "data": {
      "text/plain": [
       "Bowl 1    0.6\n",
       "Bowl 2    0.4\n",
       "dtype: float64"
      ]
     },
     "metadata": {},
     "output_type": "display_data"
    },
    {
     "data": {
      "text/plain": [
       "'Pick chocolate'"
      ]
     },
     "metadata": {},
     "output_type": "display_data"
    },
    {
     "data": {
      "text/plain": [
       "Bowl 1    0.428571\n",
       "Bowl 2    0.571429\n",
       "dtype: float64"
      ]
     },
     "metadata": {},
     "output_type": "display_data"
    }
   ],
   "source": [
    "class CookieExample(mtb.DiscreteVariable):\n",
    "    \"\"\"Wrapper class for the cookie example.\"\"\"\n",
    "    \n",
    "    # Dictionary defining P(D | H), the probability of each cookie (data) \n",
    "    # given each bowl (hyptothesis). Structured such that P(D|H) = likelihoods[H][D].\n",
    "    # Assume we start with 100 cookies in each bowl.\n",
    "    likelihoods = {\n",
    "        'Bowl 1': dict(vanilla=75, chocolate=25),\n",
    "        'Bowl 2': dict(vanilla=50, chocolate=50)\n",
    "    }\n",
    "    \n",
    "    def update(self, D):\n",
    "        \"\"\"Update each hypothess' probability based on data.\n",
    "        \n",
    "        When update() gets called, self represents the prior P(H) (or equivalently,\n",
    "        the posterior of a previous update).\n",
    "        \n",
    "        To compute the posterior given the observed data D, each P(H) gets\n",
    "        multiplied by likelihood P(D | H), as in the RHS numerator of Bayes theorem.\n",
    "        \n",
    "        To get the posterior P(H | D), one must normalize by P(D). Assuming\n",
    "        that the hypotheses in self are mutually exclusive and collectively\n",
    "        exhaustive, it suffices to call self.normalize().\n",
    "        \n",
    "        In the end, self represents the posterior given the observed data, D.\n",
    "        \"\"\"\n",
    "        \n",
    "        # Multiply each prior by its corresponding likelihood.\n",
    "        # Decrement the count corresponding to the cookie that was picked.\n",
    "        for H in self.index.values:\n",
    "            self[H] *= self.likelihoods[H][D]\n",
    "            self.likelihoods[H][D] -= 1\n",
    "        \n",
    "        return self.normalize()\n",
    "    \n",
    "cookies = CookieExample(['Bowl 1', 'Bowl 2'])\n",
    "\n",
    "for data in ['vanilla', 'chocolate']:\n",
    "    display('Pick %s' % data, cookies.update(data))"
   ]
  }
 ],
 "metadata": {
  "kernelspec": {
   "display_name": "Python 3",
   "language": "python",
   "name": "python3"
  },
  "language_info": {
   "codemirror_mode": {
    "name": "ipython",
    "version": 3
   },
   "file_extension": ".py",
   "mimetype": "text/x-python",
   "name": "python",
   "nbconvert_exporter": "python",
   "pygments_lexer": "ipython3",
   "version": "3.5.2"
  }
 },
 "nbformat": 4,
 "nbformat_minor": 1
}
