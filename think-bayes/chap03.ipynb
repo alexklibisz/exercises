{
 "cells": [
  {
   "cell_type": "markdown",
   "metadata": {},
   "source": [
    "# Think Bayes: Chapter 3\n",
    "\n",
    "This notebook presents example code and exercise solutions for Think Bayes.\n",
    "\n",
    "Copyright 2016 Allen B. Downey\n",
    "\n",
    "MIT License: https://opensource.org/licenses/MIT"
   ]
  },
  {
   "cell_type": "code",
   "execution_count": 53,
   "metadata": {},
   "outputs": [
    {
     "name": "stdout",
     "output_type": "stream",
     "text": [
      "The autoreload extension is already loaded. To reload it, use:\n",
      "  %reload_ext autoreload\n"
     ]
    },
    {
     "data": {
      "text/plain": [
       "'Done'"
      ]
     },
     "execution_count": 53,
     "metadata": {},
     "output_type": "execute_result"
    }
   ],
   "source": [
    "from __future__ import print_function, division\n",
    "\n",
    "%load_ext autoreload\n",
    "%autoreload 2\n",
    "%matplotlib inline\n",
    "\n",
    "from IPython.display import display\n",
    "from scipy.stats import hypergeom\n",
    "from sympy import symbols\n",
    "import matplotlib.pyplot as plt\n",
    "import mythinkbayes as mtb\n",
    "import numpy as np\n",
    "import pandas as pd\n",
    "\n",
    "'Done'"
   ]
  },
  {
   "cell_type": "markdown",
   "metadata": {},
   "source": [
    "## The Dice problem\n",
    "\n",
    "Suppose I have a box of dice that contains a 4-sided die, a 6-sided\n",
    "die, an 8-sided die, a 12-sided die, and a 20-sided die.\n",
    "\n",
    "Suppose I select a die from the box at random, roll it, and get a 6.\n",
    "What is the probability that I rolled each die?"
   ]
  },
  {
   "cell_type": "code",
   "execution_count": 2,
   "metadata": {},
   "outputs": [
    {
     "data": {
      "text/plain": [
       "'Rolled 6'"
      ]
     },
     "metadata": {},
     "output_type": "display_data"
    },
    {
     "data": {
      "text/plain": [
       "4     0.000000\n",
       "6     0.392157\n",
       "8     0.294118\n",
       "12    0.196078\n",
       "20    0.117647\n",
       "dtype: float64"
      ]
     },
     "metadata": {},
     "output_type": "display_data"
    },
    {
     "data": {
      "text/plain": [
       "'Rolled 6'"
      ]
     },
     "metadata": {},
     "output_type": "display_data"
    },
    {
     "data": {
      "text/plain": [
       "4     0.000000\n",
       "6     0.525624\n",
       "8     0.295664\n",
       "12    0.131406\n",
       "20    0.047306\n",
       "dtype: float64"
      ]
     },
     "metadata": {},
     "output_type": "display_data"
    },
    {
     "data": {
      "text/plain": [
       "'Rolled 8'"
      ]
     },
     "metadata": {},
     "output_type": "display_data"
    },
    {
     "data": {
      "text/plain": [
       "4     0.000000\n",
       "6     0.000000\n",
       "8     0.735134\n",
       "12    0.217817\n",
       "20    0.047049\n",
       "dtype: float64"
      ]
     },
     "metadata": {},
     "output_type": "display_data"
    },
    {
     "data": {
      "text/plain": [
       "'Rolled 7'"
      ]
     },
     "metadata": {},
     "output_type": "display_data"
    },
    {
     "data": {
      "text/plain": [
       "4     0.000000\n",
       "6     0.000000\n",
       "8     0.817574\n",
       "12    0.161496\n",
       "20    0.020930\n",
       "dtype: float64"
      ]
     },
     "metadata": {},
     "output_type": "display_data"
    },
    {
     "data": {
      "text/plain": [
       "'Rolled 7'"
      ]
     },
     "metadata": {},
     "output_type": "display_data"
    },
    {
     "data": {
      "text/plain": [
       "4     0.000000\n",
       "6     0.000000\n",
       "8     0.875713\n",
       "12    0.115320\n",
       "20    0.008967\n",
       "dtype: float64"
      ]
     },
     "metadata": {},
     "output_type": "display_data"
    },
    {
     "data": {
      "text/plain": [
       "'Rolled 5'"
      ]
     },
     "metadata": {},
     "output_type": "display_data"
    },
    {
     "data": {
      "text/plain": [
       "4     0.000000\n",
       "6     0.000000\n",
       "8     0.915845\n",
       "12    0.080403\n",
       "20    0.003751\n",
       "dtype: float64"
      ]
     },
     "metadata": {},
     "output_type": "display_data"
    },
    {
     "data": {
      "text/plain": [
       "'Rolled 4'"
      ]
     },
     "metadata": {},
     "output_type": "display_data"
    },
    {
     "data": {
      "text/plain": [
       "4     0.000000\n",
       "6     0.000000\n",
       "8     0.943248\n",
       "12    0.055206\n",
       "20    0.001545\n",
       "dtype: float64"
      ]
     },
     "metadata": {},
     "output_type": "display_data"
    }
   ],
   "source": [
    "class DiceExample(mtb.PMF):\n",
    "    \n",
    "    def likelihood(self, data, hypo):\n",
    "        \"\"\"Return P(data | hypo) to be used when updating the prior.\"\"\"\n",
    "        if hypo < data:\n",
    "            return 0\n",
    "        return 1 / hypo\n",
    "\n",
    "ex = DiceExample([4, 6, 8, 12, 20])\n",
    "\n",
    "for roll in [6, 6, 8, 7, 7, 5, 4]:\n",
    "    display('Rolled %d' % roll, ex.update(roll))"
   ]
  },
  {
   "cell_type": "markdown",
   "metadata": {},
   "source": [
    "## The train problem\n",
    "\n",
    "The Train problem has the same likelihood as the Dice problem."
   ]
  },
  {
   "cell_type": "code",
   "execution_count": 20,
   "metadata": {},
   "outputs": [
    {
     "data": {
      "image/png": "[encoded data removed]",
      "text/plain": [
       "<matplotlib.figure.Figure at 0x7f3cd9ff7a90>"
      ]
     },
     "metadata": {},
     "output_type": "display_data"
    },
    {
     "name": "stdout",
     "output_type": "stream",
     "text": [
      "Expectation = 335.04414\n",
      "Argmax = 61.00000\n"
     ]
    }
   ],
   "source": [
    "class TrainExample(mtb.PMF):\n",
    "    \n",
    "    def likelihood(self, data, hypo):\n",
    "        return 1. / hypo * (data < hypo)\n",
    "\n",
    "ex = TrainExample(np.arange(1, 1001))\n",
    "ex.update(60)\n",
    "\n",
    "plt.plot(ex.index, ex.values, label='P(fleet size|observed number 60)')\n",
    "plt.axvline(ex.expectation(), label='E[fleet size]', color='green', linestyle='--')\n",
    "plt.axvline(ex.idxmax(), label='argmax[fleet size]', color='red', linestyle='--')\n",
    "plt.legend()\n",
    "plt.show()\n",
    "\n",
    "print('Expectation = %.5lf' % ex.expectation())\n",
    "print('Argmax = %.5lf' % ex.idxmax())"
   ]
  },
  {
   "cell_type": "markdown",
   "metadata": {},
   "source": [
    "## Sensitivity to the prior\n",
    "\n",
    "Here's a function that solves the train problem for different priors and data"
   ]
  },
  {
   "cell_type": "code",
   "execution_count": 4,
   "metadata": {},
   "outputs": [
    {
     "name": "stdout",
     "output_type": "stream",
     "text": [
      "500, 151.8496\n",
      "1000, 164.3056\n",
      "2000, 171.3382\n"
     ]
    }
   ],
   "source": [
    "highs = [500, 1000, 2000] # Number of trains in a fleet.\n",
    "data = [30, 60, 90]       # Train number observed.\n",
    "\n",
    "for high in highs:\n",
    "    ex = TrainExample(np.arange(1, high + 1))\n",
    "    for d in data:\n",
    "        ex.update(d)\n",
    "    print('%d, %.4lf' % (high, ex.expectation()))"
   ]
  },
  {
   "cell_type": "markdown",
   "metadata": {},
   "source": [
    "## Power law prior\n",
    "\n",
    "Now let's try it with a power law prior."
   ]
  },
  {
   "cell_type": "code",
   "execution_count": 5,
   "metadata": {},
   "outputs": [
    {
     "data": {
      "image/png": "[encoded data removed]",
      "text/plain": [
       "<matplotlib.figure.Figure at 0x7f3cdc2b1cf8>"
      ]
     },
     "metadata": {},
     "output_type": "display_data"
    }
   ],
   "source": [
    "hypos = np.arange(1, 1001)\n",
    "observations = [60, 90, 120]\n",
    "\n",
    "ex = TrainExample(hypos, np.ones(len(hypos)))\n",
    "plt.plot(ex.index, ex.values, label='P(fleet size) = $U(1, %d)$' % hypos.max())\n",
    "for i, obs in enumerate(observations):\n",
    "    ex.update(obs)\n",
    "    plt.plot(ex.index, ex.values, label='P(fleet size | observed %s)' % str(observations[:i+1]))\n",
    "plt.legend()\n",
    "plt.title('Posteriors based on Uniform Prior')\n",
    "plt.show()\n",
    "    "
   ]
  },
  {
   "cell_type": "code",
   "execution_count": 6,
   "metadata": {},
   "outputs": [
    {
     "data": {
      "image/png": "[encoded data removed]",
      "text/plain": [
       "<matplotlib.figure.Figure at 0x7f3cda13e2b0>"
      ]
     },
     "metadata": {},
     "output_type": "display_data"
    }
   ],
   "source": [
    "alpha = 1.0\n",
    "prior = (1./hypos) ** alpha\n",
    "ex = TrainExample(hypos, prior)\n",
    "plt.plot(ex.index, ex.values, label='P(fleet size) = $X^{-%.3lf}$' % alpha)\n",
    "for i, obs in enumerate(observations):\n",
    "    ex.update(obs)\n",
    "    plt.plot(ex.index, ex.values, label='P(fleet size | observed %s)' % str(observations[:i+1]))\n",
    "plt.legend()\n",
    "plt.title('Posteriors based on Power-law Prior')\n",
    "plt.show()"
   ]
  },
  {
   "cell_type": "markdown",
   "metadata": {},
   "source": [
    "Now let's see what the posteriors look like after observing one train.\n",
    "\n",
    "Observe that the expectation for the uniform prior has greater changes in the expectations as you increase the high value."
   ]
  },
  {
   "cell_type": "code",
   "execution_count": 7,
   "metadata": {},
   "outputs": [
    {
     "name": "stdout",
     "output_type": "stream",
     "text": [
      "High, Observation, Uniform Posterior Expectation, Power Law Posterior Expectation\n",
      "500, 60, 207.0792, 143.8123\n",
      "1000, 60, 333.4199, 178.5474\n",
      "2000, 60, 552.1790, 215.5689\n"
     ]
    }
   ],
   "source": [
    "alpha = 1.0\n",
    "highs = [500, 1000, 2000]\n",
    "observations = [60]\n",
    "\n",
    "print('High, Observation, Uniform Posterior Expectation, Power Law Posterior Expectation')\n",
    "\n",
    "for high in highs:\n",
    "    exu = TrainExample(np.arange(1, high+1))\n",
    "    exp = TrainExample(np.arange(1, high+1), np.arange(1, high + 1) ** -alpha)\n",
    "    for obs in observations:\n",
    "        exu.update(obs)\n",
    "        exp.update(obs)\n",
    "        print('%d, %d, %.4lf, %.4lf' % (high, obs, exu.expectation(), exp.expectation()))"
   ]
  },
  {
   "cell_type": "markdown",
   "metadata": {},
   "source": [
    "## Credible intervals\n",
    "\n",
    "To compute credible intervals, we can use the `Percentile` method on the posterior."
   ]
  },
  {
   "cell_type": "code",
   "execution_count": 21,
   "metadata": {},
   "outputs": [
    {
     "data": {
      "text/plain": [
       "(69, 869)"
      ]
     },
     "execution_count": 21,
     "metadata": {},
     "output_type": "execute_result"
    }
   ],
   "source": [
    "# Testing a simple CDF class.\n",
    "ex_pmf = TrainExample(range(1, 1001))\n",
    "ex_pmf.update(60)\n",
    "ex_cdf = mtb.CDF.from_pmf(ex_pmf)\n",
    "ex_cdf.percentile(5), ex_cdf.percentile(95)"
   ]
  },
  {
   "cell_type": "markdown",
   "metadata": {},
   "source": [
    "Also, a CDF can be a better way to visualize distributions."
   ]
  },
  {
   "cell_type": "code",
   "execution_count": 22,
   "metadata": {},
   "outputs": [
    {
     "data": {
      "image/png": "[encoded data removed]",
      "text/plain": [
       "<matplotlib.figure.Figure at 0x7f3cd9fe76a0>"
      ]
     },
     "metadata": {},
     "output_type": "display_data"
    }
   ],
   "source": [
    "plt.plot(ex_cdf.index, ex_cdf.values)\n",
    "plt.show()"
   ]
  },
  {
   "cell_type": "markdown",
   "metadata": {},
   "source": [
    "## Exercises"
   ]
  },
  {
   "cell_type": "markdown",
   "metadata": {},
   "source": [
    "**Exercise:** To write a likelihood function for the locomotive problem, we had\n",
    "to answer this question:  \"If the railroad has `N` locomotives, what\n",
    "is the probability that we see number 60?\"\n",
    "\n",
    "The answer depends on what sampling process we use when we observe the\n",
    "locomotive.  In this chapter, I resolved the ambiguity by specifying\n",
    "that there is only one train-operating company (or only one that we\n",
    "care about).\n",
    "\n",
    "But suppose instead that there are many companies with different\n",
    "numbers of trains.  And suppose that you are equally likely to see any\n",
    "train operated by any company.\n",
    "In that case, the likelihood function is different because you\n",
    "are more likely to see a train operated by a large company.\n",
    "\n",
    "As an exercise, implement the likelihood function for this variation\n",
    "of the locomotive problem, and compare the results."
   ]
  },
  {
   "cell_type": "markdown",
   "metadata": {
    "collapsed": true
   },
   "source": [
    "**Ambiguous Question**\n",
    "\n",
    "This question had me going in circles for some time before I finally capitulated and looked at the solution. Downey's solution (below) is based on the assumptions that we know how many trains A has ($N$) and how many trains the remaining companies have ($M$). If you already know how many trains there are ($N$ and $M$), then I cannot understand the point of computing the posterior over various values of $N$, which is what the original train exercise was doing.\n",
    "\n",
    "**Solution from Downey**\n",
    "\n",
    "Suppose Company A has N trains and all other companies have M.\n",
    "The chance that we would observe one of Company A's trains is $N/(N+M)$.\n",
    "Given that we observe one of Company A's trains, the chance that we\n",
    "observe number 60 is $1/N$ for $N \\ge 60$.\n",
    "\n",
    "The product of these probabilities is $1/(N+M)$, which is just the\n",
    "probability of observing any given train.\n",
    "\n",
    "If N<<M, this converges to a constant, which means that all value of $N$\n",
    "have the same likelihood, so we learn nothing about how many trains\n",
    "Company A has.\n",
    "\n",
    "If N>>M, this converges to $1/N$, which is what we saw in the previous\n",
    "solution.\n",
    "\n",
    "More generally, if M is unknown, we would need a prior distribution for\n",
    "M, then we can do a two-dimensional update, and then extract the posterior\n",
    "distribution for N.\n",
    "\n",
    "We'll see how to do that soon."
   ]
  },
  {
   "cell_type": "markdown",
   "metadata": {},
   "source": [
    "**Exercise:** Suppose I capture and tag 10 rock hyraxes.  Some time later, I capture another 10 hyraxes and find that two of them are already tagged.  How many hyraxes are there in this environment?\n",
    "\n",
    "As always with problems like this, we have to make some modeling assumptions. \n",
    "\n",
    "1) For simplicity, you can assume that the environment is reasonably isolated, so the number of hyraxes does not change between observations.\n",
    "\n",
    "2) And you can assume that each hyrax is equally likely to be captured during each phase of the experiment, regardless of whether it has been tagged.  In reality, it is possible that tagged animals would avoid traps in the future, or possible that the same behavior that got them caught the first time makes them more likely to be caught again.  But let's start simple.\n",
    "\n",
    "I suggest the following notation:\n",
    "\n",
    "*  `N`: total population of hyraxes \n",
    "*  `K`: number of hyraxes tagged in the first round \n",
    "*  `n`: number of hyraxes caught in the second round\n",
    "*  `k`: number of hyraxes in the second round that had been tagged\n",
    "\n",
    "So `N` is the hypothesis and `(K, n, k)` make up the data.  The probability of the data, given the hypothesis, is the probability of finding `k` tagged hyraxes out of `n` if (in the population) `K` out of `N` are tagged. \n",
    "\n",
    "If you are familiar with the hypergeometric distribution, you can use the hypergeometric PMF to compute the likelihood function.  Otherwise, you can figure it out using combinatorics."
   ]
  },
  {
   "cell_type": "markdown",
   "metadata": {},
   "source": [
    "The distribution in question can be specified:\n",
    "\n",
    "$P(N | (K, n, k)) = \\frac{P(N) \\times P((K, n, k) | N)}{P((k, n, k))}$\n",
    "\n",
    "For $P(N)$, we can assume a uniform prior with an arbitrary upper bound and lower bound at $K + (n - k)$, since you catch $K$ hyraxes in the first round and at least $n-k$ new hyraxes in the second round.\n",
    "\n",
    "For $P((K, n, k) | N)$ we use the hypergeometric distribution. Without knowing the hypergeometric distribution, this would be more difficult.\n",
    "\n",
    "We don't have to worry about $P((K, n, k))$, as it gets computed when we normalize."
   ]
  },
  {
   "cell_type": "code",
   "execution_count": 63,
   "metadata": {},
   "outputs": [
    {
     "data": {
      "image/png": "[encoded data removed]",
      "text/plain": [
       "<matplotlib.figure.Figure at 0x7f3cd0a7e940>"
      ]
     },
     "metadata": {},
     "output_type": "display_data"
    },
    {
     "data": {
      "image/png": "[encoded data removed]",
      "text/plain": [
       "<matplotlib.figure.Figure at 0x7f3cd0a2eb38>"
      ]
     },
     "metadata": {},
     "output_type": "display_data"
    }
   ],
   "source": [
    "K = 10    # Number caught and tagged in first round.\n",
    "n = 10    # Number caught and tagged in second round.\n",
    "k = 2     # Number of already-tagged hyraxes caught in second round.\n",
    "\n",
    "m = K + (n - k)  # Minimum possible number of hyraxes.\n",
    "M = 1000         # Max possible number of hyraxes.\n",
    "\n",
    "# PMF with uniform prior.\n",
    "ex = mtb.PMF(range(m, M + 1))\n",
    "\n",
    "# Update prior over N, given (K, n, k) fixed values defined above.\n",
    "# Use the hypergeometric pmf to model the likelihood of (K, n, k) given K.\n",
    "# There is a fantastic example on the scipy.stats documentation:\n",
    "# https://docs.scipy.org/doc/scipy-0.14.0/reference/generated/scipy.stats.hypergeom.html\n",
    "for N in ex.hypos:\n",
    "    ex[N] *= hypergeom(N, K, n).pmf(k)\n",
    "\n",
    "ex.normalize()\n",
    "\n",
    "plt.plot(ex.index, ex.values)\n",
    "plt.axvline(ex.expectation(), label='Posterior expectation=\\n%.3lf' % ex.expectation(), color='red')\n",
    "plt.title('PMF: $P(N | (K, n, k))$')\n",
    "plt.legend()\n",
    "plt.show()\n",
    "\n",
    "ex_cdf = mtb.CDF.from_pmf(ex)\n",
    "plt.plot(ex_cdf.index, ex_cdf.values)\n",
    "plt.title('CDF: $P(x \\leq N | (K, n, k))$')\n",
    "plt.show()"
   ]
  }
 ],
 "metadata": {
  "kernelspec": {
   "display_name": "Python 3",
   "language": "python",
   "name": "python3"
  },
  "language_info": {
   "codemirror_mode": {
    "name": "ipython",
    "version": 3
   },
   "file_extension": ".py",
   "mimetype": "text/x-python",
   "name": "python",
   "nbconvert_exporter": "python",
   "pygments_lexer": "ipython3",
   "version": "3.5.2"
  }
 },
 "nbformat": 4,
 "nbformat_minor": 1
}
