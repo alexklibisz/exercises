{
 "cells": [
  {
   "cell_type": "markdown",
   "metadata": {},
   "source": [
    "# Think Bayes: Chapter 5\n",
    "\n",
    "This notebook presents code and exercises from Think Bayes, second edition.\n",
    "\n",
    "Copyright 2016 Allen B. Downey\n",
    "\n",
    "MIT License: https://opensource.org/licenses/MIT"
   ]
  },
  {
   "cell_type": "code",
   "execution_count": 1,
   "metadata": {},
   "outputs": [
    {
     "data": {
      "text/plain": [
       "'Done'"
      ]
     },
     "execution_count": 1,
     "metadata": {},
     "output_type": "execute_result"
    }
   ],
   "source": [
    "from __future__ import print_function, division\n",
    "\n",
    "%load_ext autoreload\n",
    "%autoreload 2\n",
    "%matplotlib inline\n",
    "\n",
    "import warnings\n",
    "warnings.filterwarnings('ignore')\n",
    "\n",
    "from IPython.display import display\n",
    "from sympy import symbols\n",
    "import matplotlib.pyplot as plt\n",
    "import mythinkbayes as mtb\n",
    "import numpy as np\n",
    "import pdb\n",
    "import scipy.stats\n",
    "\n",
    "'Done'"
   ]
  },
  {
   "cell_type": "markdown",
   "metadata": {},
   "source": [
    "## Odds\n",
    "\n",
    "The following function converts from probabilities to odds."
   ]
  },
  {
   "cell_type": "code",
   "execution_count": 2,
   "metadata": {},
   "outputs": [],
   "source": [
    "def Odds(p):\n",
    "    return p / (1-p)"
   ]
  },
  {
   "cell_type": "markdown",
   "metadata": {},
   "source": [
    "And this function converts from odds to probabilities."
   ]
  },
  {
   "cell_type": "code",
   "execution_count": 3,
   "metadata": {},
   "outputs": [],
   "source": [
    "def Probability(o):\n",
    "    return o / (o+1)"
   ]
  },
  {
   "cell_type": "markdown",
   "metadata": {},
   "source": [
    "If 20% of bettors think my horse will win, that corresponds to odds of 1:4, or 0.25."
   ]
  },
  {
   "cell_type": "code",
   "execution_count": 4,
   "metadata": {},
   "outputs": [
    {
     "data": {
      "text/plain": [
       "0.25"
      ]
     },
     "execution_count": 4,
     "metadata": {},
     "output_type": "execute_result"
    }
   ],
   "source": [
    "p = 0.2\n",
    "Odds(p)"
   ]
  },
  {
   "cell_type": "markdown",
   "metadata": {},
   "source": [
    "If the odds against my horse are 1:5, that corresponds to a probability of 1/6."
   ]
  },
  {
   "cell_type": "code",
   "execution_count": 5,
   "metadata": {},
   "outputs": [
    {
     "data": {
      "text/plain": [
       "0.16666666666666669"
      ]
     },
     "execution_count": 5,
     "metadata": {},
     "output_type": "execute_result"
    }
   ],
   "source": [
    "o = 1/5\n",
    "Probability(o)"
   ]
  },
  {
   "cell_type": "markdown",
   "metadata": {},
   "source": [
    "We can use the odds form of Bayes's theorem to solve the cookie problem:"
   ]
  },
  {
   "cell_type": "code",
   "execution_count": 6,
   "metadata": {},
   "outputs": [
    {
     "data": {
      "text/plain": [
       "1.5"
      ]
     },
     "execution_count": 6,
     "metadata": {},
     "output_type": "execute_result"
    }
   ],
   "source": [
    "prior_odds = 1\n",
    "likelihood_ratio = 0.75 / 0.5\n",
    "post_odds = prior_odds * likelihood_ratio\n",
    "post_odds"
   ]
  },
  {
   "cell_type": "markdown",
   "metadata": {},
   "source": [
    "And then we can compute the posterior probability, if desired."
   ]
  },
  {
   "cell_type": "code",
   "execution_count": 7,
   "metadata": {},
   "outputs": [
    {
     "data": {
      "text/plain": [
       "0.6"
      ]
     },
     "execution_count": 7,
     "metadata": {},
     "output_type": "execute_result"
    }
   ],
   "source": [
    "post_prob = Probability(post_odds)\n",
    "post_prob"
   ]
  },
  {
   "cell_type": "markdown",
   "metadata": {},
   "source": [
    "If we draw another cookie and it's chocolate, we can do another update:"
   ]
  },
  {
   "cell_type": "code",
   "execution_count": 8,
   "metadata": {},
   "outputs": [
    {
     "data": {
      "text/plain": [
       "0.75"
      ]
     },
     "execution_count": 8,
     "metadata": {},
     "output_type": "execute_result"
    }
   ],
   "source": [
    "likelihood_ratio = 0.25 / 0.5\n",
    "post_odds *= likelihood_ratio\n",
    "post_odds"
   ]
  },
  {
   "cell_type": "markdown",
   "metadata": {},
   "source": [
    "And convert back to probability."
   ]
  },
  {
   "cell_type": "code",
   "execution_count": 9,
   "metadata": {},
   "outputs": [
    {
     "data": {
      "text/plain": [
       "0.42857142857142855"
      ]
     },
     "execution_count": 9,
     "metadata": {},
     "output_type": "execute_result"
    }
   ],
   "source": [
    "post_prob = Probability(post_odds)\n",
    "post_prob"
   ]
  },
  {
   "cell_type": "markdown",
   "metadata": {},
   "source": [
    "## Oliver's blood\n",
    "\n",
    "The likelihood ratio is also useful for talking about the strength of evidence without getting bogged down talking about priors.\n",
    "\n",
    "As an example, we'll solve this problem from MacKay's *Information Theory, Inference, and Learning Algorithms*:\n",
    "\n",
    "> Two people have left traces of their own blood at the scene of a crime.  A suspect, Oliver, is tested and found to have type 'O' blood.  The blood groups of the two traces are found to be of type 'O' (a common type in the local population, having frequency 60) and of type 'AB' (a rare type, with frequency 1). Do these data [the traces found at the scene] give evidence in favor of the proposition that Oliver was one of the people [who left blood at the scene]?\n",
    "\n",
    "If Oliver is\n",
    "one of the people who left blood at the crime scene, then he\n",
    "accounts for the 'O' sample, so the probability of the data\n",
    "is just the probability that a random member of the population\n",
    "has type 'AB' blood, which is 1%.\n",
    "\n",
    "$P(\\text{D | Oliver accounts for type O }) = P(\\text{( Oliver, someone with AB) | Oliver accounts for type O }) = P(\\text{ someone with AB }) = 0.01$\n",
    "\n",
    "If Oliver did not leave blood at the scene, then we have two\n",
    "samples to account for.  If we choose two random people from\n",
    "the population, what is the chance of finding one with type 'O'\n",
    "and one with type 'AB'?  Well, there are two ways it might happen:\n",
    "the first person we choose might have type 'O' and the second\n",
    "'AB', or the other way around.  So the total probability is\n",
    "$2 (0.6) (0.01) = 1.2$%.\n",
    "\n",
    "$P(\\text{D | Not Oliver }) = P(\\text{ (O, AB) | Not Oliver }) + P(\\text{ (AB, O) | Not Oliver }) = 2 \\times 0.5 \\times0.01$\n",
    "\n",
    "So the likelihood ratio is:"
   ]
  },
  {
   "cell_type": "code",
   "execution_count": 10,
   "metadata": {},
   "outputs": [
    {
     "data": {
      "text/plain": [
       "0.8333333333333334"
      ]
     },
     "execution_count": 10,
     "metadata": {},
     "output_type": "execute_result"
    }
   ],
   "source": [
    "like1 = 0.01\n",
    "like2 = 2 * 0.6 * 0.01\n",
    "\n",
    "likelihood_ratio = like1 / like2\n",
    "likelihood_ratio"
   ]
  },
  {
   "cell_type": "markdown",
   "metadata": {},
   "source": [
    "Since the ratio is less than 1, it is evidence *against* the hypothesis that Oliver left blood at the scence.\n",
    "\n",
    "But it is weak evidence.  For example, if the prior odds were 1 (that is, 50% probability), the posterior odds would be 0.83, which corresponds to a probability of:"
   ]
  },
  {
   "cell_type": "code",
   "execution_count": 11,
   "metadata": {},
   "outputs": [
    {
     "data": {
      "text/plain": [
       "0.45454545454545453"
      ]
     },
     "execution_count": 11,
     "metadata": {},
     "output_type": "execute_result"
    }
   ],
   "source": [
    "post_odds = 1 * like1 / like2\n",
    "Probability(post_odds)"
   ]
  },
  {
   "cell_type": "markdown",
   "metadata": {},
   "source": [
    "So this evidence doesn't \"move the needle\" very much."
   ]
  },
  {
   "cell_type": "markdown",
   "metadata": {},
   "source": [
    "**Exercise:** Suppose other evidence had made you 90% confident of Oliver's guilt.  How much would this exculpatory evince change your beliefs?  What if you initially thought there was only a 10% chance of his guilt?\n",
    "\n",
    "Notice that evidence with the same strength has a different effect on probability, depending on where you started."
   ]
  },
  {
   "cell_type": "markdown",
   "metadata": {},
   "source": [
    "**Solution**: Recall the odds-form of Bayes rule for two mutually-exclusive collectively-exhaustive hypotheses, $A$ and $B$.\n",
    "\n",
    "$\\frac{P(A|D)}{P(B|D)} = \\frac{P(A) \\times P(D|A)}{P(B) \\times P(D|B)}$\n",
    "\n",
    "In this case, we have to assume the priors $P(A) = 0.9$ and $P(B) = 0.1$. We can use the same likelihoods."
   ]
  },
  {
   "cell_type": "code",
   "execution_count": 12,
   "metadata": {},
   "outputs": [
    {
     "data": {
      "text/plain": [
       "(7.5, 0.8823529411764706)"
      ]
     },
     "execution_count": 12,
     "metadata": {},
     "output_type": "execute_result"
    }
   ],
   "source": [
    "like1 = 0.01\n",
    "like2 = 2 * 0.6 * 0.01\n",
    "post_odds = (0.9 / 0.1) * (like1 / like2)\n",
    "post_odds, Probability(post_odds)"
   ]
  },
  {
   "cell_type": "markdown",
   "metadata": {},
   "source": [
    "This yields a stark increase in odds in favor of hypothesis $A$."
   ]
  },
  {
   "cell_type": "markdown",
   "metadata": {},
   "source": [
    "## Comparing distributions\n",
    "\n",
    "Let's get back to the Kim Rhode problem from Chapter 4:\n",
    "\n",
    "> At the 2016 Summer Olympics in the Women's Skeet event, Kim Rhode faced Wei Meng in the bronze medal match. They each hit 15 of 25 targets, sending the match into sudden death. In the first round, both hit 1 of 2 targets. In the next two rounds, they each hit 2 targets. Finally, in the fourth round, Rhode hit 2 and Wei hit 1, so Rhode won the bronze medal, making her the first Summer Olympian to win an individual medal at six consecutive summer games.\n",
    "\n",
    ">But after all that shooting, what is the probability that Rhode is actually a better shooter than Wei? If the same match were held again, what is the probability that Rhode would win?\n",
    "\n",
    "I'll start with a uniform distribution for `x`, the probability of hitting a target, but we should check whether the results are sensitive to that choice.\n",
    "\n",
    "First I create a Beta distribution for each of the competitors, and update it with the results."
   ]
  },
  {
   "cell_type": "code",
   "execution_count": 13,
   "metadata": {},
   "outputs": [
    {
     "data": {
      "text/plain": [
       "({'a': 23, 'b': 12}, {'a': 22, 'b': 13})"
      ]
     },
     "execution_count": 13,
     "metadata": {},
     "output_type": "execute_result"
    }
   ],
   "source": [
    "prm_R = dict(a=1 + 22, b=1 + 11)\n",
    "prm_W = dict(a=1 + 21, b=1 + 12)\n",
    "prm_R, prm_W"
   ]
  },
  {
   "cell_type": "markdown",
   "metadata": {},
   "source": [
    "Based on the data, the distribution for Rhode is slightly farther right than the distribution for Wei, but there is a lot of overlap."
   ]
  },
  {
   "cell_type": "code",
   "execution_count": 14,
   "metadata": {},
   "outputs": [
    {
     "data": {
      "image/png": "[encoded data removed]",
      "text/plain": [
       "<matplotlib.figure.Figure at 0x7f376925f908>"
      ]
     },
     "metadata": {},
     "output_type": "display_data"
    }
   ],
   "source": [
    "X = np.linspace(0, 1, 101)\n",
    "plt.plot(X, scipy.stats.beta(**prm_R).pdf(X), label='R')\n",
    "plt.plot(X, scipy.stats.beta(**prm_W).pdf(X), label='W')\n",
    "plt.xlabel('Shooting accuracy')\n",
    "plt.ylabel('Probability')\n",
    "plt.legend()\n",
    "plt.show()"
   ]
  },
  {
   "cell_type": "markdown",
   "metadata": {},
   "source": [
    "To compute the probability that Rhode actually has a higher value of `p`, there are two options:\n",
    "\n",
    "1. Sampling: we could draw random samples from the posterior distributions and compare them.\n",
    "\n",
    "2. Enumeration: we could enumerate all possible pairs of values and add up the \"probability of superiority\".\n",
    "\n",
    "I'll start with sampling.  The Beta object provides a method that draws a random value from a Beta distribution:"
   ]
  },
  {
   "cell_type": "markdown",
   "metadata": {},
   "source": [
    "`Beta` also provides `Sample`, which returns a NumPy array, so we an perform the comparisons using array operations:"
   ]
  },
  {
   "cell_type": "code",
   "execution_count": 15,
   "metadata": {},
   "outputs": [
    {
     "data": {
      "text/plain": [
       "0.635"
      ]
     },
     "execution_count": 15,
     "metadata": {},
     "output_type": "execute_result"
    }
   ],
   "source": [
    "iters = 1000\n",
    "x_R = scipy.stats.beta(**prm_R).rvs(iters)\n",
    "x_W = scipy.stats.beta(**prm_W).rvs(iters)\n",
    "count = sum(x_R > x_W)\n",
    "\n",
    "count / iters"
   ]
  },
  {
   "cell_type": "markdown",
   "metadata": {},
   "source": [
    "The other option is to make `Pmf` objects that approximate the Beta distributions, and enumerate pairs of values:"
   ]
  },
  {
   "cell_type": "code",
   "execution_count": 16,
   "metadata": {},
   "outputs": [
    {
     "name": "stdout",
     "output_type": "stream",
     "text": [
      "P(R > W) = 0.59829\n",
      "P(R < W) = 0.39831\n",
      "P(R = W) = 0.00340\n"
     ]
    }
   ],
   "source": [
    "def prob_cmp(pmf1, pmf2, cmpfunc):\n",
    "    \"\"\"\"\"\"\n",
    "    p = 0\n",
    "    for acc1, prob1 in pmf1.items():\n",
    "        for acc2, prob2 in pmf2.items():\n",
    "            if cmpfunc(acc1, acc2):\n",
    "                p += prob1 * prob2\n",
    "    return p\n",
    "\n",
    "X = np.linspace(0, 1, 1001)\n",
    "pmf_R = mtb.PMF(hypos=X, priors=scipy.stats.beta(**prm_R).pdf(X))\n",
    "pmf_W = mtb.PMF(hypos=X, priors=scipy.stats.beta(**prm_W).pdf(X))\n",
    "print('P(R > W) = %.5lf' % prob_cmp(pmf_R, pmf_W, lambda a, b: a > b))\n",
    "print('P(R < W) = %.5lf' % prob_cmp(pmf_R, pmf_W, lambda a, b: a < b))\n",
    "print('P(R = W) = %.5lf' % prob_cmp(pmf_R, pmf_W, lambda a, b: a == b))"
   ]
  },
  {
   "cell_type": "markdown",
   "metadata": {},
   "source": [
    "**Exercise:** Run this analysis again with a different prior and see how much effect it has on the results."
   ]
  },
  {
   "cell_type": "code",
   "execution_count": 17,
   "metadata": {},
   "outputs": [
    {
     "name": "stdout",
     "output_type": "stream",
     "text": [
      "P(R > W) = 0.53193\n",
      "P(R < W) = 0.45899\n",
      "P(R = W) = 0.00908\n"
     ]
    }
   ],
   "source": [
    "# Let's say that Rhode and Wei play a longer game - 250 shots instead of 25 -\n",
    "# and Rhode edges Wei by one shot. If we make this result the prior, then\n",
    "# the Rhodes probability goes down and Wei's goes up.\n",
    "X = np.linspace(0, 1, 1001)\n",
    "pmf_R = mtb.PMF(hypos=X, priors=scipy.stats.beta(151, 99).pdf(X))\n",
    "pmf_W = mtb.PMF(hypos=X, priors=scipy.stats.beta(150, 100).pdf(X))\n",
    "print('P(R > W) = %.5lf' % prob_cmp(pmf_R, pmf_W, lambda a, b: a > b))\n",
    "print('P(R < W) = %.5lf' % prob_cmp(pmf_R, pmf_W, lambda a, b: a < b))\n",
    "print('P(R = W) = %.5lf' % prob_cmp(pmf_R, pmf_W, lambda a, b: a == b))"
   ]
  },
  {
   "cell_type": "markdown",
   "metadata": {},
   "source": [
    "## Mixture of Dice\n",
    "\n",
    "Walking through the mixture of dice example in 5.6.\n",
    "\n",
    "The most likely rolls from the mixture of dice are the low values, because they are available on all dice."
   ]
  },
  {
   "cell_type": "code",
   "execution_count": 18,
   "metadata": {},
   "outputs": [
    {
     "data": {
      "image/png": "[encoded data removed]",
      "text/plain": [
       "<matplotlib.figure.Figure at 0x7f37671bdef0>"
      ]
     },
     "metadata": {},
     "output_type": "display_data"
    }
   ],
   "source": [
    "dmix = mtb.PMF.from_mixture([\n",
    "    (mtb.PMF(range(4)), 5),  # 5x 4-sided\n",
    "    (mtb.PMF(range(6)), 4),  # 4x 6-sided\n",
    "    (mtb.PMF(range(8)), 3),  # 3x 8-sided\n",
    "    (mtb.PMF(range(12)), 2), # 2x 12-sided\n",
    "    (mtb.PMF(range(20)), 1)  # 1x 20-sided\n",
    "])\n",
    "\n",
    "plt.bar(dmix.hypos, dmix.probs)\n",
    "plt.xticks(range(len(dmix)), dmix.hypos)\n",
    "plt.ylabel('Probability')\n",
    "plt.xlabel('Value rolled from a sampled dice')\n",
    "plt.show()"
   ]
  },
  {
   "cell_type": "markdown",
   "metadata": {},
   "source": [
    "## Simulation\n",
    "\n",
    "To make predictions about a rematch, we have two options again:\n",
    "\n",
    "1. Sampling.  For each simulated match, we draw a random value of `x` for each contestant, then simulate 25 shots and count hits.\n",
    "\n",
    "2. Computing a mixture.  If we knew `x` exactly, the distribution of hits, `k`, would be binomial.  Since we don't know `x`, the distribution of `k` is a mixture of binomials with different values of `x`.\n",
    "\n",
    "I'll do it by sampling first.\n",
    "\n",
    "Now we can simulate 1000 rematches and count wins and losses."
   ]
  },
  {
   "cell_type": "code",
   "execution_count": 19,
   "metadata": {},
   "outputs": [
    {
     "data": {
      "text/plain": [
       "(0.531, 0.383)"
      ]
     },
     "execution_count": 19,
     "metadata": {},
     "output_type": "execute_result"
    }
   ],
   "source": [
    "iters = 1000\n",
    "wins = 0\n",
    "losses = 0\n",
    "\n",
    "# Prepare a distribution of accuracies for each player.\n",
    "rv_R = scipy.stats.beta(**prm_R)\n",
    "rv_W = scipy.stats.beta(**prm_W)\n",
    "\n",
    "for _ in range(iters):\n",
    "    \n",
    "    # Get each player's accuracy for this game.\n",
    "    acc_R = rv_R.rvs()\n",
    "    acc_W = rv_W.rvs()\n",
    "    \n",
    "    # Each player takes 25 shots (hit = 1, miss = 0).    \n",
    "    # Sum up the shots to get number of hits.\n",
    "    hits_R = np.random.binomial(1, acc_R, 25).sum()\n",
    "    hits_W = np.random.binomial(1, acc_W, 25).sum()\n",
    "            \n",
    "    wins += hits_R > hits_W\n",
    "    losses += hits_R < hits_W\n",
    "        \n",
    "wins / iters, losses / iters"
   ]
  },
  {
   "cell_type": "markdown",
   "metadata": {},
   "source": [
    "Or, realizing that the distribution of `k` is binomial, we can simplify the code using NumPy:"
   ]
  },
  {
   "cell_type": "code",
   "execution_count": 20,
   "metadata": {},
   "outputs": [
    {
     "data": {
      "image/png": "[encoded data removed]",
      "text/plain": [
       "<matplotlib.figure.Figure at 0x7f37670ecd68>"
      ]
     },
     "metadata": {},
     "output_type": "display_data"
    }
   ],
   "source": [
    "hits_R = np.random.binomial(25, rv_R.rvs(iters))\n",
    "plt.hist(hits_R, label='Rhode', color='blue', alpha=0.5, density=True)\n",
    "\n",
    "hits_W = np.random.binomial(25, rv_W.rvs(iters))\n",
    "plt.hist(hits_W, label='Wei', color='orange', alpha=0.5, density=True)\n",
    "\n",
    "plt.title('Hits per game, %d games' % iters)\n",
    "plt.xlabel('Hits')\n",
    "plt.ylabel('Density')\n",
    "plt.xlim(0, 30)\n",
    "plt.legend()\n",
    "plt.show()"
   ]
  },
  {
   "cell_type": "code",
   "execution_count": 21,
   "metadata": {},
   "outputs": [
    {
     "data": {
      "text/plain": [
       "0.381"
      ]
     },
     "execution_count": 21,
     "metadata": {},
     "output_type": "execute_result"
    }
   ],
   "source": [
    "np.mean(hits_R < hits_W)"
   ]
  },
  {
   "cell_type": "markdown",
   "metadata": {},
   "source": [
    "Alternatively, we can make a mixture that represents the distribution of `k`, taking into account our uncertainty about `x`:"
   ]
  },
  {
   "cell_type": "code",
   "execution_count": 22,
   "metadata": {},
   "outputs": [
    {
     "data": {
      "image/png": "[encoded data removed]",
      "text/plain": [
       "<matplotlib.figure.Figure at 0x7f3767115898>"
      ]
     },
     "metadata": {},
     "output_type": "display_data"
    },
    {
     "name": "stdout",
     "output_type": "stream",
     "text": [
      "P(R > W) = 0.52023\n",
      "P(R < W) = 0.39053\n",
      "P(R = W) = 0.08924\n"
     ]
    }
   ],
   "source": [
    "def get_binomial_mixture(pmf, n_flips=25):\n",
    "    \"\"\"Function explained based on the Olympic shooting example:\n",
    "    \n",
    "    \n",
    "    Given a PMF of a shooter's accuracies:\n",
    "    1. compute a binomial PMF for each of the accuracies that defines\n",
    "    the probability of making each number of shots <= n_shots.\n",
    "    2. combine the binomial PMFs into a single mixture of binomials.\n",
    "    \n",
    "    Using the \"Binomial\" here is a little confusing at first, because each binomial\n",
    "    PMF defines a probability for hitting each of (0, 1, ... n_shots) shots.\n",
    "    \"\"\"\n",
    "    \n",
    "    # Instantiate a binomial PMF for each possible accuracy in the acc_pmf.\n",
    "    # Each PMF defines the probability of making each possible number of shots\n",
    "    # given an accuracy value from the acc_pmf.\n",
    "    hypos = np.arange(n_flips + 1)\n",
    "    binomial_pmfs = [\n",
    "        (mtb.PMF(hypos, scipy.stats.binom(n=n_flips, p=val).pmf(hypos)), prob)\n",
    "        for val, prob in pmf.items()\n",
    "    ]\n",
    "    \n",
    "    # Combine the binomial PMFs as a mixture.\n",
    "    return mtb.PMF.from_mixture(binomial_pmfs)\n",
    "\n",
    "hypos = np.linspace(0, 1, 27)\n",
    "acc_pmf_R = mtb.PMF(hypos, scipy.stats.beta(**prm_R).pdf(hypos))\n",
    "acc_pmf_W = mtb.PMF(hypos, scipy.stats.beta(**prm_W).pdf(hypos))\n",
    "\n",
    "# These will get used many times below.\n",
    "mix_pmf_R = get_binomial_mixture(acc_pmf_R)\n",
    "mix_pmf_W = get_binomial_mixture(acc_pmf_W)\n",
    "\n",
    "plt.plot(mix_pmf_R.hypos, mix_pmf_R.probs, label='Rhode')\n",
    "plt.plot(mix_pmf_W.hypos, mix_pmf_W.probs, label='Wei')\n",
    "plt.xlabel('Hits')\n",
    "plt.ylabel('Frequency')\n",
    "plt.legend()\n",
    "plt.show()\n",
    "\n",
    "print('P(R > W) = %.5lf' % prob_cmp(mix_pmf_R, mix_pmf_W, lambda a, b: a > b))\n",
    "print('P(R < W) = %.5lf' % prob_cmp(mix_pmf_R, mix_pmf_W, lambda a, b: a < b))\n",
    "print('P(R = W) = %.5lf' % prob_cmp(mix_pmf_R, mix_pmf_W, lambda a, b: a == b))"
   ]
  },
  {
   "cell_type": "markdown",
   "metadata": {},
   "source": [
    "**Exercise:** Run this analysis again with a different prior and see how much effect it has on the results."
   ]
  },
  {
   "cell_type": "code",
   "execution_count": 23,
   "metadata": {},
   "outputs": [
    {
     "data": {
      "image/png": "[encoded data removed]",
      "text/plain": [
       "<matplotlib.figure.Figure at 0x7f376706c128>"
      ]
     },
     "metadata": {},
     "output_type": "display_data"
    },
    {
     "name": "stdout",
     "output_type": "stream",
     "text": [
      "P(R > W) = 0.52023\n",
      "P(R < W) = 0.39053\n",
      "P(R = W) = 0.08924\n"
     ]
    }
   ],
   "source": [
    "# Similar to the previous \"try another prior\" exercises, use a prior\n",
    "# consisting of 250 shots instead of 25. Otherwise code is same as above.\n",
    "# Again, using a more informative prior causes the two distributions\n",
    "# to be much closer with a lesser probability of Rhode winning.\n",
    "\n",
    "plt.plot(mix_pmf_R.hypos, mix_pmf_R.probs, label='Rhode')\n",
    "plt.plot(mix_pmf_W.hypos, mix_pmf_W.probs, label='Wei')\n",
    "plt.xlabel('Hits')\n",
    "plt.ylabel('Frequency')\n",
    "plt.legend()\n",
    "plt.show()\n",
    "\n",
    "print('P(R > W) = %.5lf' % prob_cmp(mix_pmf_R, mix_pmf_W, lambda a, b: a > b))\n",
    "print('P(R < W) = %.5lf' % prob_cmp(mix_pmf_R, mix_pmf_W, lambda a, b: a < b))\n",
    "print('P(R = W) = %.5lf' % prob_cmp(mix_pmf_R, mix_pmf_W, lambda a, b: a == b))"
   ]
  },
  {
   "cell_type": "markdown",
   "metadata": {},
   "source": [
    "## Distributions of sums and differences\n",
    "\n",
    "Suppose we want to know the total number of targets the two contestants will hit in a rematch.  There are two ways we might compute the distribution of this sum:\n",
    "\n",
    "1. Sampling: We can draw samples from the distributions and add them up.\n",
    "\n",
    "2. Enumeration: We can enumerate all possible pairs of values.\n",
    "\n",
    "I'll start with sampling:"
   ]
  },
  {
   "cell_type": "code",
   "execution_count": 24,
   "metadata": {},
   "outputs": [
    {
     "data": {
      "image/png": "[encoded data removed]",
      "text/plain": [
       "<matplotlib.figure.Figure at 0x7f3766ff0400>"
      ]
     },
     "metadata": {},
     "output_type": "display_data"
    }
   ],
   "source": [
    "n_games = 10000\n",
    "n_shots = 25\n",
    "\n",
    "acc_rv_R = scipy.stats.beta(**prm_R)\n",
    "acc_rv_W = scipy.stats.beta(**prm_W)\n",
    "\n",
    "sums = []\n",
    "\n",
    "for _ in range(n_games):\n",
    "    acc_R = acc_rv_R.rvs()\n",
    "    acc_W = acc_rv_W.rvs()\n",
    "    sum_R = np.random.binomial(n_shots, acc_R)\n",
    "    sum_W = np.random.binomial(n_shots, acc_W)\n",
    "    sums.append(sum_R + sum_W)\n",
    "    \n",
    "sums_pmf = mtb.PMF.from_observations(sums)\n",
    "\n",
    "plt.bar(sums_pmf.hypos, sums_pmf.probs, label='Sums')\n",
    "plt.axvline(sums_pmf.expectation(), label='Mean sum = %.2lf' % sums_pmf.expectation(), color='red')\n",
    "plt.xlabel('Sum of hits per game, %d games' % (n_games))\n",
    "plt.ylabel('Probability')\n",
    "plt.legend()\n",
    "plt.show()"
   ]
  },
  {
   "cell_type": "markdown",
   "metadata": {
    "collapsed": true
   },
   "source": [
    "Alternatively, we could compute the distribution of the sum by enumeration:"
   ]
  },
  {
   "cell_type": "code",
   "execution_count": 25,
   "metadata": {},
   "outputs": [
    {
     "data": {
      "image/png": "[encoded data removed]",
      "text/plain": [
       "<matplotlib.figure.Figure at 0x7f37670e1748>"
      ]
     },
     "metadata": {},
     "output_type": "display_data"
    }
   ],
   "source": [
    "def add_pmfs(pmf1, pmf2):\n",
    "    \"\"\"Create a new PMF by adding the values of the two given PMFs and\n",
    "    multiplying each pair of values' probabilities to get the probability\n",
    "    of that sum.\"\"\"\n",
    "    pmf = mtb.PMF(hypos=range(max(pmf1.hypos) + max(pmf2.hypos) + 1))\n",
    "    pmf *= 0\n",
    "    for v1, p1 in pmf1.items():\n",
    "        for v2, p2 in pmf2.items():\n",
    "            pmf[v1 + v2] += p1 * p2\n",
    "    return pmf\n",
    "\n",
    "mix_pmf_sum = add_pmfs(mix_pmf_R, mix_pmf_W)\n",
    "\n",
    "plt.bar(mix_pmf_sum.hypos, mix_pmf_sum.probs, label='Sums')\n",
    "plt.axvline(mix_pmf_sum.expectation(), color='red', \n",
    "            label='Mean sum = %.2lf' % mix_pmf_sum.expectation())\n",
    "plt.xlabel('Sum of hits per game')\n",
    "plt.ylabel('Probability')\n",
    "plt.legend()\n",
    "plt.show()"
   ]
  },
  {
   "cell_type": "markdown",
   "metadata": {},
   "source": [
    "**My Exercise:** implement the `+` operator to perform the above addition for two PMFs."
   ]
  },
  {
   "cell_type": "code",
   "execution_count": 26,
   "metadata": {},
   "outputs": [
    {
     "data": {
      "image/png": "[encoded data removed]",
      "text/plain": [
       "<matplotlib.figure.Figure at 0x7f3767056b70>"
      ]
     },
     "metadata": {},
     "output_type": "display_data"
    }
   ],
   "source": [
    "mix_pmf_sum = mix_pmf_R + mix_pmf_W\n",
    "\n",
    "plt.bar(mix_pmf_sum.hypos, mix_pmf_sum.probs, label='Sums')\n",
    "plt.axvline(mix_pmf_sum.expectation(), color='red', \n",
    "            label='Mean sum = %.2lf' % mix_pmf_sum.expectation())\n",
    "plt.xlabel('Sum of hits per game')\n",
    "plt.ylabel('Probability')\n",
    "plt.legend()\n",
    "plt.show()"
   ]
  },
  {
   "cell_type": "markdown",
   "metadata": {
    "collapsed": true
   },
   "source": [
    "**Exercise:**  The Pmf class also provides the `-` operator, which computes the distribution of the difference in values from two distributions.  Use the distributions from the previous section to compute the distribution of the differential between Rhode and Wei in a rematch.  On average, how many clays should we expect Rhode to win by?  What is the probability that Rhode wins by 10 or more?"
   ]
  },
  {
   "cell_type": "code",
   "execution_count": 27,
   "metadata": {},
   "outputs": [
    {
     "data": {
      "image/png": "[encoded data removed]",
      "text/plain": [
       "<matplotlib.figure.Figure at 0x7f37670f4240>"
      ]
     },
     "metadata": {},
     "output_type": "display_data"
    },
    {
     "name": "stdout",
     "output_type": "stream",
     "text": [
      "P(R - W >= 10) = 1 - P(R - W <= 9) = 0.0214\n"
     ]
    }
   ],
   "source": [
    "mix_pmf_diff = mix_pmf_R - mix_pmf_W\n",
    "\n",
    "plt.bar(mix_pmf_diff.hypos, mix_pmf_diff.probs, label='Diffs')\n",
    "plt.axvline(mix_pmf_diff.expectation(), color='red', \n",
    "            label='Mean diff = %.2lf' % mix_pmf_diff.expectation())\n",
    "plt.xlabel('Diff between Rhode and Wei hits per-game')\n",
    "plt.ylabel('Probability')\n",
    "plt.legend()\n",
    "plt.show()\n",
    "\n",
    "mix_cdf_diff = mtb.CDF.from_pmf(mix_pmf_diff)\n",
    "print('P(R - W >= 10) = 1 - P(R - W <= 9) = %.4lf' % (1 - mix_cdf_diff[9]))"
   ]
  },
  {
   "cell_type": "markdown",
   "metadata": {
    "collapsed": true
   },
   "source": [
    "## Distribution of maximum\n",
    "\n",
    "Suppose Kim Rhode continues to compete in six more Olympics.  What should we expect her best result to be?\n",
    "\n",
    "Once again, there are two ways we can compute the distribution of the maximum:\n",
    "\n",
    "1. Sampling.\n",
    "\n",
    "2. Analysis of the CDF.\n",
    "\n",
    "Here's a simple version by sampling:"
   ]
  },
  {
   "cell_type": "code",
   "execution_count": 28,
   "metadata": {},
   "outputs": [
    {
     "data": {
      "image/png": "[encoded data removed]",
      "text/plain": [
       "<matplotlib.figure.Figure at 0x7f3766fed3c8>"
      ]
     },
     "metadata": {},
     "output_type": "display_data"
    }
   ],
   "source": [
    "n_iters = 10000\n",
    "n_olympics = 6\n",
    "\n",
    "best_results = mix_pmf_R.sample((n_iters, n_olympics)).max(axis=1)\n",
    "pmf = mtb.PMF.from_observations(best_results)\n",
    "plt.bar(pmf.hypos, pmf.probs)\n",
    "plt.xlabel('Maximum number of hits over %d olympic games, %d trials' % (n_olympics, n_iters))\n",
    "plt.ylabel('Probability')\n",
    "plt.show()"
   ]
  },
  {
   "cell_type": "markdown",
   "metadata": {},
   "source": [
    "Or we can figure it out analytically.  If the maximum is less-than-or-equal-to some value `k`, all 6 random selections must be less-than-or-equal-to `k`, so: \n",
    "\n",
    "$ CDF_{max}(x) = CDF(x)^6 $\n",
    "\n",
    "***How does this work?***\n",
    "\n",
    "- The CDF maps an observable value to the probability of observing that value or a value less than it.\n",
    "- If you want to know the probability of observing a specific value or a value less than it over `k` observations, you have to multiply these original probabilities `k` times, hence the exponentiation. \n",
    "\n",
    "\n",
    "`Pmf` provides a method that computes and returns this `Cdf`, so we can compute the distribution of the maximum like this:"
   ]
  },
  {
   "cell_type": "code",
   "execution_count": 29,
   "metadata": {},
   "outputs": [
    {
     "data": {
      "image/png": "[encoded data removed]",
      "text/plain": [
       "<matplotlib.figure.Figure at 0x7f3767056400>"
      ]
     },
     "metadata": {},
     "output_type": "display_data"
    }
   ],
   "source": [
    "max_pmf_R = (mix_pmf_R.to_cdf() ** n_olympics).to_pmf()\n",
    "plt.bar(max_pmf_R.hypos, max_pmf_R.probs)\n",
    "plt.xlabel('Maximum number of hits over %d olympic games' % n_olympics)\n",
    "plt.ylabel('Probability')\n",
    "plt.show()"
   ]
  },
  {
   "cell_type": "markdown",
   "metadata": {
    "collapsed": true
   },
   "source": [
    "**Exercise:**  Here's how Pmf.Max works:\n",
    "\n",
    "    def Max(self, k):\n",
    "        \"\"\"Computes the CDF of the maximum of k selections from this dist.\n",
    "\n",
    "        k: int\n",
    "\n",
    "        returns: new Cdf\n",
    "        \"\"\"\n",
    "        cdf = self.MakeCdf()\n",
    "        cdf.ps **= k\n",
    "        return cdf\n",
    "\n",
    "Write a function that takes a Pmf and an integer `n` and returns a Pmf that represents the distribution of the minimum of `k` values drawn from the given Pmf.  Use your function to compute the distribution of the minimum score Kim Rhode would be expected to shoot in six competitions."
   ]
  },
  {
   "cell_type": "code",
   "execution_count": 30,
   "metadata": {},
   "outputs": [
    {
     "data": {
      "image/png": "[encoded data removed]",
      "text/plain": [
       "<matplotlib.figure.Figure at 0x7f3766f63940>"
      ]
     },
     "metadata": {},
     "output_type": "display_data"
    }
   ],
   "source": [
    "# This one is a little tough to follow, but the comments should help.\n",
    "\n",
    "x = mix_pmf_R          # start with P(x)\n",
    "x = mix_pmf_R.to_cdf() # convert to P(X <= x)\n",
    "x = x.to_ccdf()        # convert to P(X > x)\n",
    "x = x ** n_olympics    # convert to P(X > x over k observations)\n",
    "x = x.to_ccdf()        # convert to P(X <= x)\n",
    "min_pmf_R = x.to_pmf() # convert to P(x)\n",
    "\n",
    "plt.bar(min_pmf_R.hypos, min_pmf_R.probs)\n",
    "plt.xlabel('Minimum number of hits over %d olympic games' % n_olympics)\n",
    "plt.ylabel('Probability')\n",
    "plt.show()"
   ]
  },
  {
   "cell_type": "markdown",
   "metadata": {},
   "source": [
    "## Exercises"
   ]
  },
  {
   "cell_type": "markdown",
   "metadata": {
    "collapsed": true
   },
   "source": [
    "**Exercise:**  Suppose you are having a dinner party with 10 guests and 4 of them are allergic to cats.  Because you have cats, you expect 50% of the allergic guests to sneeze during dinner.  At the same time, you expect 10% of the non-allergic guests to sneeze.  What is the distribution of the total number of guests who sneeze?"
   ]
  },
  {
   "cell_type": "code",
   "execution_count": 31,
   "metadata": {},
   "outputs": [
    {
     "data": {
      "image/png": "[encoded data removed]",
      "text/plain": [
       "<matplotlib.figure.Figure at 0x7f3766e8a160>"
      ]
     },
     "metadata": {},
     "output_type": "display_data"
    }
   ],
   "source": [
    "# Solved computationally (sampling).\n",
    "n_guests = 10\n",
    "n_allerg = 4\n",
    "\n",
    "guests = [mtb.PMF([1, 0], [0.1, 0.9]) for _ in range(n_guests - n_allerg)]\n",
    "guests += [mtb.PMF([1, 0], [0.5, 0.5]) for _ in range(n_allerg)]\n",
    "\n",
    "n_iters = 1000\n",
    "sums = []\n",
    "\n",
    "for _ in range(n_iters):\n",
    "    sums.append(0)\n",
    "    for guest in guests:\n",
    "        sums[-1] += guest.sample()[0]\n",
    "        \n",
    "sums_pmf = mtb.PMF.from_observations(sums)\n",
    "plt.bar(sums_pmf.hypos, sums_pmf.probs)\n",
    "plt.xlabel('Number of guests who sneeze')\n",
    "plt.ylabel('Probability')\n",
    "plt.xlim(-1, 10)\n",
    "plt.show()"
   ]
  },
  {
   "cell_type": "code",
   "execution_count": 32,
   "metadata": {},
   "outputs": [
    {
     "data": {
      "image/png": "[encoded data removed]",
      "text/plain": [
       "<matplotlib.figure.Figure at 0x7f3767018400>"
      ]
     },
     "metadata": {},
     "output_type": "display_data"
    }
   ],
   "source": [
    "# Solved analytically.\n",
    "# Compute a mixture from the two types of guests (allergic, non-allergic),\n",
    "# weighted by the number of each type.\n",
    "# Then compute the PMF for each of the possible numbers of guests that will\n",
    "# sneeze: [0, 1, ... 10].\n",
    "\n",
    "mix_pmf = mtb.PMF.from_mixture([\n",
    "    (mtb.PMF(['sneeze', 'no-sneeze'], [0.1, 0.9]), 6),\n",
    "    (mtb.PMF(['sneeze', 'no-sneeze'], [0.5, 0.5]), 4)\n",
    "])\n",
    "\n",
    "sums = range(n_guests + 1)\n",
    "probs = scipy.stats.binom(n=10, p=mix_pmf['sneeze']).pmf(sums)\n",
    "sum_pmf = mtb.PMF(sums, probs)\n",
    "plt.bar(sum_pmf.hypos, sum_pmf.probs)\n",
    "plt.xlabel('Number of guests who sneeze')\n",
    "plt.ylabel('Probability')\n",
    "plt.show()"
   ]
  },
  {
   "cell_type": "markdown",
   "metadata": {},
   "source": [
    "**Exercise** [This study from 2015](http://onlinelibrary.wiley.com/doi/10.1111/apt.13372/full) showed that many subjects diagnosed with non-celiac gluten sensitivity (NCGS) were not able to distinguish gluten flour from non-gluten flour in a blind challenge.\n",
    "\n",
    "Here is a description of the study:\n",
    "\n",
    ">\"We studied 35 non-CD subjects (31 females) that were on a gluten-free diet (GFD), in a double-blind challenge study. Participants were randomised to receive either gluten-containing ﬂour or gluten-free ﬂour for 10 days, followed by a 2-week washout period and were then crossed over. The main outcome measure was their ability to identify which ﬂour contained gluten.\n",
    ">\"The gluten-containing ﬂour was correctly identiﬁed by 12 participants (34%)...\"\n",
    "Since 12 out of 35 participants were able to identify the gluten flour, the authors conclude \"Double-blind gluten challenge induces symptom recurrence in just one-third of patients fulﬁlling the clinical diagnostic criteria for non-coeliac gluten sensitivity.\"\n",
    "\n",
    "This conclusion seems odd to me, because if none of the patients were sensitive to gluten, we would expect some of them to identify the gluten flour by chance.  So the results are consistent with the hypothesis that none of the subjects are actually gluten sensitive.\n",
    "\n",
    "We can use a Bayesian approach to interpret the results more precisely.  But first we have to make some modeling decisions.\n",
    "\n",
    "1. Of the 35 subjects, 12 identified the gluten flour based on resumption of symptoms while they were eating it.  Another 17 subjects wrongly identified the gluten-free flour based on their symptoms, and 6 subjects were unable to distinguish.  So each subject gave one of three responses.  To keep things simple I follow the authors of the study and lump together the second two groups; that is, I consider two groups: those who identified the gluten flour and those who did not.\n",
    "\n",
    "2. I assume (1) people who are actually gluten sensitive have a 95% chance of correctly identifying gluten flour under the challenge conditions, and (2) subjects who are not gluten sensitive have only a 40% chance of identifying the gluten flour by chance (and a 60% chance of either choosing the other flour or failing to distinguish).\n",
    "\n",
    "Using this model, estimate the number of study participants who are sensitive to gluten.  What is the most likely number?  What is the 95% credible interval?"
   ]
  },
  {
   "cell_type": "code",
   "execution_count": 33,
   "metadata": {},
   "outputs": [
    {
     "data": {
      "image/png": "[encoded data removed]",
      "text/plain": [
       "<matplotlib.figure.Figure at 0x7f3766dfc4e0>"
      ]
     },
     "metadata": {},
     "output_type": "display_data"
    }
   ],
   "source": [
    "n_people_total = 35\n",
    "n_people_ident = 12\n",
    "sensitivity_pmf = mtb.PMF(range(n_people_total + 1))\n",
    "\n",
    "# Update the PMF for each possible number of sensitive people.\n",
    "for N in sensitivity_pmf.hypos:\n",
    "    \n",
    "    # PMF defining the probability of each number of people up to N\n",
    "    # correctly identifying the gluten given a 95% prior of being correct.\n",
    "    sens_hypos = range(N + 1)\n",
    "    sens_probs = scipy.stats.binom(max(sens_hypos), p=0.95).pmf(sens_hypos)\n",
    "    sens_pmf = mtb.PMF(sens_hypos, sens_probs)\n",
    "    \n",
    "    # PMF definign the probability of each number of people up to 35 - N\n",
    "    # correctly identifying the gluten given a 40% prior of being correct.\n",
    "    norm_hypos = range(n_people_total - N + 1)\n",
    "    norm_probs = scipy.stats.binom(max(norm_hypos), p=0.4).pmf(norm_hypos)\n",
    "    norm_pmf = mtb.PMF(norm_hypos, norm_probs)\n",
    "    \n",
    "    # Add the two PMFs to get a PMF defining the sum of people who correctly\n",
    "    # identify the gluten.\n",
    "    sum_pmf = sens_pmf + norm_pmf\n",
    "    \n",
    "    # Lookup the probability of a sum of 12 people correctly identifying the gluten.\n",
    "    likelihood = sum_pmf[n_people_ident]\n",
    "    sensitivity_pmf[N] *= likelihood\n",
    "    \n",
    "sensitivity_pmf.normalize()\n",
    "\n",
    "\n",
    "plt.bar(sensitivity_pmf.hypos, sensitivity_pmf.probs)\n",
    "plt.xlabel('Number of people who correctly identified gluten')\n",
    "plt.ylabel('Probability')\n",
    "plt.show()"
   ]
  },
  {
   "cell_type": "code",
   "execution_count": 34,
   "metadata": {},
   "outputs": [
    {
     "data": {
      "text/plain": [
       "'Done'"
      ]
     },
     "execution_count": 34,
     "metadata": {},
     "output_type": "execute_result"
    }
   ],
   "source": [
    "'Done'"
   ]
  },
  {
   "cell_type": "markdown",
   "metadata": {},
   "source": [
    "**Exercise** Coming soon: the space invaders problem."
   ]
  },
  {
   "cell_type": "code",
   "execution_count": 35,
   "metadata": {},
   "outputs": [],
   "source": [
    "# Solution goes here"
   ]
  },
  {
   "cell_type": "code",
   "execution_count": 36,
   "metadata": {},
   "outputs": [],
   "source": [
    "# Solution goes here"
   ]
  },
  {
   "cell_type": "code",
   "execution_count": 37,
   "metadata": {},
   "outputs": [],
   "source": [
    "# Solution goes here"
   ]
  },
  {
   "cell_type": "code",
   "execution_count": 38,
   "metadata": {},
   "outputs": [],
   "source": [
    "# Solution goes here"
   ]
  },
  {
   "cell_type": "code",
   "execution_count": 39,
   "metadata": {},
   "outputs": [],
   "source": [
    "# Solution goes here"
   ]
  },
  {
   "cell_type": "code",
   "execution_count": 40,
   "metadata": {},
   "outputs": [],
   "source": [
    "# Solution goes here"
   ]
  },
  {
   "cell_type": "code",
   "execution_count": 41,
   "metadata": {},
   "outputs": [],
   "source": [
    "# Solution goes here"
   ]
  },
  {
   "cell_type": "code",
   "execution_count": 42,
   "metadata": {},
   "outputs": [],
   "source": [
    "# Solution goes here"
   ]
  },
  {
   "cell_type": "code",
   "execution_count": null,
   "metadata": {},
   "outputs": [],
   "source": []
  }
 ],
 "metadata": {
  "kernelspec": {
   "display_name": "Python 3",
   "language": "python",
   "name": "python3"
  },
  "language_info": {
   "codemirror_mode": {
    "name": "ipython",
    "version": 3
   },
   "file_extension": ".py",
   "mimetype": "text/x-python",
   "name": "python",
   "nbconvert_exporter": "python",
   "pygments_lexer": "ipython3",
   "version": "3.5.2"
  }
 },
 "nbformat": 4,
 "nbformat_minor": 1
}
