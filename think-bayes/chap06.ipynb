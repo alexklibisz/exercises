{
 "cells": [
  {
   "cell_type": "markdown",
   "metadata": {},
   "source": [
    "# Think Bayes: Chapter 6\n",
    "\n",
    "This notebook presents code and exercises from Think Bayes, second edition.\n",
    "\n",
    "Copyright 2016 Allen B. Downey\n",
    "\n",
    "MIT License: https://opensource.org/licenses/MIT"
   ]
  },
  {
   "cell_type": "code",
   "execution_count": 1,
   "metadata": {},
   "outputs": [
    {
     "data": {
      "text/plain": [
       "'Done'"
      ]
     },
     "execution_count": 1,
     "metadata": {},
     "output_type": "execute_result"
    }
   ],
   "source": [
    "from __future__ import print_function, division\n",
    "\n",
    "%load_ext autoreload\n",
    "%autoreload 2\n",
    "%matplotlib inline\n",
    "\n",
    "import warnings\n",
    "warnings.filterwarnings('ignore')\n",
    "\n",
    "from IPython.display import display\n",
    "from sympy import symbols\n",
    "import matplotlib.pyplot as plt\n",
    "import mythinkbayes as mtb\n",
    "import numpy as np\n",
    "import pandas as pd\n",
    "import pdb\n",
    "import scipy.stats\n",
    "\n",
    "'Done'"
   ]
  },
  {
   "cell_type": "markdown",
   "metadata": {},
   "source": [
    "## Kernel density estimation for Price is Right showcases"
   ]
  },
  {
   "cell_type": "code",
   "execution_count": 2,
   "metadata": {},
   "outputs": [
    {
     "data": {
      "text/plain": [
       "(313, 6)"
      ]
     },
     "metadata": {},
     "output_type": "display_data"
    },
    {
     "data": {
      "text/html": [
       "<div>\n",
       "<style scoped>\n",
       "    .dataframe tbody tr th:only-of-type {\n",
       "        vertical-align: middle;\n",
       "    }\n",
       "\n",
       "    .dataframe tbody tr th {\n",
       "        vertical-align: top;\n",
       "    }\n",
       "\n",
       "    .dataframe thead th {\n",
       "        text-align: right;\n",
       "    }\n",
       "</style>\n",
       "<table border=\"1\" class=\"dataframe\">\n",
       "  <thead>\n",
       "    <tr style=\"text-align: right;\">\n",
       "      <th></th>\n",
       "      <th>bid1</th>\n",
       "      <th>bid2</th>\n",
       "      <th>diff1</th>\n",
       "      <th>diff2</th>\n",
       "      <th>showcase1</th>\n",
       "      <th>showcase2</th>\n",
       "    </tr>\n",
       "  </thead>\n",
       "  <tbody>\n",
       "    <tr>\n",
       "      <th>0</th>\n",
       "      <td>42000</td>\n",
       "      <td>34000</td>\n",
       "      <td>8969</td>\n",
       "      <td>11429</td>\n",
       "      <td>50969</td>\n",
       "      <td>45429</td>\n",
       "    </tr>\n",
       "    <tr>\n",
       "      <th>1</th>\n",
       "      <td>14000</td>\n",
       "      <td>59900</td>\n",
       "      <td>7901</td>\n",
       "      <td>-25839</td>\n",
       "      <td>21901</td>\n",
       "      <td>34061</td>\n",
       "    </tr>\n",
       "    <tr>\n",
       "      <th>2</th>\n",
       "      <td>32000</td>\n",
       "      <td>45000</td>\n",
       "      <td>815</td>\n",
       "      <td>8186</td>\n",
       "      <td>32815</td>\n",
       "      <td>53186</td>\n",
       "    </tr>\n",
       "    <tr>\n",
       "      <th>3</th>\n",
       "      <td>27000</td>\n",
       "      <td>38000</td>\n",
       "      <td>17432</td>\n",
       "      <td>-6572</td>\n",
       "      <td>44432</td>\n",
       "      <td>31428</td>\n",
       "    </tr>\n",
       "    <tr>\n",
       "      <th>4</th>\n",
       "      <td>18750</td>\n",
       "      <td>23000</td>\n",
       "      <td>5523</td>\n",
       "      <td>-680</td>\n",
       "      <td>24273</td>\n",
       "      <td>22320</td>\n",
       "    </tr>\n",
       "  </tbody>\n",
       "</table>\n",
       "</div>"
      ],
      "text/plain": [
       "    bid1   bid2  diff1  diff2  showcase1  showcase2\n",
       "0  42000  34000   8969  11429      50969      45429\n",
       "1  14000  59900   7901 -25839      21901      34061\n",
       "2  32000  45000    815   8186      32815      53186\n",
       "3  27000  38000  17432  -6572      44432      31428\n",
       "4  18750  23000   5523   -680      24273      22320"
      ]
     },
     "metadata": {},
     "output_type": "display_data"
    }
   ],
   "source": [
    "pir11_df = mtb.DataSets.get_price_is_right('ThinkBayes2/code/showcases.2011.csv')\n",
    "pir12_df = mtb.DataSets.get_price_is_right('ThinkBayes2/code/showcases.2012.csv')\n",
    "pir_df = pd.concat([pir11_df, pir12_df])\n",
    "display(pir_df.shape, pir_df.head())"
   ]
  },
  {
   "cell_type": "code",
   "execution_count": 13,
   "metadata": {},
   "outputs": [
    {
     "data": {
      "image/png": "[encoded data removed]",
      "text/plain": [
       "<matplotlib.figure.Figure at 0x7f13c7ce29b0>"
      ]
     },
     "metadata": {},
     "output_type": "display_data"
    }
   ],
   "source": [
    "X = np.linspace(0, 75000, 1001)\n",
    "sc1_pmf = mtb.PMF.from_kde(pir_df.showcase1, X)\n",
    "sc2_pmf = mtb.PMF.from_kde(pir_df.showcase2, X)\n",
    "\n",
    "plt.plot(sc1_pmf.hypos, sc1_pmf.probs, label='Showcase 1')\n",
    "plt.plot(sc2_pmf.hypos, sc2_pmf.probs, label='Showcase 2')\n",
    "plt.title('Figure 6.1')\n",
    "plt.xlabel('Price (USD)')\n",
    "plt.ylabel('Density')\n",
    "plt.legend()\n",
    "plt.show()"
   ]
  },
  {
   "cell_type": "markdown",
   "metadata": {},
   "source": [
    "## Modeling the Contestants\n",
    "\n",
    "The showcase price PMFs give us a reasonable prior on the price of each showcase.\n",
    "\n",
    "Now we need to figure how to update these priors given new data, namely:\n",
    "\n",
    "1. What data should we consider and how should we quantify it?\n",
    "2. Can we compute a likelihood function; that is, for each hypothetical value of `price`, can we compute the conditional likelihood of the data?\n",
    "\n",
    "Model each contestant as a price-guessing mechanism with known error characteristics:\n",
    "\n",
    "1. Contestant sees the prizes.\n",
    "2. Contestant guesses the price of each prize.\n",
    "3. Contestant adds up the total prices, resulting in the `guess`.\n",
    "\n",
    "This begs the question:\n",
    "\n",
    "> If the actual price is `price`, what is the likelihood that the contestant's estimate would be `guess`?\n",
    "\n",
    "$P(\\text{guess | price})$\n",
    "\n",
    "If we define `error = price - guess`, we should consider the question:\n",
    "\n",
    "> What is the likelihood that the contestant's estimate is off by `error`?\n",
    "\n",
    "$P(\\text{price - guess}) = P(\\text{error})$\n",
    "\n",
    "To quantify $P(\\text{error})$, we can look at the historical data again:"
   ]
  },
  {
   "cell_type": "code",
   "execution_count": 12,
   "metadata": {},
   "outputs": [
    {
     "data": {
      "image/png": "[encoded data removed]",
      "text/plain": [
       "<matplotlib.figure.Figure at 0x7f13c7ce20b8>"
      ]
     },
     "metadata": {},
     "output_type": "display_data"
    }
   ],
   "source": [
    "X = np.linspace(-30000, 60000, 1001)\n",
    "diff1_pmf = mtb.PMF.from_kde(pir_df.showcase1 - pir_df.bid1, X)\n",
    "diff2_pmf = mtb.PMF.from_kde(pir_df.showcase2 - pir_df.bid2, X)\n",
    "plt.plot(X, diff1_pmf.probs, label='Diff 1')\n",
    "plt.plot(X, diff2_pmf.probs, label='Diff 2')\n",
    "plt.legend()\n",
    "plt.xlabel('diff = price - bid')\n",
    "plt.ylabel('Density')\n",
    "plt.title('Figure 6.2')\n",
    "plt.show()"
   ]
  },
  {
   "cell_type": "markdown",
   "metadata": {},
   "source": [
    "Some observations about the distributions of `diff1` and `diff2`:\n",
    "- The diffs are biased, in that it's more common to see an under-bid than an over-bid. This has to do with the rules of the game.\n",
    "\n",
    "A couple notes on potentially ambiguous terminology:\n",
    "\n",
    "1. Using `error = price - guess` and `diff = price - bid`: it seems the intention is that `error` and `guess` are used to describe the decision model of a player. `diff` and `bid` are used to describe the analagous observations from historical data and are also the column names in the given dataset.\n",
    "\n",
    "2. The paragraph:\n",
    "\n",
    "> Finally, we can use this distribution to estimate the reliability of the contestants' guesses. This step is a little tricky because we don't actually know the contestant's guesses; we only know what they bid.\n",
    "\n",
    "I believe Downey is referring to the fact that a contestant's *guess* is different from her *bid*, in that the bid is affected by the rules and state of the game. For example, the contestant's bid might be an intentionally-decreased version of her guess which protects from going over the actual price.\n",
    "\n",
    "Building off of the above empirical distributions of `price` and `diff`, we define `Player` and `Price` classes."
   ]
  },
  {
   "cell_type": "code",
   "execution_count": 5,
   "metadata": {},
   "outputs": [
    {
     "data": {
      "text/plain": [
       "'Done'"
      ]
     },
     "execution_count": 5,
     "metadata": {},
     "output_type": "execute_result"
    }
   ],
   "source": [
    "class Player:\n",
    "    \"\"\"Represents a player on The Price is Right.\"\"\"\n",
    "    \n",
    "    prices_X = np.linspace(0, 75000, 101)\n",
    "    \n",
    "    def __init__(self, prices, diffs):\n",
    "        \n",
    "        # Need a random variable for prices, diffs, and error.\n",
    "        # As a modeling assumption, the error gets centered at \n",
    "        # zero with standard deviation equal to that of diffs.\n",
    "        self.prices_pmf = mtb.PMF.from_kde(prices, self.prices_X)\n",
    "        self.diffs_cdf = mtb.PMF.from_observations(diffs).to_cdf()\n",
    "        self.error_rv = scipy.stats.norm(0, np.std(diffs))\n",
    "        \n",
    "        self.prices_posterior = None    # Updated via set_guess function.\n",
    "        \n",
    "    def set_guess(self, guess):\n",
    "        \"\"\"Makes a posterior distribution based on the player's guess about the showcase.\n",
    "        \n",
    "        \n",
    "\n",
    "        guess: what the player thinks the showcase is worth        \n",
    "        \"\"\"\n",
    "        \n",
    "        # Create a copy of the prior to be used as the posterior.\n",
    "        self.prices_posterior = Price(self.prices_pmf.hypos, self.prices_pmf.probs)\n",
    "        \n",
    "        # Update the prior based on the guess.\n",
    "        # The data getting passed is the guess and the pdf function \n",
    "        # needed to compute the density of the error resulting from the guess.\n",
    "        self.prices_posterior.update((guess, self.error_rv.pdf))\n",
    "        \n",
    "class Price(mtb.PMF):\n",
    "    \"\"\"Represents hypotheses about the price of a showcase.\"\"\"\n",
    "        \n",
    "    def likelihood(self, data, hypo):\n",
    "        \"\"\"P(data | hypo) = P(guess | price) = P(error).\n",
    "        \n",
    "        The pdf function used to compute P(error) gets passed as part of the data.\n",
    "        \"\"\"\n",
    "        price = hypo\n",
    "        guess, pdf_func = data\n",
    "        error = price - guess\n",
    "        return pdf_func(error)\n",
    "    \n",
    "'Done'"
   ]
  },
  {
   "cell_type": "markdown",
   "metadata": {},
   "source": [
    "Use the classes to re-create figure 6.3, which is based on the scenario:\n",
    "\n",
    "1. Player 1 observes showcase 1.\n",
    "2. Player bids $20000.\n",
    "3. The posterior moves left of the prior\n",
    "\n",
    "It might be hard to see what this update is doing. From the player's perspective, it's answering the question:\n",
    "\n",
    "> I start with a prior belief about the prices of showcases based on historic data. Once I see the showcase, I make a guess about the price. Based on previous players' guesses, how should my guess update my belief about the price of the showcase? "
   ]
  },
  {
   "cell_type": "code",
   "execution_count": 6,
   "metadata": {},
   "outputs": [
    {
     "data": {
      "image/png": "[encoded data removed]",
      "text/plain": [
       "<matplotlib.figure.Figure at 0x7f13c7d5ff98>"
      ]
     },
     "metadata": {},
     "output_type": "display_data"
    }
   ],
   "source": [
    "player = Player(pir_df.showcase1, pir_df.diff1)\n",
    "player.set_guess(20000)\n",
    "\n",
    "player.prices_pmf.plot(label='Prior', color='blue')\n",
    "player.prices_posterior.plot(label='Posterior', color='orange')\n",
    "plt.axvline(player.prices_pmf.MAP()[0], label='MAP(prior)', color='blue', linestyle='--')\n",
    "plt.axvline(player.prices_posterior.MAP()[0], label='MAP(posterior)', color='orange', linestyle='--')\n",
    "plt.legend()\n",
    "plt.title('Figure 6.3')\n",
    "plt.show()"
   ]
  },
  {
   "cell_type": "markdown",
   "metadata": {},
   "source": [
    "## Optimal Bidding\n",
    "\n",
    "We know how a player's guess updates her prior belief about the price of the showcase.\n",
    "\n",
    "Now we need a way to compute an *optimal bid* based on our guess. In this case, we define the optimal bid to be the bid which maximizes expected return.\n",
    "\n",
    "To compute this we make a `GainCalculator` class. Its most useful function is `expected_gains()`, which takes a list of bid values and returns the expected gain for each of the bids. From that we can compute the bid with maximum gain.\n",
    "\n",
    "**To recap, our steps for computing an optimal bid are as follows.**\n",
    "\n",
    "1. Instantiate two players.\n",
    "2. Each player sees a showcase and makes a guess. This is arbitrarily picked by us. A more sophisticated model might include information about the showcase contents to make this guess.\n",
    "3. We use each player's `set_guess()` function to update her prior over prices based on her guess.\n",
    "4. Instantiate a `GainCalculator` instance for each player.\n",
    "5. For player 1, compute the expected gain over a series of bids w.r.t. player 2. Vice versa for player 1.\n",
    "\n",
    "The expected gain for a single bid can be expressed:\n",
    "\n",
    "$ E[\\text{Gain(bid)}] = \\sum_i^N Pr(\\text{price}_i) \\times \\text{Gain(price}_i\\text{, bid)}$, where $N$ is the number of possible prices in the players' posterior over prices.\n",
    "\n",
    "$ \\text{diff = price - bid} $\n",
    "\n",
    "$ \\text{Gain(price, bid)} = \n",
    "\\begin{cases}\n",
    "0,  & \\text{if diff} \\lt 0 \\\\\n",
    "2 \\times \\text{price} \\times Pr(\\text{win | price - bid}), & \\text{if diff} \\leq 250 \\\\\n",
    "\\text{price} \\times Pr(\\text{win | diff}) & \\text{otherwise}\n",
    "\\end{cases}$\n",
    "\n",
    "$Pr(\\text{win | diff}) = Pr(\\text{opponent overbids}) + Pr(\\text{price - opponent bid > diff})$\n",
    "\n",
    "$Pr(\\text{opponent overbids})$ and $Pr(\\text{price - opponent bid > diff})$ are computed using the opponent's CDF over diffs."
   ]
  },
  {
   "cell_type": "code",
   "execution_count": 7,
   "metadata": {},
   "outputs": [
    {
     "data": {
      "text/plain": [
       "'Done'"
      ]
     },
     "execution_count": 7,
     "metadata": {},
     "output_type": "execute_result"
    }
   ],
   "source": [
    "class GainCalculator:\n",
    "    \n",
    "    def __init__(self, player, opponent):\n",
    "        self.player = player\n",
    "        self.opponent = opponent\n",
    "        \n",
    "    def expected_gains(self, bids):\n",
    "        \"\"\"Compute the expected gains for a series of bids.\n",
    "        \n",
    "        First requires computing the player's posterior given a guess.\n",
    "        \n",
    "        This addresses the question:\n",
    "        > Assuming the player has seen the showcase and guessed *guess*, \n",
    "          what is the expected gain for each of the bids?\n",
    "    \n",
    "        \"\"\"\n",
    "        eg = np.array([self._expected_gain(bid) for bid in bids])\n",
    "        return eg, np.argmax(eg)\n",
    "    \n",
    "    def _expected_gain(self, bid):\n",
    "        \"\"\"Compute expected gain for a single bid.\"\"\"\n",
    "        total_gain = 0\n",
    "        for price, prob in self.player.prices_posterior.items():\n",
    "            total_gain += prob * self._gain(price, bid)\n",
    "        return total_gain\n",
    "    \n",
    "    def _gain(self, price, bid):\n",
    "        \"\"\"Compute the gain for a specifc price and bid.\n",
    "        \n",
    "        gain = {\n",
    "            0, if bid > price\n",
    "\n",
    "            2 * price * P(win | price - bid), if price - bid <= 250\n",
    "            \n",
    "            price * P(win | price - bid)\n",
    "        }\n",
    "        \"\"\"\n",
    "        \n",
    "        diff = price - bid\n",
    "        \n",
    "        # Lose if the bid exceeds the price.\n",
    "        if diff < 0:\n",
    "            return 0\n",
    "\n",
    "        # Otherwise compute the probability of winning\n",
    "        pwin = self._prob_win(diff)\n",
    "\n",
    "        # If the bid is within 250 dollars, you win both showcases\n",
    "        if diff <= 250:\n",
    "            return 2 * price * pwin\n",
    "        else:\n",
    "            return price * pwin\n",
    "        \n",
    "    def _prob_win(self, diff):\n",
    "        \"\"\"Compute the probability of winning given the specific diff,\n",
    "        where diff = price - bid.\n",
    "        \n",
    "        P(win | diff) = P(opponent loses | diff) = \n",
    "        P(opponent overbids) + P(opponent's diff exceeds the given diff)\n",
    "        \n",
    "        The last two probabilities above are computed based on the \n",
    "        historical information.\n",
    "        \"\"\"\n",
    "        \n",
    "        # Probability of opponent overbidding.\n",
    "        p_overbid = self.opponent.diffs_cdf.lteq(-1)\n",
    "        \n",
    "        # Probability opponenent's diff is greater than player's diff.\n",
    "        p_diff_greater = self.opponent.diffs_cdf.gt(diff)\n",
    "        \n",
    "        return p_overbid + p_diff_greater\n",
    "\n",
    "'Done'"
   ]
  },
  {
   "cell_type": "markdown",
   "metadata": {},
   "source": [
    "Recreate figure 6.4, based on the steps:\n",
    "\n",
    "1. Player 1's best guess is \\$20000.\n",
    "2. Player 2's best guess is \\$40000\n",
    "3. Compute and plot the expected gains for both players.\n",
    "\n",
    "Note: this computation takes a rather long time. For $n$ prices and $m$ bids, the complexity to compute expected gains is $O(m\\times n)$."
   ]
  },
  {
   "cell_type": "code",
   "execution_count": 8,
   "metadata": {},
   "outputs": [
    {
     "data": {
      "text/plain": [
       "(4448.308629141852, 7215.8568161893245)"
      ]
     },
     "execution_count": 8,
     "metadata": {},
     "output_type": "execute_result"
    }
   ],
   "source": [
    "# Instantiate players with their respective showcase and diff histories.\n",
    "p1 = Player(pir_df.showcase1, pir_df.diff1)\n",
    "p2 = Player(pir_df.showcase2, pir_df.diff2)\n",
    "\n",
    "# These are arbitrary guesses, as we have no information about the showcases' contents.\n",
    "p1_guess = 20000\n",
    "p2_guess = 40000\n",
    "\n",
    "# Set both players' guesses before .\n",
    "p1.set_guess(p1_guess)\n",
    "p2.set_guess(p2_guess)\n",
    "\n",
    "# Compute players' expected gains for the same set of bids.\n",
    "bids = np.linspace(0, 75000, 101)\n",
    "gc1 = GainCalculator(p1, p2)\n",
    "gc2 = GainCalculator(p2, p1)\n",
    "eg1, am1 = gc1.expected_gains(bids)\n",
    "eg2, am2 = gc2.expected_gains(bids)\n",
    "\n",
    "np.mean(eg1), np.mean(eg2)"
   ]
  },
  {
   "cell_type": "code",
   "execution_count": 9,
   "metadata": {},
   "outputs": [
    {
     "name": "stdout",
     "output_type": "stream",
     "text": [
      "Player 1 guess = $20000, optimal bid = $21000, expected gain = $16668\n",
      "Player 2 guess = $40000, optimal bid = $31500, expected gain = $19365\n"
     ]
    }
   ],
   "source": [
    "# Compute both players' optimal bids.\n",
    "print('Player 1 guess = $%d, optimal bid = $%d, expected gain = $%d' % (p1_guess, bids[am1], eg1[am1]))\n",
    "print('Player 2 guess = $%d, optimal bid = $%d, expected gain = $%d' % (p2_guess, bids[am2], eg2[am2]))"
   ]
  },
  {
   "cell_type": "code",
   "execution_count": 10,
   "metadata": {},
   "outputs": [
    {
     "data": {
      "image/png": "[encoded data removed]",
      "text/plain": [
       "<matplotlib.figure.Figure at 0x7f13c5c3b048>"
      ]
     },
     "metadata": {},
     "output_type": "display_data"
    }
   ],
   "source": [
    "plt.plot(bids, eg1, label='Player 1', color='blue')\n",
    "plt.axvline(bids[am1], color='blue', linestyle='--')\n",
    "plt.plot(bids, eg2, label='Player 2', color='orange')\n",
    "plt.axvline(bids[am2], color='orange', linestyle='--')\n",
    "plt.xlabel('Bid (USD)')\n",
    "plt.ylabel('Expected gain (USD)')\n",
    "plt.title('Figure 6.4')\n",
    "plt.legend()\n",
    "plt.show()"
   ]
  },
  {
   "cell_type": "code",
   "execution_count": 11,
   "metadata": {},
   "outputs": [
    {
     "data": {
      "text/plain": [
       "'Done'"
      ]
     },
     "execution_count": 11,
     "metadata": {},
     "output_type": "execute_result"
    }
   ],
   "source": [
    "'Done'"
   ]
  }
 ],
 "metadata": {
  "kernelspec": {
   "display_name": "Python 3",
   "language": "python",
   "name": "python3"
  },
  "language_info": {
   "codemirror_mode": {
    "name": "ipython",
    "version": 3
   },
   "file_extension": ".py",
   "mimetype": "text/x-python",
   "name": "python",
   "nbconvert_exporter": "python",
   "pygments_lexer": "ipython3",
   "version": "3.5.2"
  }
 },
 "nbformat": 4,
 "nbformat_minor": 1
}
