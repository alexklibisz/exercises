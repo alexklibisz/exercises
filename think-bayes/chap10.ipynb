{
 "cells": [
  {
   "cell_type": "markdown",
   "metadata": {},
   "source": [
    "# Think Bayes: Chapter 10\n",
    "\n",
    "This notebook presents code and exercises from Think Bayes, second edition.\n",
    "\n",
    "Copyright 2016 Allen B. Downey\n",
    "\n",
    "MIT License: https://opensource.org/licenses/MIT"
   ]
  },
  {
   "cell_type": "code",
   "execution_count": 1,
   "metadata": {},
   "outputs": [
    {
     "data": {
      "text/plain": [
       "'Done'"
      ]
     },
     "execution_count": 1,
     "metadata": {},
     "output_type": "execute_result"
    }
   ],
   "source": [
    "from __future__ import print_function, division\n",
    "\n",
    "%load_ext autoreload\n",
    "%autoreload 2\n",
    "%matplotlib inline\n",
    "\n",
    "import warnings\n",
    "warnings.filterwarnings('ignore')\n",
    "\n",
    "from itertools import product\n",
    "from IPython.display import display\n",
    "from scipy import stats\n",
    "from tqdm import tqdm\n",
    "import matplotlib\n",
    "import matplotlib.pyplot as plt\n",
    "import mythinkbayes as mtb\n",
    "import numpy as np\n",
    "import pandas as pd\n",
    "import pdb\n",
    "\n",
    "'Done'"
   ]
  },
  {
   "cell_type": "code",
   "execution_count": 2,
   "metadata": {},
   "outputs": [
    {
     "data": {
      "text/html": [
       "<div>\n",
       "<style scoped>\n",
       "    .dataframe tbody tr th:only-of-type {\n",
       "        vertical-align: middle;\n",
       "    }\n",
       "\n",
       "    .dataframe tbody tr th {\n",
       "        vertical-align: top;\n",
       "    }\n",
       "\n",
       "    .dataframe thead th {\n",
       "        text-align: right;\n",
       "    }\n",
       "</style>\n",
       "<table border=\"1\" class=\"dataframe\">\n",
       "  <thead>\n",
       "    <tr style=\"text-align: right;\">\n",
       "      <th></th>\n",
       "      <th>age</th>\n",
       "      <th>sex</th>\n",
       "      <th>wtyrago</th>\n",
       "      <th>finalwt</th>\n",
       "      <th>wtkg2</th>\n",
       "      <th>htm3</th>\n",
       "    </tr>\n",
       "  </thead>\n",
       "  <tbody>\n",
       "    <tr>\n",
       "      <th>0</th>\n",
       "      <td>82.0</td>\n",
       "      <td>F</td>\n",
       "      <td>76.363636</td>\n",
       "      <td>185.870345</td>\n",
       "      <td>70.91</td>\n",
       "      <td>157.0</td>\n",
       "    </tr>\n",
       "    <tr>\n",
       "      <th>1</th>\n",
       "      <td>65.0</td>\n",
       "      <td>F</td>\n",
       "      <td>72.727273</td>\n",
       "      <td>126.603027</td>\n",
       "      <td>72.73</td>\n",
       "      <td>163.0</td>\n",
       "    </tr>\n",
       "    <tr>\n",
       "      <th>3</th>\n",
       "      <td>61.0</td>\n",
       "      <td>M</td>\n",
       "      <td>73.636364</td>\n",
       "      <td>517.926275</td>\n",
       "      <td>73.64</td>\n",
       "      <td>170.0</td>\n",
       "    </tr>\n",
       "    <tr>\n",
       "      <th>4</th>\n",
       "      <td>26.0</td>\n",
       "      <td>M</td>\n",
       "      <td>88.636364</td>\n",
       "      <td>1252.624630</td>\n",
       "      <td>88.64</td>\n",
       "      <td>185.0</td>\n",
       "    </tr>\n",
       "    <tr>\n",
       "      <th>5</th>\n",
       "      <td>42.0</td>\n",
       "      <td>M</td>\n",
       "      <td>118.181818</td>\n",
       "      <td>415.161314</td>\n",
       "      <td>109.09</td>\n",
       "      <td>183.0</td>\n",
       "    </tr>\n",
       "  </tbody>\n",
       "</table>\n",
       "</div>"
      ],
      "text/plain": [
       "    age sex     wtyrago      finalwt   wtkg2   htm3\n",
       "0  82.0   F   76.363636   185.870345   70.91  157.0\n",
       "1  65.0   F   72.727273   126.603027   72.73  163.0\n",
       "3  61.0   M   73.636364   517.926275   73.64  170.0\n",
       "4  26.0   M   88.636364  1252.624630   88.64  185.0\n",
       "5  42.0   M  118.181818   415.161314  109.09  183.0"
      ]
     },
     "metadata": {},
     "output_type": "display_data"
    },
    {
     "data": {
      "text/plain": [
       "(385974, 6)"
      ]
     },
     "metadata": {},
     "output_type": "display_data"
    }
   ],
   "source": [
    "# Read data using Downey's code.\n",
    "import sys\n",
    "sys.path.append('ThinkBayes2/code')\n",
    "import brfss\n",
    "df = brfss.ReadBrfss(filename='ThinkBayes2/code/CDBRFS08.ASC.gz')\n",
    "df.dropna(inplace=True)\n",
    "df.sex.replace({2: 'F', 1: 'M'}, inplace=True)\n",
    "display(df.head(), df.shape)"
   ]
  },
  {
   "cell_type": "code",
   "execution_count": 3,
   "metadata": {},
   "outputs": [
    {
     "data": {
      "text/plain": [
       "((150321, 6), (235653, 6))"
      ]
     },
     "execution_count": 3,
     "metadata": {},
     "output_type": "execute_result"
    }
   ],
   "source": [
    "grouped = df.groupby('sex')\n",
    "df_m = grouped.get_group('M')\n",
    "df_f = grouped.get_group('F')\n",
    "\n",
    "assert df_m.htm3.isna().any() == False\n",
    "assert df_f.htm3.isna().any() == False\n",
    "\n",
    "df_m.shape, df_f.shape"
   ]
  },
  {
   "cell_type": "code",
   "execution_count": 4,
   "metadata": {},
   "outputs": [
    {
     "data": {
      "image/png": "[encoded data removed]",
      "text/plain": [
       "<Figure size 432x288 with 1 Axes>"
      ]
     },
     "metadata": {},
     "output_type": "display_data"
    }
   ],
   "source": [
    "for sex, group in df.groupby('sex'):\n",
    "    group.htm3.hist(label='%s (n=%d)' % (sex, len(group)), alpha=0.5, bins=100, density=True)\n",
    "plt.title('Heights grouped by sex')\n",
    "plt.legend()\n",
    "plt.show()"
   ]
  },
  {
   "cell_type": "markdown",
   "metadata": {},
   "source": [
    "## 10.2 Mean and Standard Deviation\n",
    "\n",
    "Estimate the parameters of a Gaussian distribution: mean $\\mu$, standard deviation $\\sigma$.\n",
    "\n",
    "Use classical estimators to find a likely location and spread for $\\mu$ and $\\sigma$. Then use Bayesian updates to compute a posterior.\n",
    "\n",
    "If we take a sample of $n$ values, an estimator of $\\mu$ is the sample mean $m$ and an estimator of $\\sigma$ is the sample standard variance $s$. The standard error of the estimated $\\mu$ is $\\frac{s}{\\sqrt n}$ and standard error of estimated $\\sigma$ is $\\frac{s}{\\sqrt{2(n - 1)}}$.\n",
    "\n",
    "If you use a naive update scheme implemented in `update()`, you get NaNs from underflow after ~200 updates. To avoid this, use the log-transformed implementation in `logupdate()`. To make the update faster, we can split up the PDF into terms that depend on $\\mu$ and terms that depend on $\\sigma$. These terms need only be computed once for each value of $\\sigma$ and $\\mu$. Otherwise they can be cached and re-used. This is implemented in `logupdatefast()` for a > 100x speedup."
   ]
  },
  {
   "cell_type": "code",
   "execution_count": 25,
   "metadata": {},
   "outputs": [
    {
     "name": "stderr",
     "output_type": "stream",
     "text": [
      "Updating hypotheses: 100%|██████████| 100/100 [00:01<00:00, 62.07it/s]\n",
      "Updating hypotheses: 100%|██████████| 100/100 [00:02<00:00, 39.69it/s]\n"
     ]
    },
    {
     "name": "stdout",
     "output_type": "stream",
     "text": [
      "Male mu ~ (178.108967, 0.000480), sigma ~ (8.493392, 0.000000)\n",
      "Female mu ~ (163.211485, 0.000272), sigma ~ (8.015222, 0.000000)\n"
     ]
    },
    {
     "data": {
      "image/png": "[encoded data removed]",
      "text/plain": [
       "<Figure size 1440x288 with 2 Axes>"
      ]
     },
     "metadata": {},
     "output_type": "display_data"
    },
    {
     "name": "stderr",
     "output_type": "stream",
     "text": [
      "Updating hypotheses: 100%|██████████| 100/100 [00:00<00:00, 10318.09it/s]\n",
      "Updating hypotheses: 100%|██████████| 100/100 [00:00<00:00, 7718.20it/s]\n"
     ]
    },
    {
     "name": "stdout",
     "output_type": "stream",
     "text": [
      "Male mu ~ (178.108967, 0.000480), sigma ~ (8.493392, 0.000000)\n",
      "Female mu ~ (163.211485, 0.000272), sigma ~ (8.015222, 0.000000)\n"
     ]
    },
    {
     "data": {
      "image/png": "[encoded data removed]",
      "text/plain": [
       "<Figure size 1440x288 with 2 Axes>"
      ]
     },
     "metadata": {},
     "output_type": "display_data"
    }
   ],
   "source": [
    "class NormalParameters(mtb.PMF, mtb.Joint):\n",
    "    \n",
    "    def __init__(self, mus, sigmas):\n",
    "        hypos = list(product(mus, sigmas))\n",
    "        super().__init__(hypos)\n",
    "        self.mus = mus\n",
    "        self.sigmas = sigmas\n",
    "\n",
    "    def update(self, data):\n",
    "        \"\"\"Vectorized regular update.\n",
    "        \n",
    "        The multiplication of tiny probabilities will cause underflow for len(data) > ~200.\n",
    "        \n",
    "        # Arguments:\n",
    "            data: list-like of scalars.\n",
    "        \n",
    "        # Returns:\n",
    "            self: updated, normalized instance of self.\n",
    "        \"\"\"\n",
    "        \n",
    "        for mu, sigma in tqdm(self.hypos, desc='Updating hypotheses'):\n",
    "            rv = stats.norm(mu, sigma)\n",
    "            likes = rv.pdf(data)  \n",
    "            self[(mu, sigma)] *= likes.prod()\n",
    "        \n",
    "        return self.normalize()\n",
    "    \n",
    "    def logupdate(self, data):\n",
    "        \"\"\"Vectorized log-transformed update.\n",
    "        \n",
    "        # Arguments:\n",
    "            data: list-like of scalars.\n",
    "        \n",
    "        # Returns:\n",
    "            self: updated, normalized instance of self.\n",
    "        \"\"\"\n",
    "        \n",
    "        # Normalize by the highest probability and log transform.\n",
    "        self[:] = np.log(self.values / self.values.max())\n",
    "        \n",
    "        # Increment each hypothesis by the sum of the log-likelihoods\n",
    "        # of the given data values under that hypothesis.\n",
    "        for mu, sigma in tqdm(self.hypos, desc='Updating hypotheses'):\n",
    "            loglikes = stats.norm.logpdf(data, mu, sigma)\n",
    "            self[(mu, sigma)] += loglikes.sum()\n",
    "            \n",
    "        # Invert the transformation.\n",
    "        self[:] = np.exp(self.values - self.values.max())\n",
    "        \n",
    "        return self.normalize()\n",
    "    \n",
    "    def logupdatefast(self, data):\n",
    "        \"\"\"Vectorized log-transformed update using dynamic programming (caching).\n",
    "        \n",
    "        # Arguments:\n",
    "            data: list-like of scalars.\n",
    "        \n",
    "        # Returns:\n",
    "            self: updated, normalized instance of self.\n",
    "        \"\"\"\n",
    "        \n",
    "        # Normalize by the highest probability and log transform.\n",
    "        self[:] = np.log(self.values / self.values.max())\n",
    "        \n",
    "        # Increment each hypothesis by the sum of the log-likelihoods\n",
    "        # of the given data values under that hypothesis.\n",
    "        \n",
    "        # Keep a cache of previously computed values corresponding to each\n",
    "        # value of sigma and mu.\n",
    "        cache = dict()\n",
    "        \n",
    "        for mu, sigma in tqdm(self.hypos, desc='Updating hypotheses'):\n",
    "              \n",
    "            # Show several variations without caching first...\n",
    "            \n",
    "            # Compute PDF first, then take log.\n",
    "            # likes = (1 / np.sqrt(2 * np.pi * sigma**2))\n",
    "            # likes *= np.exp(-(data - mu)**2 / (2 * sigma**2))\n",
    "            # loglikes = np.log(likes)\n",
    "            # loglikes = loglikes[~np.isinf(loglikes)]\n",
    "            # self[(mu, sigma)] += loglikes.sum()\n",
    "\n",
    "            # Compute log-likelihood directly.\n",
    "            # loglikes = -np.log(np.sqrt(2 * np.pi) * sigma)\n",
    "            # loglikes -= ((data - mu)**2 / (2 * sigma**2))\n",
    "            # loglikes = loglikes[~np.isinf(loglikes)]\n",
    "            # self[(mu, sigma)] += loglikes.sum()\n",
    "            \n",
    "            # Compute log-likelihood with summation.\n",
    "            # n = len(data)\n",
    "            # a = -n * np.log(np.sqrt(2 * np.pi) * sigma)\n",
    "            # b = np.sum((data - mu)**2) / (-2 * sigma**2)\n",
    "            # loglike1 = a + b\n",
    "            # self[(mu, sigma)] += loglike\n",
    "            \n",
    "            # Compute log-likelihood with caching.\n",
    "            # Refer to book for the exact equation.\n",
    "            # Note that the term a leaves out the constant 1 / (sqrt(2 * \\pi) * sigma).\n",
    "            key = ('s', sigma)\n",
    "            ab = cache.get(key)\n",
    "            if not ab:\n",
    "                a = -len(data) * np.log(sigma)\n",
    "                b = -1 / (2 * sigma**2)\n",
    "                cache[key] = (a, b)\n",
    "            else:\n",
    "                a, b = ab\n",
    "                \n",
    "            key = ('m', mu)\n",
    "            c = cache.get(key)\n",
    "            if not c:\n",
    "                c = np.sum((data - mu) ** 2)\n",
    "                cache[key] = c\n",
    "            \n",
    "            loglike = a + (b * c)\n",
    "            self[(mu, sigma)] += loglike\n",
    "        \n",
    "        # Invert the transformation.\n",
    "        self[:] = np.exp(self.values - self.values.max())\n",
    "        \n",
    "        return self.normalize()\n",
    "    \n",
    "def normal_prior_from_data(heights, n=10, z=4):\n",
    "    \n",
    "    m, s = heights.mean(), heights.std()\n",
    "    \n",
    "    # Range for $\\mu$.\n",
    "    center = m\n",
    "    spread = s / np.sqrt(len(heights))\n",
    "    mus = np.linspace(center - z * spread, center + z * spread, n)\n",
    "    \n",
    "    # Range for $\\sigma$.\n",
    "    center = s\n",
    "    spread = s / np.sqrt(2 * (n - 1))\n",
    "    sigmas = np.linspace(center - z * spread, center + z * spread, n)\n",
    "    \n",
    "    return mus, sigmas\n",
    "\n",
    "def summarize_parameters(prm_m, prm_f):\n",
    "    mm, ms = prm_m.marginal(0), prm_m.marginal(1)\n",
    "    print('Male mu ~ (%.6lf, %.6lf), sigma ~ (%.6lf, %.6lf)' % (\n",
    "        mm.expectation(), mm.var(), ms.expectation(), ms.var()))\n",
    "\n",
    "    mm, ms = prm_f.marginal(0), prm_f.marginal(1)\n",
    "    print('Female mu ~ (%.6lf, %.6lf), sigma ~ (%.6lf, %.6lf)' % (\n",
    "        mm.expectation(), mm.var(), ms.expectation(), ms.var()))\n",
    "\n",
    "    fig, [ax1, ax2] = plt.subplots(1, 2, figsize=(20, 4))\n",
    "    ax1.pcolormesh(*mtb.Joint.contour_args(prm_m), cmap=matplotlib.cm.Blues)\n",
    "    ax1.set_xlabel('$\\mu$')\n",
    "    ax1.set_ylabel('$\\sigma$')\n",
    "    ax1.set_title('Male')\n",
    "    ax2.pcolormesh(*mtb.Joint.contour_args(prm_f), cmap=matplotlib.cm.Blues)\n",
    "    ax2.set_xlabel('$\\mu$')\n",
    "    ax2.set_ylabel('$\\sigma$')\n",
    "    ax2.set_title('Female')\n",
    "    plt.suptitle('Posterior Parameters')\n",
    "    plt.show()\n",
    "    \n",
    "prm_m = NormalParameters(*normal_prior_from_data(df_m.htm3))\n",
    "prm_f = NormalParameters(*normal_prior_from_data(df_f.htm3))\n",
    "prm_m.logupdate(df_m.htm3.values)\n",
    "prm_f.logupdate(df_f.htm3.values)\n",
    "summarize_parameters(prm_m, prm_f)\n",
    "\n",
    "prm_m = NormalParameters(*normal_prior_from_data(df_m.htm3))\n",
    "prm_f = NormalParameters(*normal_prior_from_data(df_f.htm3))\n",
    "prm_m.logupdatefast(df_m.htm3.values)\n",
    "prm_f.logupdatefast(df_f.htm3.values)\n",
    "summarize_parameters(prm_m, prm_f)"
   ]
  },
  {
   "cell_type": "code",
   "execution_count": null,
   "metadata": {},
   "outputs": [],
   "source": []
  }
 ],
 "metadata": {
  "kernelspec": {
   "display_name": "Python 3",
   "language": "python",
   "name": "python3"
  },
  "language_info": {
   "codemirror_mode": {
    "name": "ipython",
    "version": 3
   },
   "file_extension": ".py",
   "mimetype": "text/x-python",
   "name": "python",
   "nbconvert_exporter": "python",
   "pygments_lexer": "ipython3",
   "version": "3.5.2"
  }
 },
 "nbformat": 4,
 "nbformat_minor": 1
}
