{
 "cells": [
  {
   "cell_type": "markdown",
   "metadata": {},
   "source": [
    "# Examples and Exercises from Think Stats, 2nd Edition\n",
    "\n",
    "http://thinkstats2.com\n",
    "\n",
    "Copyright 2016 Allen B. Downey\n",
    "\n",
    "MIT License: https://opensource.org/licenses/MIT\n"
   ]
  },
  {
   "cell_type": "code",
   "execution_count": 1,
   "metadata": {},
   "outputs": [
    {
     "name": "stdout",
     "output_type": "stream",
     "text": [
      "Ready\n"
     ]
    }
   ],
   "source": [
    "from __future__ import print_function, division\n",
    "\n",
    "%load_ext autoreload\n",
    "%autoreload 2\n",
    "%matplotlib inline\n",
    "\n",
    "import matplotlib.pyplot as plt\n",
    "import mythinkstats as mts\n",
    "import numpy as np\n",
    "import pandas as pd\n",
    "import random\n",
    "\n",
    "print('Ready')"
   ]
  },
  {
   "cell_type": "markdown",
   "metadata": {},
   "source": [
    "## The estimation game\n"
   ]
  },
  {
   "cell_type": "markdown",
   "metadata": {},
   "source": [
    "Root mean squared error is one of several ways to summarize the average error of an estimation process."
   ]
  },
  {
   "cell_type": "code",
   "execution_count": 2,
   "metadata": {},
   "outputs": [],
   "source": [
    "# Implemented mts.est_rmse()."
   ]
  },
  {
   "cell_type": "markdown",
   "metadata": {},
   "source": [
    "The following function simulates experiments where we try to estimate the mean of a population based on a sample with size `n=7`.  We run `iters=1000` experiments and collect the mean and median of each sample."
   ]
  },
  {
   "cell_type": "code",
   "execution_count": 3,
   "metadata": {},
   "outputs": [
    {
     "name": "stdout",
     "output_type": "stream",
     "text": [
      "RMSE(sample means, mu)=0.384\n",
      "RMSE(sample medians, mu)=0.474\n"
     ]
    }
   ],
   "source": [
    "n = 7     # Single sample size.\n",
    "m = 1000  # Number of samples taken.\n",
    "mu = 0\n",
    "sigma = 1\n",
    "samples = np.random.normal(mu, sigma, (m, n))\n",
    "sample_means = np.mean(samples, axis=1)\n",
    "sample_medians = np.median(samples, axis=1)\n",
    "\n",
    "print('RMSE(sample means, mu)=%.3lf' % mts.est_rmse(sample_means, mu))\n",
    "print('RMSE(sample medians, mu)=%.3lf' % mts.est_rmse(sample_medians, mu))"
   ]
  },
  {
   "cell_type": "markdown",
   "metadata": {},
   "source": [
    "Using $\\bar{x}$ to estimate the mean works a little better than using the median; in the long run, it minimizes RMSE.  But using the median is more robust in the presence of outliers or large errors.\n",
    "\n",
    "\n",
    "## Estimating variance\n",
    "\n",
    "The obvious way to estimate the variance of a population is to compute the variance of the sample, $S^2$, but that turns out to be a biased estimator; that is, in the long run, the average error doesn't converge to 0.\n",
    "\n",
    "The following function computes the mean error for a collection of estimates."
   ]
  },
  {
   "cell_type": "code",
   "execution_count": 4,
   "metadata": {},
   "outputs": [],
   "source": [
    "# Implemented mts.est_mean_error()."
   ]
  },
  {
   "cell_type": "markdown",
   "metadata": {},
   "source": [
    "The following function simulates experiments where we try to estimate the variance of a population based on a sample with size `n=7`.  We run `iters=1000` experiments and two estimates for each sample, $S^2$ and $S_{n-1}^2$."
   ]
  },
  {
   "cell_type": "code",
   "execution_count": 5,
   "metadata": {},
   "outputs": [
    {
     "name": "stdout",
     "output_type": "stream",
     "text": [
      "Mean error(true, biased)=-0.145\n",
      "Mean error(true, unbiased)=-0.003\n"
     ]
    }
   ],
   "source": [
    "n = 7\n",
    "m = 1000\n",
    "mu = 0\n",
    "sigma = 1\n",
    "samples = np.random.normal(0, 1, (m, n))\n",
    "sample_vars = np.var(samples, axis=1)\n",
    "sample_vars_ = np.var(samples, axis=1, ddof=1)\n",
    "\n",
    "print('Mean error(true, biased)=%.3lf' % mts.est_mean_error(sample_vars, sigma**2))\n",
    "print('Mean error(true, unbiased)=%.3lf' % mts.est_mean_error(sample_vars_, sigma**2))"
   ]
  },
  {
   "cell_type": "markdown",
   "metadata": {},
   "source": [
    "The mean error for $S^2$ is non-zero, which suggests that it is biased.  The mean error for $S_{n-1}^2$ is close to zero, and gets even smaller if we increase `iters`."
   ]
  },
  {
   "cell_type": "markdown",
   "metadata": {},
   "source": [
    "## The sampling distribution\n",
    "\n",
    "The following function simulates experiments where we estimate the mean of a population using $\\bar{x}$, and returns a list of estimates, one from each experiment."
   ]
  },
  {
   "cell_type": "code",
   "execution_count": 6,
   "metadata": {},
   "outputs": [
    {
     "data": {
      "text/plain": [
       "array([90.39047574, 91.43941407, 90.15709336, 86.41060993, 91.41915614,\n",
       "       89.90719865, 90.05307899, 91.72354346, 90.26258372, 89.10911091])"
      ]
     },
     "execution_count": 6,
     "metadata": {},
     "output_type": "execute_result"
    }
   ],
   "source": [
    "# This is trivial to implement without a function.\n",
    "n, m = 9, 1000\n",
    "mu, sigma = 90, 7.5\n",
    "samples = np.random.normal(mu, sigma, (m, n))\n",
    "sample_means = np.mean(samples, axis=1)\n",
    "sample_means[:10]"
   ]
  },
  {
   "cell_type": "markdown",
   "metadata": {},
   "source": [
    "Here's the \"sampling distribution of the mean\" which shows how much we should expect $\\bar{x}$ to vary from one experiment to the next."
   ]
  },
  {
   "cell_type": "code",
   "execution_count": 7,
   "metadata": {},
   "outputs": [
    {
     "data": {
      "image/png": "[encoded data removed]",
      "text/plain": [
       "<matplotlib.figure.Figure at 0x7f9df770dcc0>"
      ]
     },
     "metadata": {},
     "output_type": "display_data"
    }
   ],
   "source": [
    "sample_means_pmf = pd.Series(sample_means).value_counts(normalize=True)\n",
    "sample_means_cdf = mts.pmf_to_cdf(sample_means_pmf)\n",
    "plt.figure(figsize=(20, 4))\n",
    "plt.axvline(mu, label='True mean=%.1lf' % mu, color='red')\n",
    "plt.axvline(np.mean(sample_means), color='green', label='Mean of sample means = %.1lf' % np.mean(sample_means))\n",
    "plt.plot(sample_means_cdf.index, sample_means_cdf.values)\n",
    "plt.ylabel('Sample mean')\n",
    "plt.xlabel('CDF')\n",
    "plt.legend()\n",
    "plt.show()"
   ]
  },
  {
   "cell_type": "markdown",
   "metadata": {},
   "source": [
    "The mean of the sample means is close to the actual value of $\\mu$."
   ]
  },
  {
   "cell_type": "code",
   "execution_count": 8,
   "metadata": {},
   "outputs": [
    {
     "data": {
      "text/plain": [
       "90.0384577708976"
      ]
     },
     "execution_count": 8,
     "metadata": {},
     "output_type": "execute_result"
    }
   ],
   "source": [
    "np.mean(sample_means)"
   ]
  },
  {
   "cell_type": "markdown",
   "metadata": {},
   "source": [
    "An interval that contains 90% of the values in the sampling disrtribution is called a 90% confidence interval."
   ]
  },
  {
   "cell_type": "code",
   "execution_count": 9,
   "metadata": {},
   "outputs": [
    {
     "data": {
      "text/plain": [
       "(86.089670697431, 94.2804197332504)"
      ]
     },
     "execution_count": 9,
     "metadata": {},
     "output_type": "execute_result"
    }
   ],
   "source": [
    "# Downey notes: People often think that there is a 90% probability that the actual parameter, \n",
    "# µ, falls in the 90% confidence interval. Sadly, that is not true.\n",
    "CI = mts.cdf_percentile(sample_means_cdf, 5), mts.cdf_percentile(sample_means_cdf, 95)\n",
    "CI"
   ]
  },
  {
   "cell_type": "markdown",
   "metadata": {},
   "source": [
    "And the RMSE of the sample means is called the standard error."
   ]
  },
  {
   "cell_type": "code",
   "execution_count": 10,
   "metadata": {},
   "outputs": [
    {
     "data": {
      "text/plain": [
       "2.5497064650098444"
      ]
     },
     "execution_count": 10,
     "metadata": {},
     "output_type": "execute_result"
    }
   ],
   "source": [
    "# Variance is to MSE as standard deviation is to RMSE.\n",
    "mts.est_rmse(sample_means, mu)"
   ]
  },
  {
   "cell_type": "markdown",
   "metadata": {},
   "source": [
    "Confidence intervals and standard errors quantify the variability in the estimate due to random sampling."
   ]
  },
  {
   "cell_type": "markdown",
   "metadata": {},
   "source": [
    "## Estimating rates\n",
    "\n",
    "The following function simulates experiments where we try to estimate the mean of an exponential distribution using the mean and median of a sample. "
   ]
  },
  {
   "cell_type": "code",
   "execution_count": 11,
   "metadata": {},
   "outputs": [
    {
     "name": "stdout",
     "output_type": "stream",
     "text": [
      "RMSE(L, lambda)=1.13\n",
      "RMSE(Lm, lambda)=1.65\n",
      "Mean error(L, lambda)=0.37\n",
      "Mean error(Lm, lambda)=0.46\n"
     ]
    }
   ],
   "source": [
    "n, m = 7, 1000\n",
    "lam = 2\n",
    "samples = np.random.exponential(1/lam, (m, n))\n",
    "sample_means = 1 / np.mean(samples, axis=1)\n",
    "sample_medians = np.log(2) / np.median(samples, axis=1)\n",
    "\n",
    "print('RMSE(L, lambda)=%.2lf' % mts.est_rmse(sample_means, lam))\n",
    "print('RMSE(Lm, lambda)=%.2lf' % mts.est_rmse(sample_medians, lam))\n",
    "print('Mean error(L, lambda)=%.2lf' % mts.est_mean_error(sample_means, lam))\n",
    "print('Mean error(Lm, lambda)=%.2lf' % mts.est_mean_error(sample_medians, lam))"
   ]
  },
  {
   "cell_type": "markdown",
   "metadata": {},
   "source": [
    "The RMSE is smaller for the sample mean than for the sample median.\n",
    "\n",
    "But neither estimator is unbiased."
   ]
  },
  {
   "cell_type": "markdown",
   "metadata": {},
   "source": [
    "## Exercises"
   ]
  },
  {
   "cell_type": "markdown",
   "metadata": {},
   "source": [
    "**Exercise:**  In this chapter we used $\\bar{x}$ and median to estimate µ, and found that $\\bar{x}$ yields lower MSE. Also, we used $S^2$ and $S_{n-1}^2$ to estimate σ, and found that $S^2$ is biased and $S_{n-1}^2$ unbiased.\n",
    "Run similar experiments to see if $\\bar{x}$ and median are biased estimates of µ. Also check whether $S^2$ or $S_{n-1}^2$ yields a lower MSE."
   ]
  },
  {
   "cell_type": "code",
   "execution_count": 12,
   "metadata": {},
   "outputs": [
    {
     "name": "stdout",
     "output_type": "stream",
     "text": [
      "True mu=0.00113, sigma^2=1.00575\n",
      "(128, 8)   0.022798 0.013432 0.205684 0.091389\n",
      "(256, 8)   0.013763 0.012650 0.141903 0.018495\n",
      "(512, 8)   0.008774 0.008815 0.119328 0.007305\n",
      "(1024, 8)  0.003238 0.003940 0.141232 0.017729\n",
      "(2048, 8)  0.007684 0.005966 0.123236 0.002837\n",
      "(4096, 8)  0.005653 0.007539 0.132116 0.007310\n",
      "(8192, 8)  0.007701 0.004185 0.124894 0.000943\n",
      "(16384, 8) 0.000000 0.002051 0.127104 0.001582\n"
     ]
    },
    {
     "data": {
      "image/png": "[encoded data removed]",
      "text/plain": [
       "<matplotlib.figure.Figure at 0x7f9df51703c8>"
      ]
     },
     "metadata": {},
     "output_type": "display_data"
    }
   ],
   "source": [
    "# Define a population, then check how the estimate errors changes as you take more \n",
    "# samples from the population. From the book: \"An estimator is unbiased if the expected\n",
    "# total (or mean) error after many iterations of the estimation game is 0.\"\n",
    "# Below we see that the following both mean estimators and the ddof variance estiamtor\n",
    "# is unbiased. The sample variance is a biased estimator for the variance.\n",
    "n = 8\n",
    "base = 2\n",
    "exp_range = np.arange(10, 18)\n",
    "population = np.random.normal(0, 1, base ** exp_range[-1])\n",
    "mu = np.mean(population)\n",
    "sigma = np.std(population)\n",
    "var = sigma**2\n",
    "print('True mu=%.5lf, sigma^2=%.5lf' % (mu, var))\n",
    "\n",
    "estimator_errors = [\n",
    "    ('$\\mu$ via $\\overline{x}$', []),\n",
    "    ('$\\mu$ via $m$', []),\n",
    "    ('$\\sigma^2$ via $S^2$', []),\n",
    "    ('$\\sigma^2$ via $S^2_{n-1}$', [])\n",
    "]\n",
    "\n",
    "for exp in exp_range:\n",
    "    \n",
    "    # Take a number of samples from the population.\n",
    "    samples = np.random.choice(population, size=base ** exp, replace=False)\n",
    "    samples = samples.reshape((int(base**exp/n), n))\n",
    "    \n",
    "    # Compute sample means and medians.\n",
    "    sample_means = np.mean(samples, axis=1)\n",
    "    sample_medians = np.median(samples, axis=1)\n",
    "    \n",
    "    # Compute sample variance and sample variance with n-1.\n",
    "    sample_var = np.var(samples, axis=1)\n",
    "    sample_var_nm1 = np.var(samples, axis=1, ddof=1)\n",
    "    \n",
    "    # Compute and store errors.\n",
    "    estimator_errors[0][1].append(abs((sample_means - mu).mean()))\n",
    "    estimator_errors[1][1].append(abs((sample_medians - mu).mean()))\n",
    "    estimator_errors[2][1].append(abs((sample_var - var).mean()))\n",
    "    estimator_errors[3][1].append(abs((sample_var_nm1 - var).mean()))\n",
    "    \n",
    "    # Print the errors.\n",
    "    print('%-10s %-5lf %-5lf %-5lf %-5lf' % (\n",
    "        str(samples.shape), *[ee[1][-1] for ee in estimator_errors]))\n",
    "\n",
    "for label, errors in estimator_errors:\n",
    "    plt.plot(base ** exp_range, errors, label=label)\n",
    "    \n",
    "plt.ylabel('Mean absolute error')\n",
    "plt.xlabel('Number of samples taken')\n",
    "plt.legend()\n",
    "plt.show()"
   ]
  },
  {
   "cell_type": "markdown",
   "metadata": {},
   "source": [
    "**Exercise:** Suppose you draw a sample with size n=10 from an exponential distribution with λ=2. Simulate this experiment 1000 times and plot the sampling distribution of the estimate L. Compute the standard error of the estimate and the 90% confidence interval.\n",
    "\n",
    "Repeat the experiment with a few different values of `n` and make a plot of standard error versus `n`.\n",
    "\n"
   ]
  },
  {
   "cell_type": "code",
   "execution_count": 13,
   "metadata": {},
   "outputs": [
    {
     "data": {
      "image/png": "[encoded data removed]",
      "text/plain": [
       "<matplotlib.figure.Figure at 0x7f9df53252b0>"
      ]
     },
     "metadata": {},
     "output_type": "display_data"
    }
   ],
   "source": [
    "# Definitions:\n",
    "# mean of exponential distribution is mu = 1/lambda\n",
    "# It follows that lambda = 1/mu\n",
    "# Since x-bar is an estimator for mu, L = 1/x-bar is an estimator for lambda.\n",
    "\n",
    "# Result:\n",
    "# When plotting the CDF for L over various sample sizes, we see that the CDF\n",
    "# becomes tighter around the true lambda value as we take larger samples.\n",
    "\n",
    "# Number of samples to take for each sample size.\n",
    "m = 500\n",
    "\n",
    "# Lambda param used to make population.\n",
    "lam = 3\n",
    "\n",
    "# Sample sizes.\n",
    "n_range = 10 ** np.arange(1, 4)\n",
    "\n",
    "# Population with more members than the largest sample.\n",
    "population = np.random.exponential(1/lam, (max(n_range) * 2 * m))\n",
    "\n",
    "# Lambda param derived from population.\n",
    "lam = 1 / population.mean()\n",
    "\n",
    "# Plot the population lambda value.\n",
    "plt.axvline(lam, color='gray', linestyle='--', label='Population $\\lambda$')\n",
    "\n",
    "# Estimate L for various sample sizes.\n",
    "for n in n_range:\n",
    "    \n",
    "    # Take m samples of size n.\n",
    "    sample = np.random.choice(population, int(m * n), replace=False)\n",
    "    sample = sample.reshape(m, n)\n",
    "    \n",
    "    # Compute estiamte L for each sample.\n",
    "    Ls = 1 / sample.mean(axis=1)\n",
    "    \n",
    "    # Compute PMF and plot CDF of L values.\n",
    "    pmf = pd.Series(Ls).value_counts(normalize=True)\n",
    "    cdf = mts.pmf_to_cdf(pmf)\n",
    "    plt.plot(cdf.index, cdf.values, label='Sample size %d x %d' % sample.shape)\n",
    "    \n",
    "plt.ylabel('CDF')\n",
    "plt.xlabel('Estimate L')\n",
    "plt.legend()\n",
    "plt.show()"
   ]
  },
  {
   "cell_type": "markdown",
   "metadata": {},
   "source": [
    "**Exercise:** In games like hockey and soccer, the time between goals is roughly exponential. So you could estimate a team’s goal-scoring rate by observing the number of goals they score in a game. This estimation process is a little different from sampling the time between goals, so let’s see how it works.\n",
    "\n",
    "Write a function that takes a goal-scoring rate, `lam`, in goals per game, and simulates a game by generating the time between goals until the total time exceeds 1 game, then returns the number of goals scored.\n",
    "\n",
    "Write another function that simulates many games, stores the estimates of `lam`, then computes their mean error and RMSE.\n",
    "\n",
    "Is this way of making an estimate biased?"
   ]
  },
  {
   "cell_type": "code",
   "execution_count": 14,
   "metadata": {},
   "outputs": [],
   "source": [
    "def simulate_single_game(lam):\n",
    "    \"\"\"Simulates a game and returns the estimated goal-scoring rate.\n",
    "    lam: actual goal scoring rate in goals per game.\"\"\"\n",
    "    g = t = 0\n",
    "    while t <= 1:\n",
    "        t += random.expovariate(lam)\n",
    "        g += int(t <= 1)\n",
    "    return g # L = number of goals scored.\n",
    "\n",
    "def simulate_many_games(lam, n):\n",
    "    \"\"\"Simulates many games and returns the mean error and RMSE\n",
    "    of the goals scored against lam.\"\"\"\n",
    "    Ls = np.array([simulate_single_game(lam) for _ in range(n)])\n",
    "    return mts.est_mean_error(Ls, lam), mts.est_rmse(Ls, lam)"
   ]
  },
  {
   "cell_type": "code",
   "execution_count": 15,
   "metadata": {},
   "outputs": [
    {
     "name": "stdout",
     "output_type": "stream",
     "text": [
      "10       -0.200   1.000   \n",
      "100      0.170    1.439   \n",
      "1000     -0.035   1.372   \n",
      "10000    0.009    1.420   \n",
      "100000   -0.013   1.406   \n",
      "1000000  0.000    1.415   \n"
     ]
    }
   ],
   "source": [
    "# Based on the fact that the mean error converges to 0, \n",
    "# this method for estimation appears to be un-biased.\n",
    "lam = 2\n",
    "for n in 10 ** np.arange(1, 7):\n",
    "    me, rmse = simulate_many_games(lam, n)\n",
    "    print('%-8d %-8.3lf %-8.3lf' % (n, me, rmse))"
   ]
  },
  {
   "cell_type": "code",
   "execution_count": 16,
   "metadata": {},
   "outputs": [
    {
     "name": "stdout",
     "output_type": "stream",
     "text": [
      "Done\n"
     ]
    }
   ],
   "source": [
    "print('Done')"
   ]
  }
 ],
 "metadata": {
  "kernelspec": {
   "display_name": "Python 3",
   "language": "python",
   "name": "python3"
  },
  "language_info": {
   "codemirror_mode": {
    "name": "ipython",
    "version": 3
   },
   "file_extension": ".py",
   "mimetype": "text/x-python",
   "name": "python",
   "nbconvert_exporter": "python",
   "pygments_lexer": "ipython3",
   "version": "3.5.2"
  }
 },
 "nbformat": 4,
 "nbformat_minor": 1
}
